{
  "nbformat": 4,
  "nbformat_minor": 0,
  "metadata": {
    "kernelspec": {
      "display_name": "Python 3",
      "language": "python",
      "name": "python3"
    },
    "language_info": {
      "codemirror_mode": {
        "name": "ipython",
        "version": 3
      },
      "file_extension": ".py",
      "mimetype": "text/x-python",
      "name": "python",
      "nbconvert_exporter": "python",
      "pygments_lexer": "ipython3",
      "version": "3.7.0"
    },
    "colab": {
      "name": "08-test_driven_development.ipynb",
      "provenance": [],
      "toc_visible": true
    }
  },
  "cells": [
    {
      "cell_type": "markdown",
      "metadata": {
        "id": "qHtO18WB9y7P",
        "colab_type": "text"
      },
      "source": [
        "\n",
        "<a href=\"https://colab.research.google.com/github/aviadr1/learn-advanced-python/blob/master/content/08_test_driven_development/08-test_driven_development.ipynb\" target=\"_blank\">\n",
        "<img src=\"https://colab.research.google.com/assets/colab-badge.svg\" \n",
        "     title=\"Open this file in Google Colab\" alt=\"Colab\"/>\n",
        "</a>\n"
      ]
    },
    {
      "cell_type": "markdown",
      "metadata": {
        "id": "awpj1eiRUuKM",
        "colab_type": "text"
      },
      "source": [
        "# useful resources:\n",
        "1. https://stackabuse.com/test-driven-development-with-pytest/\n",
        "2. https://docs.pytest.org/en/latest/goodpractices.html#conventions-for-python-test-discovery\n",
        "3. https://blog.ionelmc.ro/2014/05/25/python-packaging/#the-structure\n",
        "4. https://github.com/vanzaj/tdd-pytest/blob/master/docs/tdd-pytest/content/tdd-basics.md\n",
        "\n"
      ]
    },
    {
      "cell_type": "markdown",
      "metadata": {
        "id": "GPIt7vgv97Vu",
        "colab_type": "text"
      },
      "source": [
        "# setup"
      ]
    },
    {
      "cell_type": "markdown",
      "metadata": {
        "id": "pd8QNG1J9y7U",
        "colab_type": "text"
      },
      "source": [
        "1. install `pytest`\n",
        "2. install ipytest so we can run tests in the jupyter notebook"
      ]
    },
    {
      "cell_type": "code",
      "metadata": {
        "id": "-OAK0map9y7X",
        "colab_type": "code",
        "colab": {}
      },
      "source": [
        "pip -q install ipytest pytest"
      ],
      "execution_count": 0,
      "outputs": []
    },
    {
      "cell_type": "code",
      "metadata": {
        "id": "PvUWrFRfV33t",
        "colab_type": "code",
        "colab": {
          "base_uri": "https://localhost:8080/",
          "height": 34
        },
        "outputId": "d5ef9515-19e9-4306-ebd6-ecb5a1665d18"
      },
      "source": [
        "# move to tdd directory\n",
        "from pathlib import Path\n",
        "if Path.cwd().name != 'tdd':\n",
        "    %mkdir tdd\n",
        "    %cd tdd\n",
        "\n",
        "%pwd"
      ],
      "execution_count": 40,
      "outputs": [
        {
          "output_type": "execute_result",
          "data": {
            "text/plain": [
              "'/content/tdd/tdd'"
            ]
          },
          "metadata": {
            "tags": []
          },
          "execution_count": 40
        }
      ]
    },
    {
      "cell_type": "code",
      "metadata": {
        "id": "WrRF4Qh2W_Xk",
        "colab_type": "code",
        "colab": {}
      },
      "source": [
        "# cleanup all files\n",
        "%rm *.py"
      ],
      "execution_count": 0,
      "outputs": []
    },
    {
      "cell_type": "markdown",
      "metadata": {
        "id": "Kf6oTuWX9y7g",
        "colab_type": "text"
      },
      "source": [
        "initialize `ipytest` so it finds the tests we write in this notebook"
      ]
    },
    {
      "cell_type": "code",
      "metadata": {
        "id": "3Q3jmQ4N9y7h",
        "colab_type": "code",
        "colab": {}
      },
      "source": [
        "import pytest\n",
        "import ipytest\n",
        "\n",
        "# enable pytest's assertions and ipytest's magics\n",
        "ipytest.config(rewrite_asserts=True, magics=True)\n",
        "\n",
        "# set the filename\n",
        "__file__ = 'adv python 08 - test driven development.ipynb'\n",
        "\n"
      ],
      "execution_count": 0,
      "outputs": []
    },
    {
      "cell_type": "markdown",
      "metadata": {
        "id": "WB1QY4sbPs4-",
        "colab_type": "text"
      },
      "source": [
        "# Getting started\n",
        "Lets start first by seeing the basics of pytest\n",
        "\n",
        "# our first test\n",
        "\n",
        "- pytests uses the following [conventions](https://docs.pytest.org/en/latest/goodpractices.html#conventions-for-python-test-discovery) to automatically discovering tests:\n",
        "  1. files with tests should be called `test_*.py` or `*_test.py `\n",
        "  2. test function name should start with `test_`\n",
        "\n",
        "- to see if our code works, we can use the `assert` python keyword. pytest adds hooks to assertions to make them more useful"
      ]
    },
    {
      "cell_type": "code",
      "metadata": {
        "id": "9acpZigRVANF",
        "colab_type": "code",
        "colab": {
          "base_uri": "https://localhost:8080/",
          "height": 34
        },
        "outputId": "82ada314-3e4d-481c-dbb8-98bec8cf8005"
      },
      "source": [
        "%%file test_math.py\n",
        "\n",
        "import math\n",
        "def test_add():\n",
        "    assert 1+1 == 2\n",
        "\n",
        "def test_mul():\n",
        "    assert 6*7 == 42\n",
        "\n",
        "def test_sin():\n",
        "    assert math.sin(0) == 0"
      ],
      "execution_count": 28,
      "outputs": [
        {
          "output_type": "stream",
          "text": [
            "Writing test_math.py\n"
          ],
          "name": "stdout"
        }
      ]
    },
    {
      "cell_type": "markdown",
      "metadata": {
        "id": "XTBnZ3-vVe0p",
        "colab_type": "text"
      },
      "source": [
        "now lets run pytest"
      ]
    },
    {
      "cell_type": "code",
      "metadata": {
        "id": "DXBQkMc8VeD8",
        "colab_type": "code",
        "colab": {
          "base_uri": "https://localhost:8080/",
          "height": 158
        },
        "outputId": "93e7de40-cbef-4920-fce6-0fe25a31d6b8"
      },
      "source": [
        "!python -m pytest test_math.py "
      ],
      "execution_count": 31,
      "outputs": [
        {
          "output_type": "stream",
          "text": [
            "\u001b[1m============================= test session starts ==============================\u001b[0m\n",
            "platform linux -- Python 3.6.9, pytest-3.6.4, py-1.8.1, pluggy-0.7.1\n",
            "rootdir: /content, inifile:\n",
            "\u001b[1m\rcollecting 0 items                                                             \u001b[0m\u001b[1m\rcollecting 3 items                                                             \u001b[0m\u001b[1m\rcollected 3 items                                                              \u001b[0m\n",
            "\n",
            "test_math.py ...\u001b[36m                                                         [100%]\u001b[0m\n",
            "\n",
            "\u001b[32m\u001b[1m=========================== 3 passed in 0.01 seconds ===========================\u001b[0m\n"
          ],
          "name": "stdout"
        }
      ]
    },
    {
      "cell_type": "markdown",
      "metadata": {
        "id": "D2x5SB05XNAF",
        "colab_type": "text"
      },
      "source": [
        "Great! we just wrote 3 tests that shows that basic math still works\n",
        "\n",
        "Hurray!"
      ]
    },
    {
      "cell_type": "markdown",
      "metadata": {
        "id": "CKfU1dK3YMLQ",
        "colab_type": "text"
      },
      "source": [
        "# your turn\n",
        "\n",
        "write a test for the following function. \n",
        "\n",
        "if there is a bug in the function, fix it\n"
      ]
    },
    {
      "cell_type": "code",
      "metadata": {
        "id": "nebAftmgbo-X",
        "colab_type": "code",
        "colab": {
          "base_uri": "https://localhost:8080/",
          "height": 34
        },
        "outputId": "c97d466e-56c1-48ff-a15d-528165c13300"
      },
      "source": [
        "%%file make_triangle.py\n",
        "\n",
        "# version 1\n",
        "\n",
        "def make_triangle(n):\n",
        "    \"\"\"\n",
        "    draws a triangle using '@' letters\n",
        "    for instance:\n",
        "        >>> print('\\n'.join(make_triangle(3))\n",
        "        @\n",
        "        @@\n",
        "        @@@\n",
        "    \"\"\"\n",
        "\n",
        "    for i in range(n):\n",
        "        yield '@' * i\n"
      ],
      "execution_count": 1,
      "outputs": [
        {
          "output_type": "stream",
          "text": [
            "Writing make_triangle.py\n"
          ],
          "name": "stdout"
        }
      ]
    },
    {
      "cell_type": "markdown",
      "metadata": {
        "id": "WWIGFnRQcNUc",
        "colab_type": "text"
      },
      "source": [
        "# solution\n"
      ]
    },
    {
      "cell_type": "code",
      "metadata": {
        "id": "rWHxUDs3cYSr",
        "colab_type": "code",
        "colab": {
          "base_uri": "https://localhost:8080/",
          "height": 34
        },
        "outputId": "805c97eb-1e62-44ac-f2cd-6d085622f9df"
      },
      "source": [
        "%%file test_make_triangle.py\n",
        "\n",
        "from make_triangle import make_triangle\n",
        "\n",
        "def test_make_triangle():\n",
        "    expected = \"@\"\n",
        "    actual = '\\n'.join(make_triangle(1))\n",
        "    assert actual == expected"
      ],
      "execution_count": 19,
      "outputs": [
        {
          "output_type": "stream",
          "text": [
            "Overwriting test_make_triangle.py\n"
          ],
          "name": "stdout"
        }
      ]
    },
    {
      "cell_type": "code",
      "metadata": {
        "id": "IInhHAiIc0ft",
        "colab_type": "code",
        "colab": {
          "base_uri": "https://localhost:8080/",
          "height": 351
        },
        "outputId": "a976e779-1afa-4698-fa9d-d0961c08e52d"
      },
      "source": [
        "!python -m pytest test_make_triangle.py"
      ],
      "execution_count": 32,
      "outputs": [
        {
          "output_type": "stream",
          "text": [
            "\u001b[1m============================= test session starts ==============================\u001b[0m\n",
            "platform linux -- Python 3.6.9, pytest-3.6.4, py-1.8.1, pluggy-0.7.1\n",
            "rootdir: /content, inifile:\n",
            "\u001b[1m\rcollecting 0 items                                                             \u001b[0m\u001b[1m\rcollecting 1 item                                                              \u001b[0m\u001b[1m\rcollected 1 item                                                               \u001b[0m\n",
            "\n",
            "test_make_triangle.py F\u001b[36m                                                  [100%]\u001b[0m\n",
            "\n",
            "=================================== FAILURES ===================================\n",
            "\u001b[31m\u001b[1m______________________________ test_make_triangle ______________________________\u001b[0m\n",
            "\n",
            "\u001b[1m    def test_make_triangle():\u001b[0m\n",
            "\u001b[1m        expected = \"@\"\u001b[0m\n",
            "\u001b[1m        actual = '\\n'.join(make_triangle(1))\u001b[0m\n",
            "\u001b[1m>       assert actual == expected\u001b[0m\n",
            "\u001b[1m\u001b[31mE       AssertionError: assert '' == '@'\u001b[0m\n",
            "\u001b[1m\u001b[31mE         + @\u001b[0m\n",
            "\n",
            "\u001b[1m\u001b[31mtest_make_triangle.py\u001b[0m:7: AssertionError\n",
            "\u001b[31m\u001b[1m=========================== 1 failed in 0.02 seconds ===========================\u001b[0m\n"
          ],
          "name": "stdout"
        }
      ]
    },
    {
      "cell_type": "markdown",
      "metadata": {
        "id": "CmU6gxq2hc77",
        "colab_type": "text"
      },
      "source": [
        "so the expected is `'@'` and the actual is `''` ...\n",
        "\n",
        "this is a bug! lets fix the code and re-run"
      ]
    },
    {
      "cell_type": "code",
      "metadata": {
        "id": "opFtkK3WhtPZ",
        "colab_type": "code",
        "colab": {
          "base_uri": "https://localhost:8080/",
          "height": 34
        },
        "outputId": "26a8bc29-99c1-44d6-8c3e-27ac78ba81ef"
      },
      "source": [
        "%%file make_triangle.py\n",
        "\n",
        "# version 2 \n",
        "def make_triangle(n):\n",
        "    \"\"\"\n",
        "    draws a triangle using '@' letters\n",
        "    for instance:\n",
        "        >>> print('\\n'.join(make_triangle(3))\n",
        "        @\n",
        "        @@\n",
        "        @@@\n",
        "    \"\"\"\n",
        "\n",
        "    for i in range(1, n+1):\n",
        "        yield '@' * i"
      ],
      "execution_count": 33,
      "outputs": [
        {
          "output_type": "stream",
          "text": [
            "Overwriting make_triangle.py\n"
          ],
          "name": "stdout"
        }
      ]
    },
    {
      "cell_type": "code",
      "metadata": {
        "id": "6nw_HYIjh2qh",
        "colab_type": "code",
        "colab": {
          "base_uri": "https://localhost:8080/",
          "height": 158
        },
        "outputId": "8096fd15-0a38-4584-c8c3-41b74769db94"
      },
      "source": [
        "!python -m pytest test_make_triangle.py"
      ],
      "execution_count": 34,
      "outputs": [
        {
          "output_type": "stream",
          "text": [
            "\u001b[1m============================= test session starts ==============================\u001b[0m\n",
            "platform linux -- Python 3.6.9, pytest-3.6.4, py-1.8.1, pluggy-0.7.1\n",
            "rootdir: /content, inifile:\n",
            "\u001b[1m\rcollecting 0 items                                                             \u001b[0m\u001b[1m\rcollecting 1 item                                                              \u001b[0m\u001b[1m\rcollected 1 item                                                               \u001b[0m\n",
            "\n",
            "test_make_triangle.py .\u001b[36m                                                  [100%]\u001b[0m\n",
            "\n",
            "\u001b[32m\u001b[1m=========================== 1 passed in 0.01 seconds ===========================\u001b[0m\n"
          ],
          "name": "stdout"
        }
      ]
    },
    {
      "cell_type": "markdown",
      "metadata": {
        "id": "v90fn0mbitTu",
        "colab_type": "text"
      },
      "source": [
        "# Using fixtures to simplify tests\n",
        "\n"
      ]
    },
    {
      "cell_type": "markdown",
      "metadata": {
        "id": "W1NkKG7PlQyk",
        "colab_type": "text"
      },
      "source": [
        "## Motivating example\n",
        "\n",
        "Lets look at an example of class `Person`, where each person has a name and remembers their friends."
      ]
    },
    {
      "cell_type": "code",
      "metadata": {
        "id": "gNw35je2i9iA",
        "colab_type": "code",
        "colab": {
          "base_uri": "https://localhost:8080/",
          "height": 34
        },
        "outputId": "098c5f0f-2ba7-41cc-cdfa-b6f4e97f3f21"
      },
      "source": [
        "%%file person.py\n",
        "\n",
        "#version 1\n",
        "class Person:\n",
        "    def __init__(self, name, favorite_color, year_born):\n",
        "        self.name = name\n",
        "        self.favorite_color = favorite_color\n",
        "        self.year_born = year_born\n",
        "        self.friends = set()\n",
        "\n",
        "    def add_friend(self, other_person):\n",
        "        self.friends.add(other_person)\n",
        "        other_person.friends.add(self)\n",
        "\n",
        "    def __repr__(self):\n",
        "        return f'Person(name={self.name!r}, '  \\\n",
        "               f'favorite_color={self.favorite_color!r}, ' \\\n",
        "               f'year_born={self.year_born!r}, ' \\\n",
        "               f'friends={[f.name for f in self.friends]})'\n"
      ],
      "execution_count": 5,
      "outputs": [
        {
          "output_type": "stream",
          "text": [
            "Writing person.py\n"
          ],
          "name": "stdout"
        }
      ]
    },
    {
      "cell_type": "markdown",
      "metadata": {
        "id": "hqOAgl_olosJ",
        "colab_type": "text"
      },
      "source": [
        "Lets write a test for `add_friend()` function.\n",
        "\n",
        "notice how the setup for the test is taking so much of the function, while also requiring _inventing_ a lot of repetitious data\n",
        "\n",
        "is there a way to reduce this boiler plate code"
      ]
    },
    {
      "cell_type": "code",
      "metadata": {
        "id": "H7kOQpl3j01h",
        "colab_type": "code",
        "colab": {
          "base_uri": "https://localhost:8080/",
          "height": 34
        },
        "outputId": "07896c96-4249-4a1c-d72c-bfaf3d435cae"
      },
      "source": [
        "%%file test_person.py\n",
        "\n",
        "from person import Person\n",
        "\n",
        "def test_name():\n",
        "    # setup\n",
        "    terry = Person(\n",
        "        'Terry Gilliam',\n",
        "        'red',\n",
        "        1940\n",
        "        )\n",
        "    \n",
        "    # test\n",
        "    assert terry.name == 'Terry Gilliam' \n",
        "\n",
        "\n",
        "def test_add_friend():\n",
        "    # setup for the test \n",
        "    terry = Person(\n",
        "        'Terry Gilliam',\n",
        "        'red',\n",
        "        1940\n",
        "        )\n",
        "    eric = Person(\n",
        "        'Eric Idle',\n",
        "        'blue',\n",
        "        1943\n",
        "        )\n",
        "    \n",
        "    # actual test\n",
        "    terry.add_friend(eric)\n",
        "    assert eric in terry.friends\n",
        "    assert terry in eric.friends"
      ],
      "execution_count": 83,
      "outputs": [
        {
          "output_type": "stream",
          "text": [
            "Overwriting test_person.py\n"
          ],
          "name": "stdout"
        }
      ]
    },
    {
      "cell_type": "code",
      "metadata": {
        "id": "KYMxE55mjt02",
        "colab_type": "code",
        "colab": {
          "base_uri": "https://localhost:8080/",
          "height": 52
        },
        "outputId": "58448a59-0222-420a-a981-ebc1a81fe952"
      },
      "source": [
        "!python -m pytest -q test_person.py"
      ],
      "execution_count": 85,
      "outputs": [
        {
          "output_type": "stream",
          "text": [
            "..\u001b[36m                                                                       [100%]\u001b[0m\n",
            "\u001b[32m\u001b[1m2 passed in 0.01 seconds\u001b[0m\n"
          ],
          "name": "stdout"
        }
      ]
    },
    {
      "cell_type": "markdown",
      "metadata": {
        "id": "pu8SxYwXp0n6",
        "colab_type": "text"
      },
      "source": [
        "## Fixtures to the rescue\n",
        "\n"
      ]
    },
    {
      "cell_type": "markdown",
      "metadata": {
        "id": "8G6Yj8hvq4hh",
        "colab_type": "text"
      },
      "source": [
        "\n",
        "what is we had a magic factory that can conjure up a name, favorite color and birth year?\n",
        "\n",
        "then we could write our `test_name()` more simply like this:\n",
        "\n",
        "```python\n",
        "def test_name(person_name, favorite_color, birth_year):\n",
        "    person = Person(person_name, favorite_color, birth_year)\n",
        "    \n",
        "    # test\n",
        "    assert person.name == person_name \n",
        "```\n"
      ]
    },
    {
      "cell_type": "markdown",
      "metadata": {
        "id": "AJiA16D9q8Qc",
        "colab_type": "text"
      },
      "source": [
        "furthermore, if we had a magic factory that can create `terry` and `eric` we could write our `test_add_friend()` function like this:\n",
        "\n",
        "```python\n",
        "def test_add_friend(eric, terry):\n",
        "    eric.add_friend(terry)\n",
        "    assert eric in terry.friends\n",
        "    assert terry in eric.friends\n",
        "```\n"
      ]
    },
    {
      "cell_type": "markdown",
      "metadata": {
        "id": "TmzljhcnrZii",
        "colab_type": "text"
      },
      "source": [
        "fixtures in `pytest` allow us to create such magic factories using the `@pytest.fixture` notation.\n",
        "\n",
        "here's an example:"
      ]
    },
    {
      "cell_type": "code",
      "metadata": {
        "id": "lfC-AO6PqMIP",
        "colab_type": "code",
        "colab": {
          "base_uri": "https://localhost:8080/",
          "height": 34
        },
        "outputId": "1d93cd1d-3cef-4e6a-e69f-5ab695205124"
      },
      "source": [
        "%%file test_person_fixtures1.py\n",
        "\n",
        "import pytest\n",
        "from person import Person\n",
        "\n",
        "@pytest.fixture\n",
        "def person_name():\n",
        "    return 'Terry Gilliam'\n",
        "\n",
        "@pytest.fixture\n",
        "def birth_year():\n",
        "    return 1940\n",
        "\n",
        "@pytest.fixture\n",
        "def favorite_color():\n",
        "    return 'red'\n",
        "\n",
        "def test_person_name(person_name, favorite_color, birth_year):\n",
        "    person = Person(person_name, favorite_color, birth_year)\n",
        " \n",
        "    # test\n",
        "    assert person.name == person_name "
      ],
      "execution_count": 6,
      "outputs": [
        {
          "output_type": "stream",
          "text": [
            "Overwriting test_person_fixtures1.py\n"
          ],
          "name": "stdout"
        }
      ]
    },
    {
      "cell_type": "code",
      "metadata": {
        "id": "fsg5u51AsS3B",
        "colab_type": "code",
        "colab": {
          "base_uri": "https://localhost:8080/",
          "height": 158
        },
        "outputId": "d82c7d1d-c076-44cf-db7f-679b714b4532"
      },
      "source": [
        "!python -m pytest test_person_fixtures1.py"
      ],
      "execution_count": 7,
      "outputs": [
        {
          "output_type": "stream",
          "text": [
            "\u001b[1m============================= test session starts ==============================\u001b[0m\n",
            "platform linux -- Python 3.6.9, pytest-3.6.4, py-1.8.1, pluggy-0.7.1\n",
            "rootdir: /content, inifile:\n",
            "\u001b[1m\rcollecting 0 items                                                             \u001b[0m\u001b[1m\rcollecting 1 item                                                              \u001b[0m\u001b[1m\rcollected 1 item                                                               \u001b[0m\n",
            "\n",
            "test_person_fixtures1.py .\u001b[36m                                               [100%]\u001b[0m\n",
            "\n",
            "\u001b[32m\u001b[1m=========================== 1 passed in 0.02 seconds ===========================\u001b[0m\n"
          ],
          "name": "stdout"
        }
      ]
    },
    {
      "cell_type": "markdown",
      "metadata": {
        "id": "q4TIxQSBxYHo",
        "colab_type": "text"
      },
      "source": [
        "what's happening here?\n",
        "\n",
        "`pytest` sees that the test function `test_person_name(person_name, favorite_color, birth_year)` requires three parameters, and searches for fixtures annotated with `@pytest.fixture` with the same name.\n",
        "\n",
        "when it finds them, it calls these fixtures on our behalf, and passes the return value as the parameter. in effect, it calls\n",
        "\n",
        "```python\n",
        "test_person_name(person_name=person_name(), favorite_color=favorite_color(), birth_year=birth_year()\n",
        "```\n",
        "\n",
        "note how much code this saves"
      ]
    },
    {
      "cell_type": "markdown",
      "metadata": {
        "id": "itQIQgL1p1ub",
        "colab_type": "text"
      },
      "source": [
        "# your turn\n",
        "1. rewrite the `test_add_friend` function to accept two parameters `def test_add_friend(eric, terry)` \n",
        "2. write fixtures for eric and terry\n",
        "3. run pytest"
      ]
    },
    {
      "cell_type": "markdown",
      "metadata": {
        "id": "BwO3ul3PuEI5",
        "colab_type": "text"
      },
      "source": [
        "# solution\n"
      ]
    },
    {
      "cell_type": "code",
      "metadata": {
        "id": "ZgEClKykuFuM",
        "colab_type": "code",
        "colab": {
          "base_uri": "https://localhost:8080/",
          "height": 34
        },
        "outputId": "069f166a-70a5-461c-d845-59981d540cc6"
      },
      "source": [
        "%%file test_person_fixtures2.py\n",
        "\n",
        "import pytest\n",
        "from person import Person\n",
        "\n",
        "@pytest.fixture\n",
        "def eric():\n",
        "    return Person('Eric Idle', 'red', 1943)\n",
        "\n",
        "@pytest.fixture\n",
        "def terry():\n",
        "    return Person('Terry Gilliam', 'blue', 1940)\n",
        "\n",
        "def test_add_friend(eric, terry):\n",
        "    eric.add_friend(terry)\n",
        "    assert eric in terry.friends\n",
        "    assert terry in eric.friends\n",
        "    "
      ],
      "execution_count": 8,
      "outputs": [
        {
          "output_type": "stream",
          "text": [
            "Writing test_person_fixtures2.py\n"
          ],
          "name": "stdout"
        }
      ]
    },
    {
      "cell_type": "code",
      "metadata": {
        "id": "6-OxB-hXu0Gh",
        "colab_type": "code",
        "colab": {
          "base_uri": "https://localhost:8080/",
          "height": 52
        },
        "outputId": "94f228c4-1566-4ff7-d646-3a90ea5ef4f0"
      },
      "source": [
        "!python -m pytest -q test_person_fixtures2.py"
      ],
      "execution_count": 9,
      "outputs": [
        {
          "output_type": "stream",
          "text": [
            ".\u001b[36m                                                                        [100%]\u001b[0m\n",
            "\u001b[32m\u001b[1m1 passed in 0.02 seconds\u001b[0m\n"
          ],
          "name": "stdout"
        }
      ]
    },
    {
      "cell_type": "markdown",
      "metadata": {
        "colab_type": "text",
        "id": "A0AYxisCVDHa"
      },
      "source": [
        "# Codebase to test: class Person\n",
        "\n",
        "Lets reuse the `Person` and `OlympicRunner` classes we've defined in earlier chapters in order to see how to write tests\n"
      ]
    },
    {
      "cell_type": "code",
      "metadata": {
        "id": "xoLNB6529y7l",
        "colab_type": "code",
        "colab": {
          "base_uri": "https://localhost:8080/",
          "height": 34
        },
        "outputId": "5966f5b4-5090-4d43-ea08-6744455b48d3"
      },
      "source": [
        "%%file person.py\n",
        "\n",
        "# Person v1\n",
        "class Person:\n",
        "    def __init__(self, name):\n",
        "        name = name\n",
        "    def __repr__(self):\n",
        "        return f\"{type(self).__name__}({self.name!r})\"\n",
        "    def walk(self):\n",
        "        print(self.name, 'walking')\n",
        "    def run(self):\n",
        "        print(self.name,'running')\n",
        "    def swim(self):\n",
        "        print(self.name,'swimming')\n",
        "        \n",
        "class OlympicRunner(Person):\n",
        "    def run(self):\n",
        "        print(self.name,self.name,\"running incredibly fast!\")\n",
        "        \n",
        "    def show_medals(self):\n",
        "        print(self.name, 'showing my olympic medals')\n",
        "    \n",
        "def train(person):\n",
        "    person.walk()\n",
        "    person.swim()\n",
        "    person.run()"
      ],
      "execution_count": 26,
      "outputs": [
        {
          "output_type": "stream",
          "text": [
            "Overwriting person.py\n"
          ],
          "name": "stdout"
        }
      ]
    },
    {
      "cell_type": "markdown",
      "metadata": {
        "id": "TbPMcdlA-spP",
        "colab_type": "text"
      },
      "source": [
        "# our first test\n",
        "\n",
        "- [conventions](https://docs.pytest.org/en/latest/goodpractices.html#conventions-for-python-test-discovery) \n",
        "  1. files with tests should be called `test_*.py` or `*_test.py `\n",
        "  2. test function name should start with `test_`\n",
        "\n",
        "- to see if our code works, we can use the `assert` python keyword. pytest adds hooks to assertions to make them more useful"
      ]
    },
    {
      "cell_type": "code",
      "metadata": {
        "id": "XeURkKHH-qIk",
        "colab_type": "code",
        "colab": {
          "base_uri": "https://localhost:8080/",
          "height": 34
        },
        "outputId": "5614f16a-dc9a-42a3-d486-4e7a57af3cd5"
      },
      "source": [
        "%%file test_person1.py\n",
        "from person import Person\n",
        "\n",
        "# our first test\n",
        "def test_preson_name():\n",
        "    terry = Person('Terry Gilliam')\n",
        "    assert terry.name == 'Terry Gilliam'"
      ],
      "execution_count": 31,
      "outputs": [
        {
          "output_type": "stream",
          "text": [
            "Overwriting test_person1.py\n"
          ],
          "name": "stdout"
        }
      ]
    },
    {
      "cell_type": "code",
      "metadata": {
        "id": "K7vECkgGL5Y9",
        "colab_type": "code",
        "colab": {
          "base_uri": "https://localhost:8080/",
          "height": 316
        },
        "outputId": "840e30da-f11b-4ff4-cd64-064141fe9099"
      },
      "source": [
        "!python -m pytest"
      ],
      "execution_count": 32,
      "outputs": [
        {
          "output_type": "stream",
          "text": [
            "\u001b[1m============================= test session starts ==============================\u001b[0m\n",
            "platform linux -- Python 3.6.9, pytest-3.6.4, py-1.8.1, pluggy-0.7.1\n",
            "rootdir: /content, inifile:\n",
            "\u001b[1m\rcollecting 0 items                                                             \u001b[0m\u001b[1m\rcollecting 1 item                                                              \u001b[0m\u001b[1m\rcollected 1 item                                                               \u001b[0m\n",
            "\n",
            "test_person1.py F\u001b[36m                                                        [100%]\u001b[0m\n",
            "\n",
            "=================================== FAILURES ===================================\n",
            "\u001b[31m\u001b[1m_______________________________ test_preson_name _______________________________\u001b[0m\n",
            "\n",
            "\u001b[1m    def test_preson_name():\u001b[0m\n",
            "\u001b[1m        terry = Person('Terry Gilliam')\u001b[0m\n",
            "\u001b[1m>       assert terry.name == 'Terry Gilliam'\u001b[0m\n",
            "\u001b[1m\u001b[31mE       AttributeError: 'Person' object has no attribute 'name'\u001b[0m\n",
            "\n",
            "\u001b[1m\u001b[31mtest_person1.py\u001b[0m:6: AttributeError\n",
            "\u001b[31m\u001b[1m=========================== 1 failed in 0.03 seconds ===========================\u001b[0m\n"
          ],
          "name": "stdout"
        }
      ]
    },
    {
      "cell_type": "markdown",
      "metadata": {
        "id": "RiicargLAClz",
        "colab_type": "text"
      },
      "source": [
        "## lets run our tests\n"
      ]
    },
    {
      "cell_type": "code",
      "metadata": {
        "id": "c8F4LBwwAFLf",
        "colab_type": "code",
        "outputId": "8dbd169b-6f3a-4c66-bee5-95a6174237e8",
        "colab": {
          "base_uri": "https://localhost:8080/",
          "height": 70
        }
      },
      "source": [
        "# execute the tests via pytest, arguments are passed to pytest\n",
        "ipytest.run('-qq')"
      ],
      "execution_count": 0,
      "outputs": [
        {
          "output_type": "stream",
          "text": [
            "\n"
          ],
          "name": "stdout"
        },
        {
          "output_type": "stream",
          "text": [
            "ERROR: file not found: adv python 08 - test driven development.ipynb\n",
            "\n"
          ],
          "name": "stderr"
        }
      ]
    },
    {
      "cell_type": "markdown",
      "metadata": {
        "id": "QAhNkTlV_yXT",
        "colab_type": "text"
      },
      "source": [
        "## running our first test\n"
      ]
    },
    {
      "cell_type": "code",
      "metadata": {
        "id": "661ExV-V9y7p",
        "colab_type": "code",
        "colab": {}
      },
      "source": [
        "# very simple test\n",
        "def test_person_repr1():\n",
        "    assert str(Person('terry gilliam')) == f\"Person('terry gilliam')\"\n",
        "\n",
        "# test using mock object\n",
        "def test_train1():\n",
        "    person = mocking.Mock()\n",
        "    \n",
        "    train(person)\n",
        "    person.walk.assert_called_once()\n",
        "    person.run.assert_called_once()\n",
        "    person.swim.assert_called_once()\n",
        "\n",
        "# create factory for person's name\n",
        "@pytest.fixture\n",
        "def person_name():\n",
        "    return 'terry gilliam'\n",
        "    \n",
        "# create factory for Person, that requires a person_name \n",
        "@pytest.fixture\n",
        "def person(person_name):\n",
        "    return Person(person_name)\n",
        "\n",
        "# test using mock object\n",
        "def test_train2(person):\n",
        "    # this makes sure no other method is called\n",
        "    person = mocking.create_autospec(person)\n",
        "    \n",
        "    train(person)\n",
        "    person.walk.assert_called_once()\n",
        "    person.run.assert_called_once()\n",
        "    person.swim.assert_called_once()\n",
        "\n",
        "\n",
        "# test Person using and request a person, person_name from the fixtures\n",
        "def test_person_repr2(person, person_name):\n",
        "    assert str(person) == f\"Person('{person_name}')\"\n",
        "    \n",
        "# fixture with multiple values\n",
        "@pytest.fixture(params=['usain bolt', 'Matthew Wells'])\n",
        "def olympic_runner_name(request):\n",
        "    return request.param\n",
        "\n",
        "@pytest.fixture\n",
        "def olympic_runner(olympic_runner_name):\n",
        "    return OlympicRunner(olympic_runner_name)\n",
        "\n",
        "# test train() using mock object for print\n",
        "@mocking.patch('builtins.print')\n",
        "def test_train3(mocked_print, olympic_runner):\n",
        "    train(olympic_runner)\n",
        "    mocked_print.assert_called()"
      ],
      "execution_count": 0,
      "outputs": []
    },
    {
      "cell_type": "code",
      "metadata": {
        "id": "PV8jU6b29y7t",
        "colab_type": "code",
        "outputId": "0d737fdc-a703-4003-8cde-2a9be68d7dc9",
        "colab": {}
      },
      "source": [
        "# execute the tests via pytest, arguments are passed to pytest\n",
        "ipytest.run('-qq')"
      ],
      "execution_count": 0,
      "outputs": [
        {
          "output_type": "stream",
          "text": [
            "......                                                                                                           [100%]\n"
          ],
          "name": "stdout"
        }
      ]
    }
  ]
}