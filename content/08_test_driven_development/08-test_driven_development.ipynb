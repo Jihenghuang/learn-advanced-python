{
 "cells": [
  {
   "cell_type": "markdown",
   "metadata": {},
   "source": [
    "\n",
    "<a href=\"https://colab.research.google.com/github/aviadr1/learn-advanced-python/blob/master/content/08_test_driven_development/08-test_driven_development.ipynb\" target=\"_blank\">\n",
    "<img src=\"https://colab.research.google.com/assets/colab-badge.svg\" \n",
    "     title=\"Open this file in Google Colab\" alt=\"Colab\"/>\n",
    "</a>\n"
   ]
  },
  {
   "cell_type": "markdown",
   "metadata": {},
   "source": [
    "install ipytest so we can run tests in the jupyter notebook"
   ]
  },
  {
   "cell_type": "code",
   "execution_count": 1,
   "metadata": {},
   "outputs": [
    {
     "name": "stdout",
     "output_type": "stream",
     "text": [
      "Note: you may need to restart the kernel to use updated packages.\n"
     ]
    },
    {
     "name": "stderr",
     "output_type": "stream",
     "text": [
      "'c:\\program' is not recognized as an internal or external command,\n",
      "operable program or batch file.\n"
     ]
    }
   ],
   "source": [
    "pip -q install ipytest pytest"
   ]
  },
  {
   "cell_type": "markdown",
   "metadata": {},
   "source": [
    "initialize pytest"
   ]
  },
  {
   "cell_type": "code",
   "execution_count": 2,
   "metadata": {},
   "outputs": [],
   "source": [
    "import pytest\n",
    "import ipytest\n",
    "import unittest.mock as mocking \n",
    "\n",
    "# enable pytest's assertions and ipytest's magics\n",
    "ipytest.config(rewrite_asserts=True, magics=True)\n",
    "\n",
    "# set the filename\n",
    "__file__ = 'adv python 08 - test driven development.ipynb'"
   ]
  },
  {
   "cell_type": "code",
   "execution_count": 3,
   "metadata": {},
   "outputs": [],
   "source": [
    "class Person:\n",
    "    def __init__(self, name):\n",
    "        self.name = name\n",
    "    def __repr__(self):\n",
    "        return f\"{type(self).__name__}({self.name!r})\"\n",
    "    def walk(self):\n",
    "        print(self.name, 'walking')\n",
    "    def run(self):\n",
    "        print(self.name,'running')\n",
    "    def swim(self):\n",
    "        print(self.name,'swimming')\n",
    "        \n",
    "class OlympicRunner(Person):\n",
    "    def run(self):\n",
    "        print(self.name,self.name,\"running incredibly fast!\")\n",
    "        \n",
    "    def show_medals(self):\n",
    "        print(self.name, 'showing my olympic medals')\n",
    "    \n",
    "def train(person):\n",
    "    person.walk()\n",
    "    person.swim()\n",
    "    person.run()"
   ]
  },
  {
   "cell_type": "code",
   "execution_count": 4,
   "metadata": {},
   "outputs": [],
   "source": [
    "# very simple test\n",
    "def test_person_repr1():\n",
    "    assert str(Person('terry gilliam')) == f\"Person('terry gilliam')\"\n",
    "\n",
    "# test using mock object\n",
    "def test_train1():\n",
    "    person = mocking.Mock()\n",
    "    \n",
    "    train(person)\n",
    "    person.walk.assert_called_once()\n",
    "    person.run.assert_called_once()\n",
    "    person.swim.assert_called_once()\n",
    "\n",
    "# create factory for person's name\n",
    "@pytest.fixture\n",
    "def person_name():\n",
    "    return 'terry gilliam'\n",
    "    \n",
    "# create factory for Person, that requires a person_name \n",
    "@pytest.fixture\n",
    "def person(person_name):\n",
    "    return Person(person_name)\n",
    "\n",
    "# test using mock object\n",
    "def test_train2(person):\n",
    "    # this makes sure no other method is called\n",
    "    person = mocking.create_autospec(person)\n",
    "    \n",
    "    train(person)\n",
    "    person.walk.assert_called_once()\n",
    "    person.run.assert_called_once()\n",
    "    person.swim.assert_called_once()\n",
    "\n",
    "\n",
    "# test Person using and request a person, person_name from the fixtures\n",
    "def test_person_repr2(person, person_name):\n",
    "    assert str(person) == f\"Person('{person_name}')\"\n",
    "    \n",
    "# fixture with multiple values\n",
    "@pytest.fixture(params=['usain bolt', 'Matthew Wells'])\n",
    "def olympic_runner_name(request):\n",
    "    return request.param\n",
    "\n",
    "@pytest.fixture\n",
    "def olympic_runner(olympic_runner_name):\n",
    "    return OlympicRunner(olympic_runner_name)\n",
    "\n",
    "# test train() using mock object for print\n",
    "@mocking.patch('builtins.print')\n",
    "def test_train3(mocked_print, olympic_runner):\n",
    "    train(olympic_runner)\n",
    "    mocked_print.assert_called()"
   ]
  },
  {
   "cell_type": "code",
   "execution_count": 5,
   "metadata": {},
   "outputs": [
    {
     "name": "stdout",
     "output_type": "stream",
     "text": [
      "......                                                                                                           [100%]\n"
     ]
    }
   ],
   "source": [
    "# execute the tests via pytest, arguments are passed to pytest\n",
    "ipytest.run('-qq')"
   ]
  }
 ],
 "metadata": {
  "kernelspec": {
   "display_name": "Python 3",
   "language": "python",
   "name": "python3"
  },
  "language_info": {
   "codemirror_mode": {
    "name": "ipython",
    "version": 3
   },
   "file_extension": ".py",
   "mimetype": "text/x-python",
   "name": "python",
   "nbconvert_exporter": "python",
   "pygments_lexer": "ipython3",
   "version": "3.7.0"
  }
 },
 "nbformat": 4,
 "nbformat_minor": 2
}
