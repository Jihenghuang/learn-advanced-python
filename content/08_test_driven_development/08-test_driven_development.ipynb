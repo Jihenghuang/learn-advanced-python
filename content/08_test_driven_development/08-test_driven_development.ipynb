{
  "nbformat": 4,
  "nbformat_minor": 0,
  "metadata": {
    "kernelspec": {
      "display_name": "Python 3",
      "language": "python",
      "name": "python3"
    },
    "language_info": {
      "codemirror_mode": {
        "name": "ipython",
        "version": 3
      },
      "file_extension": ".py",
      "mimetype": "text/x-python",
      "name": "python",
      "nbconvert_exporter": "python",
      "pygments_lexer": "ipython3",
      "version": "3.7.0"
    },
    "colab": {
      "name": "08-test_driven_development.ipynb",
      "provenance": [],
      "toc_visible": true
    }
  },
  "cells": [
    {
      "cell_type": "markdown",
      "metadata": {
        "id": "qHtO18WB9y7P",
        "colab_type": "text"
      },
      "source": [
        "\n",
        "<a href=\"https://colab.research.google.com/github/aviadr1/learn-advanced-python/blob/master/content/08_test_driven_development/08-test_driven_development.ipynb\" target=\"_blank\">\n",
        "<img src=\"https://colab.research.google.com/assets/colab-badge.svg\" \n",
        "     title=\"Open this file in Google Colab\" alt=\"Colab\"/>\n",
        "</a>\n"
      ]
    },
    {
      "cell_type": "markdown",
      "metadata": {
        "id": "Abcdy5MNCTsq",
        "colab_type": "text"
      },
      "source": [
        "# NOTE\n",
        "This lesson **requires** running on a local machine.\n",
        "\n",
        "1. download this lesson as `.ipynb` \n",
        "2. run `jupyter notebook` __localy__\n",
        "3. open this notebook from your jupyter notebook browser"
      ]
    },
    {
      "cell_type": "markdown",
      "metadata": {
        "id": "GPIt7vgv97Vu",
        "colab_type": "text"
      },
      "source": [
        "# setup"
      ]
    },
    {
      "cell_type": "markdown",
      "metadata": {
        "id": "pd8QNG1J9y7U",
        "colab_type": "text"
      },
      "source": [
        "1. install `pytest`\n",
        "2. install ipytest so we can run tests in the jupyter notebook"
      ]
    },
    {
      "cell_type": "code",
      "metadata": {
        "id": "-OAK0map9y7X",
        "colab_type": "code",
        "colab": {}
      },
      "source": [
        "pip -q install ipytest pytest"
      ],
      "execution_count": 0,
      "outputs": []
    },
    {
      "cell_type": "markdown",
      "metadata": {
        "id": "Kf6oTuWX9y7g",
        "colab_type": "text"
      },
      "source": [
        "initialize `ipytest` so it finds the tests we write in this notebook"
      ]
    },
    {
      "cell_type": "code",
      "metadata": {
        "id": "3Q3jmQ4N9y7h",
        "colab_type": "code",
        "colab": {}
      },
      "source": [
        "import pytest\n",
        "import ipytest\n",
        "\n",
        "# enable pytest's assertions and ipytest's magics\n",
        "ipytest.config(rewrite_asserts=True, magics=True)\n",
        "\n",
        "# set the filename\n",
        "__file__ = 'adv python 08 - test driven development.ipynb'"
      ],
      "execution_count": 0,
      "outputs": []
    },
    {
      "cell_type": "markdown",
      "metadata": {
        "id": "tmPlxk_2-EvE",
        "colab_type": "text"
      },
      "source": [
        "# Codebase to test: class Person\n",
        "\n",
        "Lets reuse the `Person` and `OlympicRunner` classes we've defined in earlier chapters in order to see how to write tests\n"
      ]
    },
    {
      "cell_type": "code",
      "metadata": {
        "id": "xoLNB6529y7l",
        "colab_type": "code",
        "colab": {}
      },
      "source": [
        "class Person:\n",
        "    def __init__(self, name):\n",
        "        name = name\n",
        "    def __repr__(self):\n",
        "        return f\"{type(self).__name__}({self.name!r})\"\n",
        "    def walk(self):\n",
        "        print(self.name, 'walking')\n",
        "    def run(self):\n",
        "        print(self.name,'running')\n",
        "    def swim(self):\n",
        "        print(self.name,'swimming')\n",
        "        \n",
        "class OlympicRunner(Person):\n",
        "    def run(self):\n",
        "        print(self.name,self.name,\"running incredibly fast!\")\n",
        "        \n",
        "    def show_medals(self):\n",
        "        print(self.name, 'showing my olympic medals')\n",
        "    \n",
        "def train(person):\n",
        "    person.walk()\n",
        "    person.swim()\n",
        "    person.run()"
      ],
      "execution_count": 0,
      "outputs": []
    },
    {
      "cell_type": "markdown",
      "metadata": {
        "id": "TbPMcdlA-spP",
        "colab_type": "text"
      },
      "source": [
        "# our first test\n",
        "\n",
        "- When we follow the convention that test function names start with `test_`, pytest will know how to find _all_ our tests\n",
        "\n",
        "- to see if our code works, we can use the `assert` python keyword. pytest adds hooks to assertions to make them more useful"
      ]
    },
    {
      "cell_type": "code",
      "metadata": {
        "id": "XeURkKHH-qIk",
        "colab_type": "code",
        "colab": {}
      },
      "source": [
        "# our first test\n",
        "def test_preson_name():\n",
        "    terry = Person('Terry Gilliam')\n",
        "    assert terry.name == 'Terry Gilliam'"
      ],
      "execution_count": 0,
      "outputs": []
    },
    {
      "cell_type": "markdown",
      "metadata": {
        "id": "RiicargLAClz",
        "colab_type": "text"
      },
      "source": [
        "## lets run our tests\n"
      ]
    },
    {
      "cell_type": "code",
      "metadata": {
        "id": "c8F4LBwwAFLf",
        "colab_type": "code",
        "colab": {
          "base_uri": "https://localhost:8080/",
          "height": 70
        },
        "outputId": "8dbd169b-6f3a-4c66-bee5-95a6174237e8"
      },
      "source": [
        "# execute the tests via pytest, arguments are passed to pytest\n",
        "ipytest.run('-qq')"
      ],
      "execution_count": 7,
      "outputs": [
        {
          "output_type": "stream",
          "text": [
            "\n"
          ],
          "name": "stdout"
        },
        {
          "output_type": "stream",
          "text": [
            "ERROR: file not found: adv python 08 - test driven development.ipynb\n",
            "\n"
          ],
          "name": "stderr"
        }
      ]
    },
    {
      "cell_type": "markdown",
      "metadata": {
        "id": "QAhNkTlV_yXT",
        "colab_type": "text"
      },
      "source": [
        "## running our first test\n"
      ]
    },
    {
      "cell_type": "code",
      "metadata": {
        "id": "661ExV-V9y7p",
        "colab_type": "code",
        "colab": {}
      },
      "source": [
        "# very simple test\n",
        "def test_person_repr1():\n",
        "    assert str(Person('terry gilliam')) == f\"Person('terry gilliam')\"\n",
        "\n",
        "# test using mock object\n",
        "def test_train1():\n",
        "    person = mocking.Mock()\n",
        "    \n",
        "    train(person)\n",
        "    person.walk.assert_called_once()\n",
        "    person.run.assert_called_once()\n",
        "    person.swim.assert_called_once()\n",
        "\n",
        "# create factory for person's name\n",
        "@pytest.fixture\n",
        "def person_name():\n",
        "    return 'terry gilliam'\n",
        "    \n",
        "# create factory for Person, that requires a person_name \n",
        "@pytest.fixture\n",
        "def person(person_name):\n",
        "    return Person(person_name)\n",
        "\n",
        "# test using mock object\n",
        "def test_train2(person):\n",
        "    # this makes sure no other method is called\n",
        "    person = mocking.create_autospec(person)\n",
        "    \n",
        "    train(person)\n",
        "    person.walk.assert_called_once()\n",
        "    person.run.assert_called_once()\n",
        "    person.swim.assert_called_once()\n",
        "\n",
        "\n",
        "# test Person using and request a person, person_name from the fixtures\n",
        "def test_person_repr2(person, person_name):\n",
        "    assert str(person) == f\"Person('{person_name}')\"\n",
        "    \n",
        "# fixture with multiple values\n",
        "@pytest.fixture(params=['usain bolt', 'Matthew Wells'])\n",
        "def olympic_runner_name(request):\n",
        "    return request.param\n",
        "\n",
        "@pytest.fixture\n",
        "def olympic_runner(olympic_runner_name):\n",
        "    return OlympicRunner(olympic_runner_name)\n",
        "\n",
        "# test train() using mock object for print\n",
        "@mocking.patch('builtins.print')\n",
        "def test_train3(mocked_print, olympic_runner):\n",
        "    train(olympic_runner)\n",
        "    mocked_print.assert_called()"
      ],
      "execution_count": 0,
      "outputs": []
    },
    {
      "cell_type": "code",
      "metadata": {
        "id": "PV8jU6b29y7t",
        "colab_type": "code",
        "colab": {},
        "outputId": "0d737fdc-a703-4003-8cde-2a9be68d7dc9"
      },
      "source": [
        "# execute the tests via pytest, arguments are passed to pytest\n",
        "ipytest.run('-qq')"
      ],
      "execution_count": 0,
      "outputs": [
        {
          "output_type": "stream",
          "text": [
            "......                                                                                                           [100%]\n"
          ],
          "name": "stdout"
        }
      ]
    }
  ]
}