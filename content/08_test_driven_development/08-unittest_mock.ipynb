{
  "nbformat": 4,
  "nbformat_minor": 0,
  "metadata": {
    "kernelspec": {
      "display_name": "Python 3",
      "language": "python",
      "name": "python3"
    },
    "language_info": {
      "codemirror_mode": {
        "name": "ipython",
        "version": 3
      },
      "file_extension": ".py",
      "mimetype": "text/x-python",
      "name": "python",
      "nbconvert_exporter": "python",
      "pygments_lexer": "ipython3",
      "version": "3.7.3"
    },
    "colab": {
      "name": "08-unittest_mock.ipynb",
      "provenance": []
    }
  },
  "cells": [
    {
      "cell_type": "markdown",
      "metadata": {
        "id": "E2V0MEN8JjU1",
        "colab_type": "text"
      },
      "source": [
        "\n",
        "<a href=\"https://colab.research.google.com/github/aviadr1/learn-advanced-python/blob/master/content/08_test_driven_development/08-unittest_mock.ipynb\" target=\"_blank\">\n",
        "<img src=\"https://colab.research.google.com/assets/colab-badge.svg\" \n",
        "     title=\"Open this file in Google Colab\" alt=\"Colab\"/>\n",
        "</a>\n"
      ]
    },
    {
      "cell_type": "markdown",
      "metadata": {
        "id": "3bMtUSWuJzUO",
        "colab_type": "text"
      },
      "source": [
        "# What Is Mocking?\n",
        "\n",
        "A mock object substitutes and imitates a real object within a testing environment.\n",
        "\n",
        "For example, if your code makes HTTP requests to external services, then your tests execute predictably only so far as the services are behaving as you expected. Sometimes, a temporary change in the behavior of these external services can cause intermittent failures within your test suite.\n",
        "\n",
        "Because of this, it would be better for you to test your code in a __controlled environment__. Replacing the actual request with a mock object would allow you to __simulate__ external service outages and successful responses in a predictable way.\n",
        "\n",
        "Sometimes, it is difficult to test certain areas of your codebase. Such areas include except blocks and if statements that are hard to satisfy. Using Python mock objects can help you __control the execution path of your code__ to reach these areas and improve your code coverage.\n",
        "\n",
        "Another reason to use mock objects is to better understand how you’re using their real counterparts in your code. A Python mock object contains data about its usage that you can inspect such as:\n",
        "\n",
        "- If you called a method\n",
        "- How you called the method\n",
        "- How often you called the method\n",
        "\n",
        "Understanding what a mock object does is the first step to learning how to use one.\n",
        "\n",
        "Now, you’ll see how to use Python mock objects."
      ]
    },
    {
      "cell_type": "markdown",
      "metadata": {
        "id": "34VAZI_RKg5s",
        "colab_type": "text"
      },
      "source": [
        "# The Python Mock Library\n",
        "We will be using `unittest.mock` \n",
        "\n",
        "> Note: The standard library includes unittest.mock in Python 3.3 and later. If you’re using an older version of Python, you’ll need to install the official backport of the library. To do so, install mock from PyPI:\n",
        "\n",
        "```\n",
        "$ pip install mock\n",
        "```\n",
        "\n",
        "`unittest.mock` provides a class called `Mock` which you will use to imitate real objects in your codebase. Mock offers incredible flexibility and insightful data. \n",
        "\n",
        "The library also provides a function, called `patch()`, which replaces the real objects in your code with Mock instances. You can use `patch()` as either a decorator or a context manager, giving you control over the scope in which the object will be mocked. Once the designated scope exits, `patch()` will clean up your code by replacing the mocked objects with their original counterparts.\n",
        "\n",
        "Let’s dive in"
      ]
    },
    {
      "cell_type": "code",
      "metadata": {
        "id": "2ZI1ArIlJjU3",
        "colab_type": "code",
        "colab": {
          "base_uri": "https://localhost:8080/",
          "height": 34
        },
        "outputId": "f94341af-0733-47f3-dae3-38c83a32057c"
      },
      "source": [
        "from unittest.mock import MagicMock as Mock\n",
        "\n",
        "mock = Mock()\n",
        "mock"
      ],
      "execution_count": 19,
      "outputs": [
        {
          "output_type": "execute_result",
          "data": {
            "text/plain": [
              "<MagicMock id='140629024763016'>"
            ]
          },
          "metadata": {
            "tags": []
          },
          "execution_count": 19
        }
      ]
    },
    {
      "cell_type": "markdown",
      "metadata": {
        "id": "S98I9sPsLDjE",
        "colab_type": "text"
      },
      "source": [
        "Now, you are able to substitute an object in your code with your new Mock. You can do this by passing it as an argument to a function or by redefining another object:"
      ]
    },
    {
      "cell_type": "code",
      "metadata": {
        "id": "-jJMmnrSJjU7",
        "colab_type": "code",
        "colab": {}
      },
      "source": [
        "def do_something(duck):\n",
        "    duck.walk()\n",
        "    duck.talk()\n",
        "    return duck.feed(\"bread\")\n",
        "\n",
        "# Pass mock as an argument to do_something()\n",
        "do_something(mock)\n",
        "\n",
        "# Patch the json library\n",
        "json = mock"
      ],
      "execution_count": 0,
      "outputs": []
    },
    {
      "cell_type": "markdown",
      "metadata": {
        "id": "C3HDcNwTLaZJ",
        "colab_type": "text"
      },
      "source": [
        "When you substitute an object in your code, the Mock __must look like__ the _real_ object it is replacing. Otherwise, your code will not be able to use the Mock in place of the original object.\n",
        "\n",
        "For example, if you are mocking the json library and your program calls `dumps()`, then your Python mock object must also contain `dumps()`.\n",
        "\n",
        "`Mock` deals with all of this by dynamicaly supporting any function or attribute"
      ]
    },
    {
      "cell_type": "markdown",
      "metadata": {
        "id": "A7A_2Q01Lyls",
        "colab_type": "text"
      },
      "source": [
        "# Lazy Attributes and Methods\n",
        "A Mock must simulate any object that it replaces. \n",
        "\n",
        "To achieve such flexibility, it [creates its attributes when you access them](https://docs.python.org/3/library/unittest.mock.html#quick-guide):"
      ]
    },
    {
      "cell_type": "code",
      "metadata": {
        "id": "zTTu7dN7LVoo",
        "colab_type": "code",
        "colab": {
          "base_uri": "https://localhost:8080/",
          "height": 34
        },
        "outputId": "67353c7f-66a9-4716-e8cf-c8163d5717b6"
      },
      "source": [
        "mock.some_attribute"
      ],
      "execution_count": 5,
      "outputs": [
        {
          "output_type": "execute_result",
          "data": {
            "text/plain": [
              "<Mock name='mock.some_attribute' id='140629026158912'>"
            ]
          },
          "metadata": {
            "tags": []
          },
          "execution_count": 5
        }
      ]
    },
    {
      "cell_type": "code",
      "metadata": {
        "id": "3uaWyoF2LxH8",
        "colab_type": "code",
        "colab": {
          "base_uri": "https://localhost:8080/",
          "height": 34
        },
        "outputId": "18bcd97a-2834-43a9-e333-85c26b00b1fc"
      },
      "source": [
        "mock.do_something()"
      ],
      "execution_count": 6,
      "outputs": [
        {
          "output_type": "execute_result",
          "data": {
            "text/plain": [
              "<Mock name='mock.do_something()' id='140629025822480'>"
            ]
          },
          "metadata": {
            "tags": []
          },
          "execution_count": 6
        }
      ]
    },
    {
      "cell_type": "markdown",
      "metadata": {
        "id": "eVxHNZpdMFNP",
        "colab_type": "text"
      },
      "source": [
        "Since Mock can create arbitrary attributes on the fly, it is suitable to replace any object.\n",
        "\n",
        "Using an example from earlier, if you’re mocking the `json` library and you call `dumps()`, the Python mock object will create the method so that its interface can match the library’s interface:\n",
        "\n"
      ]
    },
    {
      "cell_type": "code",
      "metadata": {
        "id": "pJfvz7YqME0D",
        "colab_type": "code",
        "colab": {
          "base_uri": "https://localhost:8080/",
          "height": 34
        },
        "outputId": "be29c7da-9ee4-4f9a-dc65-1bf99d1f008f"
      },
      "source": [
        "json = Mock()\n",
        "json.dumps()"
      ],
      "execution_count": 7,
      "outputs": [
        {
          "output_type": "execute_result",
          "data": {
            "text/plain": [
              "<Mock name='mock.dumps()' id='140629025912536'>"
            ]
          },
          "metadata": {
            "tags": []
          },
          "execution_count": 7
        }
      ]
    },
    {
      "cell_type": "markdown",
      "metadata": {
        "id": "H3__eDeDMQgV",
        "colab_type": "text"
      },
      "source": [
        "Notice two key characteristics of this mocked version of dumps():\n",
        "\n",
        "1. Unlike the real `dumps()``, this mocked method requires no arguments. In fact, it will accept any arguments that you pass to it.\n",
        "\n",
        "2. The return value of `dumps()` is also a `Mock`. The capability of `Mock` to recursively define other mocks allows for you to use mocks in complex situations:"
      ]
    },
    {
      "cell_type": "code",
      "metadata": {
        "id": "M3VY2sL5L_7S",
        "colab_type": "code",
        "colab": {
          "base_uri": "https://localhost:8080/",
          "height": 34
        },
        "outputId": "133bdfbf-8537-464f-b387-4649c2d86731"
      },
      "source": [
        "json = Mock()\n",
        "json.loads('{\"k\": \"v\"}').get('k')"
      ],
      "execution_count": 8,
      "outputs": [
        {
          "output_type": "execute_result",
          "data": {
            "text/plain": [
              "<Mock name='mock.loads().get()' id='140629026212048'>"
            ]
          },
          "metadata": {
            "tags": []
          },
          "execution_count": 8
        }
      ]
    },
    {
      "cell_type": "markdown",
      "metadata": {
        "id": "MIB8OV95MZiv",
        "colab_type": "text"
      },
      "source": [
        "Because the return value of each mocked method is also a Mock, you can use your mocks in a multitude of ways."
      ]
    },
    {
      "cell_type": "markdown",
      "metadata": {
        "id": "2KNbiRqsMj42",
        "colab_type": "text"
      },
      "source": [
        "# Assertions and Inspection\n",
        "`Mock` instances store data on how you used them. For instance, you can see if you called a method, how you called the method, and so on. There are two main ways to use this information.\n",
        "\n",
        "First, you can assert that your program used an object as you expected:"
      ]
    },
    {
      "cell_type": "code",
      "metadata": {
        "id": "s34OM6rUMWsk",
        "colab_type": "code",
        "colab": {
          "base_uri": "https://localhost:8080/",
          "height": 34
        },
        "outputId": "e7d6870b-20b4-4064-eb3d-9970e161b600"
      },
      "source": [
        "# Create a mock object\n",
        "json = Mock()\n",
        "\n",
        "json.loads('{\"key\": \"value\"}') # <Mock name='mock.loads()' id='4550144184'>\n",
        "\n",
        "# You know that you called loads() so you can\n",
        " # make assertions to test that expectation\n",
        "json.loads.assert_called()\n",
        "json.loads.assert_called_once()\n",
        "json.loads.assert_called_with('{\"key\": \"value\"}')\n",
        "json.loads.assert_called_once_with('{\"key\": \"value\"}')\n",
        "\n",
        "json.loads('{\"key\": \"value\"}') # <Mock name='mock.loads()' id='4550144184'>"
      ],
      "execution_count": 9,
      "outputs": [
        {
          "output_type": "execute_result",
          "data": {
            "text/plain": [
              "<Mock name='mock.loads()' id='140629026160536'>"
            ]
          },
          "metadata": {
            "tags": []
          },
          "execution_count": 9
        }
      ]
    },
    {
      "cell_type": "code",
      "metadata": {
        "id": "Ydt6NmFFM3eT",
        "colab_type": "code",
        "colab": {
          "base_uri": "https://localhost:8080/",
          "height": 69
        },
        "outputId": "aa504d97-e73d-456d-e126-635510e1c075"
      },
      "source": [
        "### If an assertion fails, the mock will raise an AssertionError\n",
        "try:\n",
        "    json.loads.assert_called_once()\n",
        "except Exception as ex:\n",
        "    print(ex)\n",
        "\n",
        "try:\n",
        "    json.loads.assert_called_once_with('{\"key\": \"value\"}')\n",
        "except Exception as ex:\n",
        "    print(ex)\n",
        "\n",
        "try:\n",
        "    json.loads.assert_not_called()\n",
        "except Exception as ex:\n",
        "    print(ex)"
      ],
      "execution_count": 14,
      "outputs": [
        {
          "output_type": "stream",
          "text": [
            "Expected 'loads' to have been called once. Called 2 times.\n",
            "Expected 'loads' to be called once. Called 2 times.\n",
            "Expected 'loads' to not have been called. Called 2 times.\n"
          ],
          "name": "stdout"
        }
      ]
    },
    {
      "cell_type": "markdown",
      "metadata": {
        "id": "ZXuVPNWOOqVe",
        "colab_type": "text"
      },
      "source": [
        "### note on `assert_called_with(*args, **kwargs)`"
      ]
    },
    {
      "cell_type": "markdown",
      "metadata": {
        "id": "Xcljc-6INhCE",
        "colab_type": "text"
      },
      "source": [
        "`.assert_called()` ensures you called the mocked method while `.assert_called_once()` checks that you called the method exactly one time.\n",
        "\n",
        "Both assertion functions have variants that let you inspect the arguments passed to the mocked method:\n",
        "\n",
        "- `.assert_called_with(*args, **kwargs)`\n",
        "- `.assert_called_once_with(*args, **kwargs)`\n",
        "\n",
        "To pass these assertions, you must call the mocked method with __exactly__ the same arguments that you pass to the actual method:"
      ]
    },
    {
      "cell_type": "code",
      "metadata": {
        "id": "taj7pEcfNgvk",
        "colab_type": "code",
        "colab": {
          "base_uri": "https://localhost:8080/",
          "height": 52
        },
        "outputId": "edf60f04-7d59-400b-9272-b75aca1e6ed2"
      },
      "source": [
        "json = Mock()\n",
        "json.loads(s='{\"key\": \"value\"}')\n",
        "try:\n",
        "    json.loads.assert_called_with('{\"key\": \"value\"}')\n",
        "except Exception as ex:\n",
        "    print(ex)\n",
        "\n",
        "# this works\n",
        "json.loads.assert_called_with(s='{\"key\": \"value\"}')"
      ],
      "execution_count": 17,
      "outputs": [
        {
          "output_type": "stream",
          "text": [
            "Expected call: loads('{\"key\": \"value\"}')\n",
            "Actual call: loads(s='{\"key\": \"value\"}')\n"
          ],
          "name": "stdout"
        }
      ]
    },
    {
      "cell_type": "markdown",
      "metadata": {
        "id": "ngdbORfoO3CM",
        "colab_type": "text"
      },
      "source": [
        "## your turn\n",
        "\n"
      ]
    },
    {
      "cell_type": "code",
      "metadata": {
        "id": "G6PoU-h0O40b",
        "colab_type": "code",
        "colab": {}
      },
      "source": [
        "class Person:\n",
        "    def __init__(self, name):\n",
        "        self.name = name\n",
        "        self.friends = set()\n",
        "\n",
        "    def added_as_friend(self, other_person):\n",
        "        self.friends.add(other_person)\n",
        "\n",
        "    def add_friend(self, other_person):\n",
        "        self.added_as_friend(other_person)\n",
        "        other_person.added_as_friend(self)"
      ],
      "execution_count": 0,
      "outputs": []
    },
    {
      "cell_type": "code",
      "metadata": {
        "id": "DZn4MalRQexc",
        "colab_type": "code",
        "colab": {}
      },
      "source": [
        "def test_add_friend():\n",
        "    mock = Mock()\n",
        "    moshe = Person('moshe')\n",
        "    moshe.add_friend(mock)\n",
        "\n",
        "    mock.added_as_friend.assert_called_once()\n",
        "\n",
        "test_add_friend()"
      ],
      "execution_count": 0,
      "outputs": []
    },
    {
      "cell_type": "code",
      "metadata": {
        "id": "JPwP9sESR-Fk",
        "colab_type": "code",
        "colab": {}
      },
      "source": [
        ""
      ],
      "execution_count": 0,
      "outputs": []
    }
  ]
}