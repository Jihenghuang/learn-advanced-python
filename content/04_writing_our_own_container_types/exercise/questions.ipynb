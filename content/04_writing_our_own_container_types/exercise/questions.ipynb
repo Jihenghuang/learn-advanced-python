{
  "nbformat": 4,
  "nbformat_minor": 0,
  "metadata": {
    "colab": {
      "name": "questions.ipynb",
      "provenance": []
    },
    "kernelspec": {
      "display_name": "Python 3",
      "language": "python",
      "name": "python3"
    },
    "language_info": {
      "codemirror_mode": {
        "name": "ipython",
        "version": 3
      },
      "file_extension": ".py",
      "mimetype": "text/x-python",
      "name": "python",
      "nbconvert_exporter": "python",
      "pygments_lexer": "ipython3",
      "version": "3.7.3"
    }
  },
  "cells": [
    {
      "cell_type": "markdown",
      "metadata": {
        "id": "8uivTpfR4YzC",
        "colab_type": "text"
      },
      "source": [
        "\n",
        "<a href=\"https://colab.research.google.com/github/aviadr1/learn-advanced-python/blob/master/content/04_writing_our_own_container_types/exercise/questions.ipynb\" target=\"_blank\">\n",
        "<img src=\"https://colab.research.google.com/assets/colab-badge.svg\" \n",
        "     title=\"Open this file in Google Colab\" alt=\"Colab\"/>\n",
        "</a>\n"
      ]
    },
    {
      "cell_type": "markdown",
      "metadata": {
        "id": "FU2l33UQ4YzJ",
        "colab_type": "text"
      },
      "source": [
        "# supporting slices in MyRange class\n",
        "\n",
        "note that the MyRange class in lecture 04 does not support slices\n",
        "\n",
        "```\n",
        "range10 = MyRange(10)\n",
        "range10[::2]\n",
        "---------------------------------------------------------------------------\n",
        "TypeError                                 Traceback (most recent call last)\n",
        "<ipython-input-5-2886954a11eb> in <module>\n",
        "      8 \n",
        "      9 range10 = MyRange(0, 10)\n",
        "---> 10 list(range10[::2])\n",
        "\n",
        "<ipython-input-2-25399ac18a9d> in __getitem__(self, offset)\n",
        "     13 \n",
        "     14     def __getitem__(self, offset):\n",
        "---> 15         if self.__n <= offset:\n",
        "     16             raise IndexError('range object index out of range')\n",
        "     17 \n",
        "\n",
        "TypeError: '<=' not supported between instances of 'int' and 'slice'\n",
        "```\n",
        "\n",
        "create a new class `MyRange2` that inherits from MyRange and adds support of slices\n",
        "\n",
        "HINT: use the class `islice` from the module `itertools`\n",
        "\n",
        "expected output:\n",
        "\n",
        "      >>> range10 = MyRange2(0, 10)\n",
        "      >>> list(range10[::2])\n",
        "      [0, 2, 4, 6, 8]\n"
      ]
    },
    {
      "cell_type": "code",
      "metadata": {
        "id": "FVPehIF54YzP",
        "colab_type": "code",
        "colab": {}
      },
      "source": [
        "### useful starting point\n",
        "import collections.abc\n",
        "import math\n",
        "class MyRange(collections.abc.Sequence):\n",
        "    def __init__(self, start, stop, step=1):\n",
        "        self.__start = start\n",
        "        self.__stop = stop\n",
        "        self.__step = step\n",
        "        self.__n = max(0, math.ceil((stop-start) / step))\n",
        "        super().__init__()\n",
        "        \n",
        "    def __len__(self):\n",
        "        return self.__n\n",
        "    \n",
        "    def __getitem__(self, offset):\n",
        "        if self.__n <= offset:\n",
        "            raise IndexError('range object index out of range')\n",
        "            \n",
        "        return self.__start + offset * self.__step\n",
        "    \n",
        "    def __repr__(self):\n",
        "        return f\"{type(self).__name__}({self.__start},{self.__stop},{self.__step})\"\n"
      ],
      "execution_count": 0,
      "outputs": []
    },
    {
      "cell_type": "code",
      "metadata": {
        "id": "VJwDRVjc4YzW",
        "colab_type": "code",
        "colab": {},
        "outputId": "a63b4db2-167a-4184-d1e0-cb60cebe1c9f"
      },
      "source": [
        ""
      ],
      "execution_count": 0,
      "outputs": [
        {
          "output_type": "execute_result",
          "data": {
            "text/plain": [
              "[0, 2, 4, 6, 8]"
            ]
          },
          "metadata": {
            "tags": []
          },
          "execution_count": 6
        }
      ]
    },
    {
      "cell_type": "markdown",
      "metadata": {
        "id": "wIEE4cOQ4Yze",
        "colab_type": "text"
      },
      "source": [
        "# 3x3 matrix\n",
        "\n",
        "Write a class called Matrix that represents a simple 3x3 matrix. \n",
        "\n",
        "namely it should support the following operations:\n",
        "you do not need to derive from any ABC\n",
        "\n",
        "```\n",
        ">>> m = Matrix()\n",
        ">>> print(m)\n",
        "[0, 0, 0]\n",
        "[0, 0, 0]\n",
        "[0, 0, 0]\n",
        "\n",
        ">>> m[0,0] = 10\n",
        ">>> print(m)\n",
        "[10, 0, 0]\n",
        "[0, 0, 0] \n",
        "[0, 0, 0]\n",
        "\n",
        ">>> m[1,1] = 100\n",
        ">>> m[1,1]\n",
        "100\n",
        "```\n",
        "\n",
        "\n",
        "\n"
      ]
    },
    {
      "cell_type": "code",
      "metadata": {
        "id": "li9L4c984Yzi",
        "colab_type": "code",
        "colab": {},
        "outputId": "96c95cf7-6d07-41f4-8b00-745057c30bf5"
      },
      "source": [
        ""
      ],
      "execution_count": 0,
      "outputs": [
        {
          "output_type": "stream",
          "text": [
            "[0, 0, 0]\n",
            "[0, 0, 0]\n",
            "[0, 0, 0]\n",
            "\n",
            "[10, 0, 0]\n",
            "[0, 0, 0]\n",
            "[0, 0, 0]\n",
            "\n",
            "100\n",
            "\n",
            "10\n",
            "0\n",
            "0\n",
            "0\n",
            "100\n",
            "0\n",
            "0\n",
            "0\n",
            "0\n"
          ],
          "name": "stdout"
        }
      ]
    },
    {
      "cell_type": "code",
      "metadata": {
        "id": "LCAsuF914Yzo",
        "colab_type": "code",
        "colab": {}
      },
      "source": [
        ""
      ],
      "execution_count": 0,
      "outputs": []
    },
    {
      "cell_type": "markdown",
      "metadata": {
        "id": "Xk9vSwDj4ahW",
        "colab_type": "text"
      },
      "source": [
        "# words dictionary\n",
        "Here's a dictionary\n",
        "```\n",
        "words = {\n",
        "    'android' : '(in science fiction) a robot with a human appearance',\n",
        "    'book' : 'a written or printed work consisting of pages',\n",
        "    'computer' : 'an electronic device for storing and processing data',\n",
        "    'dream' : \"a series of thoughts, images, and sensations occurring in a person's mind during sleep\",\n",
        "    'love' : 'an intense feeling of deep affection',\n",
        "    'sheep' : 'a domesticated ruminant animal with a thick woolly coat'\n",
        "}\n",
        "```\n",
        "\n",
        "Lets create a sliceable dictionary class called `SliceableDictionary` that can be used this way:\n",
        "\n",
        "```python\n",
        "words = SliceableDictionary(words)\n",
        "words['b':'e'] # returns all the words and their meaning that \n",
        "               # if 'b'<= word and word<='e'\n",
        "```\n",
        "\n",
        "which should return this dictionary\n",
        "```\n",
        "{\n",
        "    'book': 'a written or printed work consisting of pages',\n",
        "    'computer': 'an electronic device for storing and processing data',\n",
        "    'dream': \"a series of thoughts, images, and sensations occurring in a person's mind during sleep\"\n",
        "}\n",
        "```\n",
        "\n",
        "> you may find the `searchindex` function defined below useful:\n",
        "\n",
        "```python\n",
        "def searchindex(list_, item):\n",
        "    # inefficient but simple implementation\n",
        "    newlist = list_[:]\n",
        "    if not item in newlist:\n",
        "        newlist.append(item)\n",
        "    return sorted(newlist).index(item)\n",
        "```\n",
        "\n",
        "\n"
      ]
    },
    {
      "cell_type": "code",
      "metadata": {
        "id": "3qYEMBkD4cTR",
        "colab_type": "code",
        "colab": {}
      },
      "source": [
        "### useful: this function will be needed in your implementation\n",
        "def searchindex(list_, item):\n",
        "    # inefficient but simple implementation\n",
        "    newlist = list_[:]\n",
        "    if not item in newlist:\n",
        "        newlist.append(item)\n",
        "    return sorted(newlist).index(item)\n",
        "\n",
        "assert searchindex(['laugh', 'love', 'run'], 'above') == 0\n",
        "assert searchindex(['laugh', 'love', 'run'], 'live') == 1\n",
        "assert searchindex(['laugh', 'love', 'run'], 'zebra') == 3\n",
        "\n",
        "# and this would be useful as a list of words\n",
        "words = {\n",
        "    'android' : '(in science fiction) a robot with a human appearance',\n",
        "    'book' : 'a written or printed work consisting of pages',\n",
        "    'computer' : 'an electronic device for storing and processing data',\n",
        "    'dream' : \"a series of thoughts, images, and sensations occurring in a person's mind during sleep\",\n",
        "    'love' : 'an intense feeling of deep affection',\n",
        "    'sheep' : 'a domesticated ruminant animal with a thick woolly coat'\n",
        "}"
      ],
      "execution_count": 0,
      "outputs": []
    },
    {
      "cell_type": "code",
      "metadata": {
        "id": "MYxNhGi94eyW",
        "colab_type": "code",
        "colab": {}
      },
      "source": [
        ""
      ],
      "execution_count": 0,
      "outputs": []
    },
    {
      "cell_type": "code",
      "metadata": {
        "id": "Z0M331BE4glh",
        "colab_type": "code",
        "colab": {}
      },
      "source": [
        "### useful: test\n",
        "slicer = SliceableDictionary(words)\n",
        "slicer['love':'run'] # {'love': 'an intense feeling of deep affection'}\n",
        "slicer['l':'t'] # {'love': 'an intense feeling of deep affection', 'sheep': 'a domesticated ruminant animal with a thick woolly coat'}"
      ],
      "execution_count": 0,
      "outputs": []
    }
  ]
}