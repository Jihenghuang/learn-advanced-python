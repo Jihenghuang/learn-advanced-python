{
  "nbformat": 4,
  "nbformat_minor": 0,
  "metadata": {
    "kernelspec": {
      "display_name": "Python 3",
      "language": "python",
      "name": "python3"
    },
    "language_info": {
      "codemirror_mode": {
        "name": "ipython",
        "version": 3
      },
      "file_extension": ".py",
      "mimetype": "text/x-python",
      "name": "python",
      "nbconvert_exporter": "python",
      "pygments_lexer": "ipython3",
      "version": "3.7.3"
    },
    "colab": {
      "name": "solutions.ipynb",
      "provenance": []
    }
  },
  "cells": [
    {
      "cell_type": "markdown",
      "metadata": {
        "id": "ayHqgvlYeh-a",
        "colab_type": "text"
      },
      "source": [
        "\n",
        "<a href=\"https://colab.research.google.com/github/aviadr1/learn-advanced-python/blob/master/content/04_writing_our_own_container_types/exercise/solutions.ipynb\" target=\"_blank\">\n",
        "<img src=\"https://colab.research.google.com/assets/colab-badge.svg\" \n",
        "     title=\"Open this file in Google Colab\" alt=\"Colab\"/>\n",
        "</a>\n"
      ]
    },
    {
      "cell_type": "markdown",
      "metadata": {
        "id": "w3r1pTukeh-d",
        "colab_type": "text"
      },
      "source": [
        "# supporting slices in MyRange class\n",
        "\n",
        "note that the MyRange class in lecture 04 does not support slices\n",
        "\n",
        "```\n",
        "range10 = MyRange(10)\n",
        "range10[::2]\n",
        "---------------------------------------------------------------------------\n",
        "TypeError                                 Traceback (most recent call last)\n",
        "<ipython-input-5-2886954a11eb> in <module>\n",
        "      8 \n",
        "      9 range10 = MyRange(0, 10)\n",
        "---> 10 list(range10[::2])\n",
        "\n",
        "<ipython-input-2-25399ac18a9d> in __getitem__(self, offset)\n",
        "     13 \n",
        "     14     def __getitem__(self, offset):\n",
        "---> 15         if self.__n <= offset:\n",
        "     16             raise IndexError('range object index out of range')\n",
        "     17 \n",
        "\n",
        "TypeError: '<=' not supported between instances of 'int' and 'slice'\n",
        "```\n",
        "\n",
        "create a new class `MyRange2` that inherits from MyRange and adds support of slices\n",
        "\n",
        "HINT: use the class `islice` from the module `itertools`\n",
        "\n",
        "expected output:\n",
        "\n",
        "      >>> range10 = MyRange2(0, 10)\n",
        "      >>> list(range10[::2])\n",
        "      [0, 2, 4, 6, 8]\n"
      ]
    },
    {
      "cell_type": "code",
      "metadata": {
        "id": "RRhdO0BJeh-e",
        "colab_type": "code",
        "colab": {}
      },
      "source": [
        "### useful starting point\n",
        "import collections.abc\n",
        "import math\n",
        "class MyRange(collections.abc.Sequence):\n",
        "    def __init__(self, start, stop, step=1):\n",
        "        self.__start = start\n",
        "        self.__stop = stop\n",
        "        self.__step = step\n",
        "        self.__n = max(0, math.ceil((stop-start) / step))\n",
        "        super().__init__()\n",
        "        \n",
        "    def __len__(self):\n",
        "        return self.__n\n",
        "    \n",
        "    def __getitem__(self, offset):\n",
        "        if self.__n <= offset:\n",
        "            raise IndexError('range object index out of range')\n",
        "            \n",
        "        return self.__start + offset * self.__step\n",
        "    \n",
        "    def __repr__(self):\n",
        "        return f\"{type(self).__name__}({self.__start},{self.__stop},{self.__step})\"\n"
      ],
      "execution_count": 0,
      "outputs": []
    },
    {
      "cell_type": "code",
      "metadata": {
        "id": "q5Qo13dSeh-i",
        "colab_type": "code",
        "colab": {},
        "outputId": "61d29419-a2f3-4914-92fb-285bc8bf89ba"
      },
      "source": [
        "import itertools\n",
        "\n",
        "class MyRange2(MyRange):    \n",
        "    def __getitem__(self, offset):\n",
        "        if isinstance(offset, slice):\n",
        "            return itertools.islice(self, offset.start, offset.stop, offset.step)\n",
        "        return MyRange.__getitem__(self, offset)\n",
        "    \n",
        "range10 = MyRange2(0, 10)\n",
        "list(range10[::2])"
      ],
      "execution_count": 0,
      "outputs": [
        {
          "output_type": "execute_result",
          "data": {
            "text/plain": [
              "[0, 2, 4, 6, 8]"
            ]
          },
          "metadata": {
            "tags": []
          },
          "execution_count": 6
        }
      ]
    },
    {
      "cell_type": "markdown",
      "metadata": {
        "id": "0Qbow9Ideh-n",
        "colab_type": "text"
      },
      "source": [
        "# 3x3 matrix\n",
        "\n",
        "Write a class called Matrix that represents a simple 3x3 matrix. \n",
        "\n",
        "namely it should support the following operations:\n",
        "you do not need to derive from any ABC\n",
        "\n",
        "```\n",
        ">>> m = Matrix()\n",
        ">>> print(m)\n",
        "[0, 0, 0]\n",
        "[0, 0, 0]\n",
        "[0, 0, 0]\n",
        "\n",
        ">>> m[0,0] = 10\n",
        ">>> print(m)\n",
        "[10, 0, 0]\n",
        "[0, 0, 0] \n",
        "[0, 0, 0]\n",
        "\n",
        ">>> m[1,1] = 100\n",
        ">>> m[1,1]\n",
        "100\n",
        "```\n",
        "\n",
        "\n",
        "\n"
      ]
    },
    {
      "cell_type": "code",
      "metadata": {
        "id": "DMpJNCqqeh-o",
        "colab_type": "code",
        "colab": {
          "base_uri": "https://localhost:8080/",
          "height": 207
        },
        "outputId": "1885b73b-f425-4134-fe66-58b9e70e7f05"
      },
      "source": [
        " class Matrix:\n",
        "    def __init__(self):\n",
        "        self.data = [ [0, 0, 0], [0,0,0], [0,0,0] ]\n",
        "    \n",
        "    def __getitem__(self, key):\n",
        "        x, y = key\n",
        "        return self.data[x][y]\n",
        "    \n",
        "    def __setitem__(self, key, value):\n",
        "        x, y = key\n",
        "        self.data[x][y] = value\n",
        "        \n",
        "    def __len__(self):\n",
        "        return 9\n",
        "    \n",
        "    def __repr__(self):\n",
        "        return '\\n'.join([repr(row) for row in self.data])\n",
        "    \n",
        "    def __iter__(self):\n",
        "        for row in self.data:\n",
        "            for x in row:\n",
        "                yield x\n",
        "    \n",
        "m = Matrix()\n",
        "print(m)\n",
        "print()\n",
        "\n",
        "m[0,0] = 10\n",
        "print(m)\n",
        "print()\n",
        "\n",
        "m[1,1] = 100\n",
        "print(m)\n",
        "# print(m[1,1]) # 1o0\n",
        "# print()\n",
        "\n",
        "# for i in m:\n",
        "#     print(i)"
      ],
      "execution_count": 57,
      "outputs": [
        {
          "output_type": "stream",
          "text": [
            "[0, 0, 0]\n",
            "[0, 0, 0]\n",
            "[0, 0, 0]\n",
            "\n",
            "[10, 0, 0]\n",
            "[0, 0, 0]\n",
            "[0, 0, 0]\n",
            "\n",
            "[10, 0, 0]\n",
            "[0, 100, 0]\n",
            "[0, 0, 0]\n"
          ],
          "name": "stdout"
        }
      ]
    },
    {
      "cell_type": "code",
      "metadata": {
        "id": "5tINLh5Deh-w",
        "colab_type": "code",
        "colab": {}
      },
      "source": [
        ""
      ],
      "execution_count": 0,
      "outputs": []
    },
    {
      "cell_type": "markdown",
      "metadata": {
        "id": "5PxM9ZP1ekQy",
        "colab_type": "text"
      },
      "source": [
        "# words dictionary\n",
        "Here's a dictionary\n",
        "```\n",
        "words = {\n",
        "    'android' : '(in science fiction) a robot with a human appearance',\n",
        "    'book' : 'a written or printed work consisting of pages',\n",
        "    'computer' : 'an electronic device for storing and processing data',\n",
        "    'dream' : \"a series of thoughts, images, and sensations occurring in a person's mind during sleep\",\n",
        "    'love' : 'an intense feeling of deep affection',\n",
        "    'sheep' : 'a domesticated ruminant animal with a thick woolly coat'\n",
        "}\n",
        "```\n",
        "\n",
        "Lets create a sliceable dictionary class called `SliceableDictionary` that can be used this way:\n",
        "\n",
        "```python\n",
        "words = SliceableDictionary(words)\n",
        "words['b':'e'] # returns all the words and their meaning that \n",
        "               # if 'b'<= word and word<='e'\n",
        "```\n",
        "\n",
        "which should return this dictionary\n",
        "```\n",
        "{\n",
        "    'book': 'a written or printed work consisting of pages',\n",
        "    'computer': 'an electronic device for storing and processing data',\n",
        "    'dream': \"a series of thoughts, images, and sensations occurring in a person's mind during sleep\"\n",
        "}\n",
        "```\n",
        "\n",
        "> you may find the `searchindex` function defined below useful:\n",
        "\n",
        "```python\n",
        "def searchindex(list_, item):\n",
        "    # inefficient but simple implementation\n",
        "    newlist = list_[:]\n",
        "    if not item in newlist:\n",
        "        newlist.append(item)\n",
        "    return sorted(newlist).index(item)\n",
        "```\n",
        "\n",
        "\n"
      ]
    },
    {
      "cell_type": "code",
      "metadata": {
        "id": "tHVRMDQl19YP",
        "colab_type": "code",
        "colab": {}
      },
      "source": [
        "### useful: this function will be needed in your implementation\n",
        "def searchindex(list_, item):\n",
        "    # inefficient but simple implementation\n",
        "    newlist = list_[:]\n",
        "    if not item in newlist:\n",
        "        newlist.append(item)\n",
        "    return sorted(newlist).index(item)\n",
        "\n",
        "assert searchindex(['laugh', 'love', 'run'], 'above') == 0\n",
        "assert searchindex(['laugh', 'love', 'run'], 'live') == 1\n",
        "assert searchindex(['laugh', 'love', 'run'], 'zebra') == 3\n",
        "\n",
        "# and this would be useful as a list of words\n",
        "words = {\n",
        "    'android' : '(in science fiction) a robot with a human appearance',\n",
        "    'book' : 'a written or printed work consisting of pages',\n",
        "    'computer' : 'an electronic device for storing and processing data',\n",
        "    'dream' : \"a series of thoughts, images, and sensations occurring in a person's mind during sleep\",\n",
        "    'love' : 'an intense feeling of deep affection',\n",
        "    'sheep' : 'a domesticated ruminant animal with a thick woolly coat'\n",
        "}"
      ],
      "execution_count": 0,
      "outputs": []
    },
    {
      "cell_type": "code",
      "metadata": {
        "id": "3rsMv5zJemBZ",
        "colab_type": "code",
        "colab": {}
      },
      "source": [
        "# solution #1\n",
        "class SliceableDictionary:\n",
        "    def __init__(self, words):\n",
        "        self.words = words\n",
        "        self.word_list = sorted(words)\n",
        "        \n",
        "    def __slice_words(self, start_word, end_word):\n",
        "        start = searchindex(self.word_list, start_word) if start_word else None\n",
        "        end = searchindex(self.word_list, end_word) if end_word else None\n",
        "        subwords = self.word_list[start:end]\n",
        "        return SliceableDictionary({word:self.words[word] for word in subwords})\n",
        "\n",
        "    def __getitem__(self, offset):\n",
        "        if isinstance(offset, slice):\n",
        "            start_word, end_word = offset.start, offset.stop\n",
        "            return self.__slice_words(start_word, end_word)\n",
        "        else:\n",
        "            return self.words[offset]\n",
        "\n",
        "    def __repr__(self):\n",
        "        return repr(self.words)            "
      ],
      "execution_count": 0,
      "outputs": []
    },
    {
      "cell_type": "code",
      "metadata": {
        "id": "9QDHFspGIJmv",
        "colab_type": "code",
        "colab": {}
      },
      "source": [
        "# solution #2 (simpler)\n",
        "class SliceableDictionary:\n",
        "    def __init__(self, words):\n",
        "        self.words = words\n",
        "\n",
        "    def __getitem__(self, key):\n",
        "        if isinstance(key,slice):\n",
        "            start_word = key.start\n",
        "            end_word = key.stop\n",
        "            return SliceableDictionary(\n",
        "                {word:desc for word,desc in self.words.items() if start_word<=word and word<=end_word }\n",
        "            )\n",
        "        \n",
        "        return self.words[key]\n",
        "\n",
        "    def __repr__(self):\n",
        "        return repr(self.words)"
      ],
      "execution_count": 0,
      "outputs": []
    },
    {
      "cell_type": "code",
      "metadata": {
        "id": "1BKff5gM2Xxd",
        "colab_type": "code",
        "colab": {
          "base_uri": "https://localhost:8080/",
          "height": 34
        },
        "outputId": "f93faab1-82b8-4b0a-ba2e-f03df8a4946a"
      },
      "source": [
        "### useful: test\n",
        "slicer = SliceableDictionary(words)\n",
        "slicer['love':'run'] # {'love': 'an intense feeling of deep affection'}\n",
        "slicer['l':'t'] # {'love': 'an intense feeling of deep affection', 'sheep': 'a domesticated ruminant animal with a thick woolly coat'}"
      ],
      "execution_count": 54,
      "outputs": [
        {
          "output_type": "execute_result",
          "data": {
            "text/plain": [
              "{'love': 'an intense feeling of deep affection', 'sheep': 'a domesticated ruminant animal with a thick woolly coat'}"
            ]
          },
          "metadata": {
            "tags": []
          },
          "execution_count": 54
        }
      ]
    }
  ]
}