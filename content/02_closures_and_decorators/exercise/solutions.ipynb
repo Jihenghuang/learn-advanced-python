{
 "cells": [
  {
   "cell_type": "markdown",
   "metadata": {},
   "source": [
    "\n",
    "<a href=\"https://colab.research.google.com/github/aviadr1/learn-advanced-python/blob/master/content/02_closures_and_decorators/exercise/solutions.ipynb\" target=\"_blank\">\n",
    "<img src=\"https://colab.research.google.com/assets/colab-badge.svg\" \n",
    "     title=\"Open this file in Google Colab\" alt=\"Colab\"/>\n",
    "</a>\n"
   ]
  },
  {
   "cell_type": "markdown",
   "metadata": {},
   "source": [
    "# Observable decorator\n",
    "\n",
    "Consider the `Observable` class based on the \"observable\" pattern\n",
    "```\n",
    "class Observable:\n",
    "    def __init__(self):\n",
    "        self.handlers = []\n",
    "    \n",
    "    def register(self, callable_):\n",
    "        self.handlers.append(callable_)\n",
    "        \n",
    "    def notify(self, obj, event, *args, **kwargs):\n",
    "        for handler in self.handlers:\n",
    "            handler(obj, event, *args, **kwargs)\n",
    "            \n",
    "def start_observing(obj):\n",
    "    obj.observable_events = Observable()\n",
    "\n",
    "def observable(obj):\n",
    "    return obj.observable_events\n",
    "```\n",
    "\n",
    "Create two decorator functions \n",
    "```\n",
    "observable_class(klass)- decorates a class to become observable`\n",
    "observe(func) - decorates a method to become observable\n",
    "```\n",
    "\n",
    "such that given a simple class like the following:\n",
    "```\n",
    "class Test:\n",
    "    def test(self, message):\n",
    "        print('test', message)\n",
    "```\n",
    "\n",
    "you could decorate Test using the decorators:\n",
    "```\n",
    "@observable_class\n",
    "class Test:\n",
    "    @observe\n",
    "    def test(self, message):\n",
    "        print('test', message)\n",
    "```\n",
    "\n",
    "and then be able to get notifications whenever the `Test.test()` function is used:\n",
    "\n",
    "```\n",
    "def simple_handler(obj, event, *args, **kwargs):\n",
    "    print('notified:', obj, event, *args, **kwargs)\n",
    "    \n",
    "t = Test()\n",
    "t.observable().register(simple_handler)\n",
    "t.test('hello')\n",
    "```\n",
    "\n",
    "expected output:\n",
    "```\n",
    "notified: <__main__.Test object at 0x000002E99F51A7F0> test hello\n",
    "test hello\n",
    "```"
   ]
  },
  {
   "cell_type": "code",
   "execution_count": 1,
   "metadata": {},
   "outputs": [],
   "source": [
    "### useful starting point\n",
    "class Observable:\n",
    "    def __init__(self):\n",
    "        self.handlers = []\n",
    "    \n",
    "    def register(self, callable_):\n",
    "        self.handlers.append(callable_)\n",
    "        \n",
    "    def notify(self, obj, event, *args, **kwargs):\n",
    "        for handler in self.handlers:\n",
    "            handler(obj, event, *args, **kwargs)\n",
    "            \n",
    "def start_observing(obj):\n",
    "    obj.observable_events = Observable()\n",
    "\n",
    "def observable(obj):\n",
    "    return obj.observable_events\n",
    "    "
   ]
  },
  {
   "cell_type": "code",
   "execution_count": 2,
   "metadata": {},
   "outputs": [
    {
     "name": "stdout",
     "output_type": "stream",
     "text": [
      "notified: <__main__.Test object at 0x000001957A3ED2E8> test hello\n",
      "test hello\n"
     ]
    }
   ],
   "source": [
    "import functools\n",
    "def observable_class(klass):\n",
    "    init_func = klass.__init__\n",
    "    \n",
    "    @functools.wraps(klass.__init__)\n",
    "    def init_wrapper(self, *args, **kwargs):\n",
    "        start_observing(self)\n",
    "        init_func(self, *args, **kwargs)\n",
    "    \n",
    "    klass.__init__ = init_wrapper\n",
    "    klass.observable = observable\n",
    "    return klass\n",
    "\n",
    "def observe(f):\n",
    "    @functools.wraps(f)\n",
    "    def observed_wrapper(self, *args, **kwargs):\n",
    "        observable(self).notify(self, f.__name__, *args, **kwargs)\n",
    "        return f(self, *args, *kwargs)\n",
    "    return observed_wrapper\n",
    "\n",
    "@observable_class\n",
    "class Test:\n",
    "    @observe\n",
    "    def test(self, message):\n",
    "        print('test', message)\n",
    "\n",
    "def simple_handler(obj, event, *args, **kwargs):\n",
    "    print('notified:', obj, event, *args, **kwargs)\n",
    "    \n",
    "t = Test()\n",
    "t.observable().register(simple_handler)\n",
    "t.test('hello')"
   ]
  },
  {
   "cell_type": "code",
   "execution_count": null,
   "metadata": {},
   "outputs": [],
   "source": []
  }
 ],
 "metadata": {
  "kernelspec": {
   "display_name": "Python 3",
   "language": "python",
   "name": "python3"
  },
  "language_info": {
   "codemirror_mode": {
    "name": "ipython",
    "version": 3
   },
   "file_extension": ".py",
   "mimetype": "text/x-python",
   "name": "python",
   "nbconvert_exporter": "python",
   "pygments_lexer": "ipython3",
   "version": "3.7.3"
  }
 },
 "nbformat": 4,
 "nbformat_minor": 2
}
