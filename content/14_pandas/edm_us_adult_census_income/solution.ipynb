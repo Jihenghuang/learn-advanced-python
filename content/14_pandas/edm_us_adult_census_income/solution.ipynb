{
  "nbformat": 4,
  "nbformat_minor": 0,
  "metadata": {
    "kernelspec": {
      "display_name": "Python 3",
      "language": "python",
      "name": "python3"
    },
    "language_info": {
      "codemirror_mode": {
        "name": "ipython",
        "version": 3
      },
      "file_extension": ".py",
      "mimetype": "text/x-python",
      "name": "python",
      "nbconvert_exporter": "python",
      "pygments_lexer": "ipython3",
      "version": "3.7.3"
    },
    "colab": {
      "name": "solution.ipynb",
      "provenance": []
    }
  },
  "cells": [
    {
      "cell_type": "markdown",
      "metadata": {
        "id": "kThwLednY2XS",
        "colab_type": "text"
      },
      "source": [
        "\n",
        "<a href=\"https://colab.research.google.com/github/aviadr1/learn-advanced-python/blob/master/content/14_pandas/edm_us_adult_census_income/solution.ipynb\" target=\"_blank\">\n",
        "<img src=\"https://colab.research.google.com/assets/colab-badge.svg\" \n",
        "     title=\"Open this file in Google Colab\" alt=\"Colab\"/>\n",
        "</a>\n"
      ]
    },
    {
      "cell_type": "markdown",
      "metadata": {
        "id": "oO65gp0gY3I0",
        "colab_type": "text"
      },
      "source": [
        "# get the data\n",
        "run the following two cells below to get the data for this exercise,\n",
        "then followup by reading the questions and writing your own code to answer them."
      ]
    },
    {
      "cell_type": "code",
      "metadata": {
        "id": "oniwUe8tY587",
        "colab_type": "code",
        "colab": {
          "base_uri": "https://localhost:8080/",
          "height": 102
        },
        "outputId": "fa1a0334-800e-48f2-fcc8-4ece8f1a417e"
      },
      "source": [
        "!pip install requests"
      ],
      "execution_count": 1,
      "outputs": [
        {
          "output_type": "stream",
          "text": [
            "Requirement already satisfied: requests in /usr/local/lib/python3.6/dist-packages (2.21.0)\n",
            "Requirement already satisfied: idna<2.9,>=2.5 in /usr/local/lib/python3.6/dist-packages (from requests) (2.8)\n",
            "Requirement already satisfied: certifi>=2017.4.17 in /usr/local/lib/python3.6/dist-packages (from requests) (2019.9.11)\n",
            "Requirement already satisfied: urllib3<1.25,>=1.21.1 in /usr/local/lib/python3.6/dist-packages (from requests) (1.24.3)\n",
            "Requirement already satisfied: chardet<3.1.0,>=3.0.2 in /usr/local/lib/python3.6/dist-packages (from requests) (3.0.4)\n"
          ],
          "name": "stdout"
        }
      ]
    },
    {
      "cell_type": "code",
      "metadata": {
        "id": "nsOYgkOSY8lr",
        "colab_type": "code",
        "colab": {}
      },
      "source": [
        "### important: this code downloads the data for you into \"adult.csv\" file in the current directory\n",
        "import requests\n",
        "\n",
        "url = \"http://mlr.cs.umass.edu/ml/machine-learning-databases/adult/adult.data\"\n",
        "request = requests.get(url)\n",
        "request.raise_for_status()\n",
        "with open('adult.csv', 'w') as f:\n",
        "    f.write(request.text)\n",
        "\n",
        "### now the data is available in the file adult.csv. \n",
        "### read the questions below\n",
        "# import pandas as pd\n",
        "# pd.read_csv('adult.csv')    "
      ],
      "execution_count": 0,
      "outputs": []
    },
    {
      "cell_type": "markdown",
      "metadata": {
        "id": "fAYIDGCOY2XV",
        "colab_type": "text"
      },
      "source": [
        "# income for adults from the 1994 census\n",
        "This dataset was extracted  done by Barry Becker from the 1994 Census database. \n",
        "source: http://mlr.cs.umass.edu/ml/datasets/Adult\n",
        "\n",
        "Listing of attributes:\n",
        "\n",
        "* age: continuous.\n",
        "* workclass: Private, Self-emp-not-inc, Self-emp-inc, Federal-gov, Local-gov, State-gov, Without-pay, Never-worked.\n",
        "* fnlwgt: continuous.\n",
        "* education: Bachelors, Some-college, 11th, HS-grad, Prof-school, Assoc-acdm, Assoc-voc, 9th, 7th-8th, 12th, Masters, 1st-4th, 10th, Doctorate, 5th-6th, Preschool.\n",
        "* education-num: continuous.\n",
        "* marital-status: Married-civ-spouse, Divorced, Never-married, Separated, Widowed, Married-spouse-absent, Married-AF-spouse.\n",
        "* occupation: Tech-support, Craft-repair, Other-service, Sales, Exec-managerial, Prof-specialty, Handlers-cleaners, Machine-op-inspct, Adm-clerical, Farming-fishing, Transport-moving, Priv-house-serv, Protective-serv, Armed-Forces.\n",
        "* relationship: Wife, Own-child, Husband, Not-in-family, Other-relative, Unmarried.\n",
        "* race: White, Asian-Pac-Islander, Amer-Indian-Eskimo, Other, Black.\n",
        "* sex: Female, Male.\n",
        "* capital-gain: continuous.\n",
        "* capital-loss: continuous.\n",
        "* hours-per-week: continuous.\n",
        "* native-country: United-States, Cambodia, England, Puerto-Rico, Canada, Germany, Outlying-US(Guam-USVI-etc), India, Japan, Greece, South, China, Cuba, Iran, Honduras, Philippines, Italy, Poland, Jamaica, Vietnam, Mexico, Portugal, Ireland, France, Dominican-Republic, Laos, Ecuador, Taiwan, Haiti, Columbia, Hungary, Guatemala, Nicaragua, Scotland, Thailand, Yugoslavia, El-Salvador, Trinadad&Tobago, Peru, Hong, Holand-Netherlands.\n",
        "* income: >50K, <=50K.\n"
      ]
    },
    {
      "cell_type": "code",
      "metadata": {
        "id": "R3paSuwHY2XW",
        "colab_type": "code",
        "colab": {}
      },
      "source": [
        "import pandas as pd\n",
        "from IPython.display import display\n",
        "import matplotlib.pyplot as plt\n",
        "import seaborn as sns\n",
        "import numpy as np\n",
        "%matplotlib inline\n",
        "sns.set()"
      ],
      "execution_count": 0,
      "outputs": []
    },
    {
      "cell_type": "markdown",
      "metadata": {
        "id": "hex7J0u4Y2Xa",
        "colab_type": "text"
      },
      "source": [
        "## 1. load the data\n",
        "1. extract the column names from the description and read the csv while supplying the columns names\n",
        "   - rename columns with a hyphen `-` to use underscores `_` insead. example: `capital-gain --> capital_gain`"
      ]
    },
    {
      "cell_type": "code",
      "metadata": {
        "id": "BHkklcWiY2Xb",
        "colab_type": "code",
        "colab": {},
        "outputId": "0ba58846-38cf-4595-d16a-05695301c0a6"
      },
      "source": [
        "description = \"\"\"\\\n",
        "age: continuous.\n",
        "workclass: Private, Self-emp-not-inc, Self-emp-inc, Federal-gov, Local-gov, State-gov, Without-pay, Never-worked.\n",
        "fnlwgt: continuous.\n",
        "education: Bachelors, Some-college, 11th, HS-grad, Prof-school, Assoc-acdm, Assoc-voc, 9th, 7th-8th, 12th, Masters, 1st-4th, 10th, Doctorate, 5th-6th, Preschool.\n",
        "education-num: continuous.\n",
        "marital-status: Married-civ-spouse, Divorced, Never-married, Separated, Widowed, Married-spouse-absent, Married-AF-spouse.\n",
        "occupation: Tech-support, Craft-repair, Other-service, Sales, Exec-managerial, Prof-specialty, Handlers-cleaners, Machine-op-inspct, Adm-clerical, Farming-fishing, Transport-moving, Priv-house-serv, Protective-serv, Armed-Forces.\n",
        "relationship: Wife, Own-child, Husband, Not-in-family, Other-relative, Unmarried.\n",
        "race: White, Asian-Pac-Islander, Amer-Indian-Eskimo, Other, Black.\n",
        "sex: Female, Male.\n",
        "capital-gain: continuous.\n",
        "capital-loss: continuous.\n",
        "hours-per-week: continuous.\n",
        "native-country: United-States, Cambodia, England, Puerto-Rico, Canada, Germany, Outlying-US(Guam-USVI-etc), India, Japan, Greece, South, China, Cuba, Iran, Honduras, Philippines, Italy, Poland, Jamaica, Vietnam, Mexico, Portugal, Ireland, France, Dominican-Republic, Laos, Ecuador, Taiwan, Haiti, Columbia, Hungary, Guatemala, Nicaragua, Scotland, Thailand, Yugoslavia, El-Salvador, Trinadad&Tobago, Peru, Hong, Holand-Netherlands.\n",
        "\"\"\"\n",
        "\n",
        "columns = [line.split(':')[0] for line in description.splitlines()] + ['income']\n",
        "columns = [column.replace('-', '_') for column in columns]\n",
        "columns"
      ],
      "execution_count": 0,
      "outputs": [
        {
          "output_type": "execute_result",
          "data": {
            "text/plain": [
              "['age',\n",
              " 'workclass',\n",
              " 'fnlwgt',\n",
              " 'education',\n",
              " 'education_num',\n",
              " 'marital_status',\n",
              " 'occupation',\n",
              " 'relationship',\n",
              " 'race',\n",
              " 'sex',\n",
              " 'capital_gain',\n",
              " 'capital_loss',\n",
              " 'hours_per_week',\n",
              " 'native_country',\n",
              " 'income']"
            ]
          },
          "metadata": {
            "tags": []
          },
          "execution_count": 2
        }
      ]
    },
    {
      "cell_type": "code",
      "metadata": {
        "id": "bLZF8fNFY2Xd",
        "colab_type": "code",
        "colab": {},
        "outputId": "7bcd819f-8026-4469-9a9d-6f166697926d"
      },
      "source": [
        "df = pd.read_csv('adult.data', names=columns)\n",
        "df.head()"
      ],
      "execution_count": 0,
      "outputs": [
        {
          "output_type": "execute_result",
          "data": {
            "text/html": [
              "<div>\n",
              "<style scoped>\n",
              "    .dataframe tbody tr th:only-of-type {\n",
              "        vertical-align: middle;\n",
              "    }\n",
              "\n",
              "    .dataframe tbody tr th {\n",
              "        vertical-align: top;\n",
              "    }\n",
              "\n",
              "    .dataframe thead th {\n",
              "        text-align: right;\n",
              "    }\n",
              "</style>\n",
              "<table border=\"1\" class=\"dataframe\">\n",
              "  <thead>\n",
              "    <tr style=\"text-align: right;\">\n",
              "      <th></th>\n",
              "      <th>age</th>\n",
              "      <th>workclass</th>\n",
              "      <th>fnlwgt</th>\n",
              "      <th>education</th>\n",
              "      <th>education_num</th>\n",
              "      <th>marital_status</th>\n",
              "      <th>occupation</th>\n",
              "      <th>relationship</th>\n",
              "      <th>race</th>\n",
              "      <th>sex</th>\n",
              "      <th>capital_gain</th>\n",
              "      <th>capital_loss</th>\n",
              "      <th>hours_per_week</th>\n",
              "      <th>native_country</th>\n",
              "      <th>income</th>\n",
              "    </tr>\n",
              "  </thead>\n",
              "  <tbody>\n",
              "    <tr>\n",
              "      <td>0</td>\n",
              "      <td>39</td>\n",
              "      <td>State-gov</td>\n",
              "      <td>77516</td>\n",
              "      <td>Bachelors</td>\n",
              "      <td>13</td>\n",
              "      <td>Never-married</td>\n",
              "      <td>Adm-clerical</td>\n",
              "      <td>Not-in-family</td>\n",
              "      <td>White</td>\n",
              "      <td>Male</td>\n",
              "      <td>2174</td>\n",
              "      <td>0</td>\n",
              "      <td>40</td>\n",
              "      <td>United-States</td>\n",
              "      <td>&lt;=50K</td>\n",
              "    </tr>\n",
              "    <tr>\n",
              "      <td>1</td>\n",
              "      <td>50</td>\n",
              "      <td>Self-emp-not-inc</td>\n",
              "      <td>83311</td>\n",
              "      <td>Bachelors</td>\n",
              "      <td>13</td>\n",
              "      <td>Married-civ-spouse</td>\n",
              "      <td>Exec-managerial</td>\n",
              "      <td>Husband</td>\n",
              "      <td>White</td>\n",
              "      <td>Male</td>\n",
              "      <td>0</td>\n",
              "      <td>0</td>\n",
              "      <td>13</td>\n",
              "      <td>United-States</td>\n",
              "      <td>&lt;=50K</td>\n",
              "    </tr>\n",
              "    <tr>\n",
              "      <td>2</td>\n",
              "      <td>38</td>\n",
              "      <td>Private</td>\n",
              "      <td>215646</td>\n",
              "      <td>HS-grad</td>\n",
              "      <td>9</td>\n",
              "      <td>Divorced</td>\n",
              "      <td>Handlers-cleaners</td>\n",
              "      <td>Not-in-family</td>\n",
              "      <td>White</td>\n",
              "      <td>Male</td>\n",
              "      <td>0</td>\n",
              "      <td>0</td>\n",
              "      <td>40</td>\n",
              "      <td>United-States</td>\n",
              "      <td>&lt;=50K</td>\n",
              "    </tr>\n",
              "    <tr>\n",
              "      <td>3</td>\n",
              "      <td>53</td>\n",
              "      <td>Private</td>\n",
              "      <td>234721</td>\n",
              "      <td>11th</td>\n",
              "      <td>7</td>\n",
              "      <td>Married-civ-spouse</td>\n",
              "      <td>Handlers-cleaners</td>\n",
              "      <td>Husband</td>\n",
              "      <td>Black</td>\n",
              "      <td>Male</td>\n",
              "      <td>0</td>\n",
              "      <td>0</td>\n",
              "      <td>40</td>\n",
              "      <td>United-States</td>\n",
              "      <td>&lt;=50K</td>\n",
              "    </tr>\n",
              "    <tr>\n",
              "      <td>4</td>\n",
              "      <td>28</td>\n",
              "      <td>Private</td>\n",
              "      <td>338409</td>\n",
              "      <td>Bachelors</td>\n",
              "      <td>13</td>\n",
              "      <td>Married-civ-spouse</td>\n",
              "      <td>Prof-specialty</td>\n",
              "      <td>Wife</td>\n",
              "      <td>Black</td>\n",
              "      <td>Female</td>\n",
              "      <td>0</td>\n",
              "      <td>0</td>\n",
              "      <td>40</td>\n",
              "      <td>Cuba</td>\n",
              "      <td>&lt;=50K</td>\n",
              "    </tr>\n",
              "  </tbody>\n",
              "</table>\n",
              "</div>"
            ],
            "text/plain": [
              "   age          workclass  fnlwgt   education  education_num  \\\n",
              "0   39          State-gov   77516   Bachelors             13   \n",
              "1   50   Self-emp-not-inc   83311   Bachelors             13   \n",
              "2   38            Private  215646     HS-grad              9   \n",
              "3   53            Private  234721        11th              7   \n",
              "4   28            Private  338409   Bachelors             13   \n",
              "\n",
              "        marital_status          occupation    relationship    race      sex  \\\n",
              "0        Never-married        Adm-clerical   Not-in-family   White     Male   \n",
              "1   Married-civ-spouse     Exec-managerial         Husband   White     Male   \n",
              "2             Divorced   Handlers-cleaners   Not-in-family   White     Male   \n",
              "3   Married-civ-spouse   Handlers-cleaners         Husband   Black     Male   \n",
              "4   Married-civ-spouse      Prof-specialty            Wife   Black   Female   \n",
              "\n",
              "   capital_gain  capital_loss  hours_per_week  native_country  income  \n",
              "0          2174             0              40   United-States   <=50K  \n",
              "1             0             0              13   United-States   <=50K  \n",
              "2             0             0              40   United-States   <=50K  \n",
              "3             0             0              40   United-States   <=50K  \n",
              "4             0             0              40            Cuba   <=50K  "
            ]
          },
          "metadata": {
            "tags": []
          },
          "execution_count": 3
        }
      ]
    },
    {
      "cell_type": "markdown",
      "metadata": {
        "id": "Fq2VKkYWY2Xf",
        "colab_type": "text"
      },
      "source": [
        "### 2. look at the head, info, dtype, check for nan values"
      ]
    },
    {
      "cell_type": "code",
      "metadata": {
        "id": "KzZ98fCiY2Xg",
        "colab_type": "code",
        "colab": {},
        "outputId": "c96a2394-30be-441a-ff0e-10cae62344f7"
      },
      "source": [
        "df.info()"
      ],
      "execution_count": 0,
      "outputs": [
        {
          "output_type": "stream",
          "text": [
            "<class 'pandas.core.frame.DataFrame'>\n",
            "RangeIndex: 32561 entries, 0 to 32560\n",
            "Data columns (total 15 columns):\n",
            "age               32561 non-null int64\n",
            "workclass         32561 non-null object\n",
            "fnlwgt            32561 non-null int64\n",
            "education         32561 non-null object\n",
            "education_num     32561 non-null int64\n",
            "marital_status    32561 non-null object\n",
            "occupation        32561 non-null object\n",
            "relationship      32561 non-null object\n",
            "race              32561 non-null object\n",
            "sex               32561 non-null object\n",
            "capital_gain      32561 non-null int64\n",
            "capital_loss      32561 non-null int64\n",
            "hours_per_week    32561 non-null int64\n",
            "native_country    32561 non-null object\n",
            "income            32561 non-null object\n",
            "dtypes: int64(6), object(9)\n",
            "memory usage: 2.6+ MB\n"
          ],
          "name": "stdout"
        }
      ]
    },
    {
      "cell_type": "markdown",
      "metadata": {
        "id": "KAGU1W0qY2Xi",
        "colab_type": "text"
      },
      "source": [
        "#### > answer:\n",
        "> no null values. yippee!"
      ]
    },
    {
      "cell_type": "markdown",
      "metadata": {
        "id": "9oxLS_mwY2Xj",
        "colab_type": "text"
      },
      "source": [
        "## 3. what are the value counts of the categorical variables: workclass, education, marital_status, occupation, relationship, race, sex, native_country, income?\n",
        "   - do you notice the extra space ' ' at the beginning of each value?\n",
        "   - remove the extra space"
      ]
    },
    {
      "cell_type": "code",
      "metadata": {
        "id": "AkdHqaAvY2Xk",
        "colab_type": "code",
        "colab": {},
        "outputId": "2f5f8bf0-43f0-476f-e102-eda58bf18c8e"
      },
      "source": [
        "for column in \"workclass education marital_status occupation relationship race sex native_country income\".split():\n",
        "    print(column, ':')\n",
        "    print(df[column].value_counts())\n",
        "    print()"
      ],
      "execution_count": 0,
      "outputs": [
        {
          "output_type": "stream",
          "text": [
            "workclass :\n",
            " Private             22696\n",
            " Self-emp-not-inc     2541\n",
            " Local-gov            2093\n",
            " ?                    1836\n",
            " State-gov            1298\n",
            " Self-emp-inc         1116\n",
            " Federal-gov           960\n",
            " Without-pay            14\n",
            " Never-worked            7\n",
            "Name: workclass, dtype: int64\n",
            "\n",
            "education :\n",
            " HS-grad         10501\n",
            " Some-college     7291\n",
            " Bachelors        5355\n",
            " Masters          1723\n",
            " Assoc-voc        1382\n",
            " 11th             1175\n",
            " Assoc-acdm       1067\n",
            " 10th              933\n",
            " 7th-8th           646\n",
            " Prof-school       576\n",
            " 9th               514\n",
            " 12th              433\n",
            " Doctorate         413\n",
            " 5th-6th           333\n",
            " 1st-4th           168\n",
            " Preschool          51\n",
            "Name: education, dtype: int64\n",
            "\n",
            "marital_status :\n",
            " Married-civ-spouse       14976\n",
            " Never-married            10683\n",
            " Divorced                  4443\n",
            " Separated                 1025\n",
            " Widowed                    993\n",
            " Married-spouse-absent      418\n",
            " Married-AF-spouse           23\n",
            "Name: marital_status, dtype: int64\n",
            "\n",
            "occupation :\n",
            " Prof-specialty       4140\n",
            " Craft-repair         4099\n",
            " Exec-managerial      4066\n",
            " Adm-clerical         3770\n",
            " Sales                3650\n",
            " Other-service        3295\n",
            " Machine-op-inspct    2002\n",
            " ?                    1843\n",
            " Transport-moving     1597\n",
            " Handlers-cleaners    1370\n",
            " Farming-fishing       994\n",
            " Tech-support          928\n",
            " Protective-serv       649\n",
            " Priv-house-serv       149\n",
            " Armed-Forces            9\n",
            "Name: occupation, dtype: int64\n",
            "\n",
            "relationship :\n",
            " Husband           13193\n",
            " Not-in-family      8305\n",
            " Own-child          5068\n",
            " Unmarried          3446\n",
            " Wife               1568\n",
            " Other-relative      981\n",
            "Name: relationship, dtype: int64\n",
            "\n",
            "race :\n",
            " White                 27816\n",
            " Black                  3124\n",
            " Asian-Pac-Islander     1039\n",
            " Amer-Indian-Eskimo      311\n",
            " Other                   271\n",
            "Name: race, dtype: int64\n",
            "\n",
            "sex :\n",
            " Male      21790\n",
            " Female    10771\n",
            "Name: sex, dtype: int64\n",
            "\n",
            "native_country :\n",
            " United-States                 29170\n",
            " Mexico                          643\n",
            " ?                               583\n",
            " Philippines                     198\n",
            " Germany                         137\n",
            " Canada                          121\n",
            " Puerto-Rico                     114\n",
            " El-Salvador                     106\n",
            " India                           100\n",
            " Cuba                             95\n",
            " England                          90\n",
            " Jamaica                          81\n",
            " South                            80\n",
            " China                            75\n",
            " Italy                            73\n",
            " Dominican-Republic               70\n",
            " Vietnam                          67\n",
            " Guatemala                        64\n",
            " Japan                            62\n",
            " Poland                           60\n",
            " Columbia                         59\n",
            " Taiwan                           51\n",
            " Haiti                            44\n",
            " Iran                             43\n",
            " Portugal                         37\n",
            " Nicaragua                        34\n",
            " Peru                             31\n",
            " France                           29\n",
            " Greece                           29\n",
            " Ecuador                          28\n",
            " Ireland                          24\n",
            " Hong                             20\n",
            " Trinadad&Tobago                  19\n",
            " Cambodia                         19\n",
            " Laos                             18\n",
            " Thailand                         18\n",
            " Yugoslavia                       16\n",
            " Outlying-US(Guam-USVI-etc)       14\n",
            " Honduras                         13\n",
            " Hungary                          13\n",
            " Scotland                         12\n",
            " Holand-Netherlands                1\n",
            "Name: native_country, dtype: int64\n",
            "\n",
            "income :\n",
            " <=50K    24720\n",
            " >50K      7841\n",
            "Name: income, dtype: int64\n",
            "\n"
          ],
          "name": "stdout"
        }
      ]
    },
    {
      "cell_type": "code",
      "metadata": {
        "id": "29XjdqfFY2Xm",
        "colab_type": "code",
        "colab": {},
        "outputId": "3a30e162-f7e1-4def-835f-88f64dca0f8c"
      },
      "source": [
        "for column in \"workclass education marital_status occupation relationship race sex native_country income\".split():\n",
        "    print(column, ':')\n",
        "    df[column] = df[column].str.strip()\n",
        "    print(df[column].value_counts())\n",
        "    print()"
      ],
      "execution_count": 0,
      "outputs": [
        {
          "output_type": "stream",
          "text": [
            "workclass :\n",
            "Private             22696\n",
            "Self-emp-not-inc     2541\n",
            "Local-gov            2093\n",
            "?                    1836\n",
            "State-gov            1298\n",
            "Self-emp-inc         1116\n",
            "Federal-gov           960\n",
            "Without-pay            14\n",
            "Never-worked            7\n",
            "Name: workclass, dtype: int64\n",
            "\n",
            "education :\n",
            "HS-grad         10501\n",
            "Some-college     7291\n",
            "Bachelors        5355\n",
            "Masters          1723\n",
            "Assoc-voc        1382\n",
            "11th             1175\n",
            "Assoc-acdm       1067\n",
            "10th              933\n",
            "7th-8th           646\n",
            "Prof-school       576\n",
            "9th               514\n",
            "12th              433\n",
            "Doctorate         413\n",
            "5th-6th           333\n",
            "1st-4th           168\n",
            "Preschool          51\n",
            "Name: education, dtype: int64\n",
            "\n",
            "marital_status :\n",
            "Married-civ-spouse       14976\n",
            "Never-married            10683\n",
            "Divorced                  4443\n",
            "Separated                 1025\n",
            "Widowed                    993\n",
            "Married-spouse-absent      418\n",
            "Married-AF-spouse           23\n",
            "Name: marital_status, dtype: int64\n",
            "\n",
            "occupation :\n",
            "Prof-specialty       4140\n",
            "Craft-repair         4099\n",
            "Exec-managerial      4066\n",
            "Adm-clerical         3770\n",
            "Sales                3650\n",
            "Other-service        3295\n",
            "Machine-op-inspct    2002\n",
            "?                    1843\n",
            "Transport-moving     1597\n",
            "Handlers-cleaners    1370\n",
            "Farming-fishing       994\n",
            "Tech-support          928\n",
            "Protective-serv       649\n",
            "Priv-house-serv       149\n",
            "Armed-Forces            9\n",
            "Name: occupation, dtype: int64\n",
            "\n",
            "relationship :\n",
            "Husband           13193\n",
            "Not-in-family      8305\n",
            "Own-child          5068\n",
            "Unmarried          3446\n",
            "Wife               1568\n",
            "Other-relative      981\n",
            "Name: relationship, dtype: int64\n",
            "\n",
            "race :\n",
            "White                 27816\n",
            "Black                  3124\n",
            "Asian-Pac-Islander     1039\n",
            "Amer-Indian-Eskimo      311\n",
            "Other                   271\n",
            "Name: race, dtype: int64\n",
            "\n",
            "sex :\n",
            "Male      21790\n",
            "Female    10771\n",
            "Name: sex, dtype: int64\n",
            "\n",
            "native_country :\n",
            "United-States                 29170\n",
            "Mexico                          643\n",
            "?                               583\n",
            "Philippines                     198\n",
            "Germany                         137\n",
            "Canada                          121\n",
            "Puerto-Rico                     114\n",
            "El-Salvador                     106\n",
            "India                           100\n",
            "Cuba                             95\n",
            "England                          90\n",
            "Jamaica                          81\n",
            "South                            80\n",
            "China                            75\n",
            "Italy                            73\n",
            "Dominican-Republic               70\n",
            "Vietnam                          67\n",
            "Guatemala                        64\n",
            "Japan                            62\n",
            "Poland                           60\n",
            "Columbia                         59\n",
            "Taiwan                           51\n",
            "Haiti                            44\n",
            "Iran                             43\n",
            "Portugal                         37\n",
            "Nicaragua                        34\n",
            "Peru                             31\n",
            "Greece                           29\n",
            "France                           29\n",
            "Ecuador                          28\n",
            "Ireland                          24\n",
            "Hong                             20\n",
            "Trinadad&Tobago                  19\n",
            "Cambodia                         19\n",
            "Laos                             18\n",
            "Thailand                         18\n",
            "Yugoslavia                       16\n",
            "Outlying-US(Guam-USVI-etc)       14\n",
            "Honduras                         13\n",
            "Hungary                          13\n",
            "Scotland                         12\n",
            "Holand-Netherlands                1\n",
            "Name: native_country, dtype: int64\n",
            "\n",
            "income :\n",
            "<=50K    24720\n",
            ">50K      7841\n",
            "Name: income, dtype: int64\n",
            "\n"
          ],
          "name": "stdout"
        }
      ]
    },
    {
      "cell_type": "markdown",
      "metadata": {
        "id": "iPRh5CtFY2Xp",
        "colab_type": "text"
      },
      "source": [
        "## 4. turn 'sex' and 'income' into 0/1 fields\n",
        "   - replace the categorical 'sex' column with a numerical 'female' column with value 1 for females and 0 for males\n",
        "   - replace the categorical 'income' column with a numerical 'over50k' column with value 1 for '>50k' and 0 for '<50K'\n"
      ]
    },
    {
      "cell_type": "code",
      "metadata": {
        "id": "pFpTjn3sY2Xq",
        "colab_type": "code",
        "colab": {},
        "outputId": "bf834605-2543-4d24-eb13-7fabacd39f06"
      },
      "source": [
        "df.rename(columns={'sex': 'female', 'income' : 'over50k'}, inplace=True)\n",
        "df.replace({'female' : {'Male' : 0, 'Female' : 1 }, 'over50k' : {'>50K' : 1, '<=50K' : 0}}, inplace=True)\n",
        "df.head(10)"
      ],
      "execution_count": 0,
      "outputs": [
        {
          "output_type": "execute_result",
          "data": {
            "text/html": [
              "<div>\n",
              "<style scoped>\n",
              "    .dataframe tbody tr th:only-of-type {\n",
              "        vertical-align: middle;\n",
              "    }\n",
              "\n",
              "    .dataframe tbody tr th {\n",
              "        vertical-align: top;\n",
              "    }\n",
              "\n",
              "    .dataframe thead th {\n",
              "        text-align: right;\n",
              "    }\n",
              "</style>\n",
              "<table border=\"1\" class=\"dataframe\">\n",
              "  <thead>\n",
              "    <tr style=\"text-align: right;\">\n",
              "      <th></th>\n",
              "      <th>age</th>\n",
              "      <th>workclass</th>\n",
              "      <th>fnlwgt</th>\n",
              "      <th>education</th>\n",
              "      <th>education_num</th>\n",
              "      <th>marital_status</th>\n",
              "      <th>occupation</th>\n",
              "      <th>relationship</th>\n",
              "      <th>race</th>\n",
              "      <th>female</th>\n",
              "      <th>capital_gain</th>\n",
              "      <th>capital_loss</th>\n",
              "      <th>hours_per_week</th>\n",
              "      <th>native_country</th>\n",
              "      <th>over50k</th>\n",
              "    </tr>\n",
              "  </thead>\n",
              "  <tbody>\n",
              "    <tr>\n",
              "      <td>0</td>\n",
              "      <td>39</td>\n",
              "      <td>State-gov</td>\n",
              "      <td>77516</td>\n",
              "      <td>Bachelors</td>\n",
              "      <td>13</td>\n",
              "      <td>Never-married</td>\n",
              "      <td>Adm-clerical</td>\n",
              "      <td>Not-in-family</td>\n",
              "      <td>White</td>\n",
              "      <td>0</td>\n",
              "      <td>2174</td>\n",
              "      <td>0</td>\n",
              "      <td>40</td>\n",
              "      <td>United-States</td>\n",
              "      <td>0</td>\n",
              "    </tr>\n",
              "    <tr>\n",
              "      <td>1</td>\n",
              "      <td>50</td>\n",
              "      <td>Self-emp-not-inc</td>\n",
              "      <td>83311</td>\n",
              "      <td>Bachelors</td>\n",
              "      <td>13</td>\n",
              "      <td>Married-civ-spouse</td>\n",
              "      <td>Exec-managerial</td>\n",
              "      <td>Husband</td>\n",
              "      <td>White</td>\n",
              "      <td>0</td>\n",
              "      <td>0</td>\n",
              "      <td>0</td>\n",
              "      <td>13</td>\n",
              "      <td>United-States</td>\n",
              "      <td>0</td>\n",
              "    </tr>\n",
              "    <tr>\n",
              "      <td>2</td>\n",
              "      <td>38</td>\n",
              "      <td>Private</td>\n",
              "      <td>215646</td>\n",
              "      <td>HS-grad</td>\n",
              "      <td>9</td>\n",
              "      <td>Divorced</td>\n",
              "      <td>Handlers-cleaners</td>\n",
              "      <td>Not-in-family</td>\n",
              "      <td>White</td>\n",
              "      <td>0</td>\n",
              "      <td>0</td>\n",
              "      <td>0</td>\n",
              "      <td>40</td>\n",
              "      <td>United-States</td>\n",
              "      <td>0</td>\n",
              "    </tr>\n",
              "    <tr>\n",
              "      <td>3</td>\n",
              "      <td>53</td>\n",
              "      <td>Private</td>\n",
              "      <td>234721</td>\n",
              "      <td>11th</td>\n",
              "      <td>7</td>\n",
              "      <td>Married-civ-spouse</td>\n",
              "      <td>Handlers-cleaners</td>\n",
              "      <td>Husband</td>\n",
              "      <td>Black</td>\n",
              "      <td>0</td>\n",
              "      <td>0</td>\n",
              "      <td>0</td>\n",
              "      <td>40</td>\n",
              "      <td>United-States</td>\n",
              "      <td>0</td>\n",
              "    </tr>\n",
              "    <tr>\n",
              "      <td>4</td>\n",
              "      <td>28</td>\n",
              "      <td>Private</td>\n",
              "      <td>338409</td>\n",
              "      <td>Bachelors</td>\n",
              "      <td>13</td>\n",
              "      <td>Married-civ-spouse</td>\n",
              "      <td>Prof-specialty</td>\n",
              "      <td>Wife</td>\n",
              "      <td>Black</td>\n",
              "      <td>1</td>\n",
              "      <td>0</td>\n",
              "      <td>0</td>\n",
              "      <td>40</td>\n",
              "      <td>Cuba</td>\n",
              "      <td>0</td>\n",
              "    </tr>\n",
              "    <tr>\n",
              "      <td>5</td>\n",
              "      <td>37</td>\n",
              "      <td>Private</td>\n",
              "      <td>284582</td>\n",
              "      <td>Masters</td>\n",
              "      <td>14</td>\n",
              "      <td>Married-civ-spouse</td>\n",
              "      <td>Exec-managerial</td>\n",
              "      <td>Wife</td>\n",
              "      <td>White</td>\n",
              "      <td>1</td>\n",
              "      <td>0</td>\n",
              "      <td>0</td>\n",
              "      <td>40</td>\n",
              "      <td>United-States</td>\n",
              "      <td>0</td>\n",
              "    </tr>\n",
              "    <tr>\n",
              "      <td>6</td>\n",
              "      <td>49</td>\n",
              "      <td>Private</td>\n",
              "      <td>160187</td>\n",
              "      <td>9th</td>\n",
              "      <td>5</td>\n",
              "      <td>Married-spouse-absent</td>\n",
              "      <td>Other-service</td>\n",
              "      <td>Not-in-family</td>\n",
              "      <td>Black</td>\n",
              "      <td>1</td>\n",
              "      <td>0</td>\n",
              "      <td>0</td>\n",
              "      <td>16</td>\n",
              "      <td>Jamaica</td>\n",
              "      <td>0</td>\n",
              "    </tr>\n",
              "    <tr>\n",
              "      <td>7</td>\n",
              "      <td>52</td>\n",
              "      <td>Self-emp-not-inc</td>\n",
              "      <td>209642</td>\n",
              "      <td>HS-grad</td>\n",
              "      <td>9</td>\n",
              "      <td>Married-civ-spouse</td>\n",
              "      <td>Exec-managerial</td>\n",
              "      <td>Husband</td>\n",
              "      <td>White</td>\n",
              "      <td>0</td>\n",
              "      <td>0</td>\n",
              "      <td>0</td>\n",
              "      <td>45</td>\n",
              "      <td>United-States</td>\n",
              "      <td>1</td>\n",
              "    </tr>\n",
              "    <tr>\n",
              "      <td>8</td>\n",
              "      <td>31</td>\n",
              "      <td>Private</td>\n",
              "      <td>45781</td>\n",
              "      <td>Masters</td>\n",
              "      <td>14</td>\n",
              "      <td>Never-married</td>\n",
              "      <td>Prof-specialty</td>\n",
              "      <td>Not-in-family</td>\n",
              "      <td>White</td>\n",
              "      <td>1</td>\n",
              "      <td>14084</td>\n",
              "      <td>0</td>\n",
              "      <td>50</td>\n",
              "      <td>United-States</td>\n",
              "      <td>1</td>\n",
              "    </tr>\n",
              "    <tr>\n",
              "      <td>9</td>\n",
              "      <td>42</td>\n",
              "      <td>Private</td>\n",
              "      <td>159449</td>\n",
              "      <td>Bachelors</td>\n",
              "      <td>13</td>\n",
              "      <td>Married-civ-spouse</td>\n",
              "      <td>Exec-managerial</td>\n",
              "      <td>Husband</td>\n",
              "      <td>White</td>\n",
              "      <td>0</td>\n",
              "      <td>5178</td>\n",
              "      <td>0</td>\n",
              "      <td>40</td>\n",
              "      <td>United-States</td>\n",
              "      <td>1</td>\n",
              "    </tr>\n",
              "  </tbody>\n",
              "</table>\n",
              "</div>"
            ],
            "text/plain": [
              "   age         workclass  fnlwgt  education  education_num  \\\n",
              "0   39         State-gov   77516  Bachelors             13   \n",
              "1   50  Self-emp-not-inc   83311  Bachelors             13   \n",
              "2   38           Private  215646    HS-grad              9   \n",
              "3   53           Private  234721       11th              7   \n",
              "4   28           Private  338409  Bachelors             13   \n",
              "5   37           Private  284582    Masters             14   \n",
              "6   49           Private  160187        9th              5   \n",
              "7   52  Self-emp-not-inc  209642    HS-grad              9   \n",
              "8   31           Private   45781    Masters             14   \n",
              "9   42           Private  159449  Bachelors             13   \n",
              "\n",
              "          marital_status         occupation   relationship   race  female  \\\n",
              "0          Never-married       Adm-clerical  Not-in-family  White       0   \n",
              "1     Married-civ-spouse    Exec-managerial        Husband  White       0   \n",
              "2               Divorced  Handlers-cleaners  Not-in-family  White       0   \n",
              "3     Married-civ-spouse  Handlers-cleaners        Husband  Black       0   \n",
              "4     Married-civ-spouse     Prof-specialty           Wife  Black       1   \n",
              "5     Married-civ-spouse    Exec-managerial           Wife  White       1   \n",
              "6  Married-spouse-absent      Other-service  Not-in-family  Black       1   \n",
              "7     Married-civ-spouse    Exec-managerial        Husband  White       0   \n",
              "8          Never-married     Prof-specialty  Not-in-family  White       1   \n",
              "9     Married-civ-spouse    Exec-managerial        Husband  White       0   \n",
              "\n",
              "   capital_gain  capital_loss  hours_per_week native_country  over50k  \n",
              "0          2174             0              40  United-States        0  \n",
              "1             0             0              13  United-States        0  \n",
              "2             0             0              40  United-States        0  \n",
              "3             0             0              40  United-States        0  \n",
              "4             0             0              40           Cuba        0  \n",
              "5             0             0              40  United-States        0  \n",
              "6             0             0              16        Jamaica        0  \n",
              "7             0             0              45  United-States        1  \n",
              "8         14084             0              50  United-States        1  \n",
              "9          5178             0              40  United-States        1  "
            ]
          },
          "metadata": {
            "tags": []
          },
          "execution_count": 7
        }
      ]
    },
    {
      "cell_type": "markdown",
      "metadata": {
        "id": "MtEHFGVCY2Xt",
        "colab_type": "text"
      },
      "source": [
        "## 5. use `.describe()` function to get descriptive statistics for most columns\n",
        "   - make sure that 'sex' and 'over50k' are now numerical fields"
      ]
    },
    {
      "cell_type": "code",
      "metadata": {
        "id": "xrMSAPGOY2Xu",
        "colab_type": "code",
        "colab": {},
        "outputId": "1d345f56-5a57-48c4-af0d-9c2a143fc71c"
      },
      "source": [
        "df.describe()"
      ],
      "execution_count": 0,
      "outputs": [
        {
          "output_type": "execute_result",
          "data": {
            "text/html": [
              "<div>\n",
              "<style scoped>\n",
              "    .dataframe tbody tr th:only-of-type {\n",
              "        vertical-align: middle;\n",
              "    }\n",
              "\n",
              "    .dataframe tbody tr th {\n",
              "        vertical-align: top;\n",
              "    }\n",
              "\n",
              "    .dataframe thead th {\n",
              "        text-align: right;\n",
              "    }\n",
              "</style>\n",
              "<table border=\"1\" class=\"dataframe\">\n",
              "  <thead>\n",
              "    <tr style=\"text-align: right;\">\n",
              "      <th></th>\n",
              "      <th>age</th>\n",
              "      <th>fnlwgt</th>\n",
              "      <th>education_num</th>\n",
              "      <th>female</th>\n",
              "      <th>capital_gain</th>\n",
              "      <th>capital_loss</th>\n",
              "      <th>hours_per_week</th>\n",
              "      <th>over50k</th>\n",
              "    </tr>\n",
              "  </thead>\n",
              "  <tbody>\n",
              "    <tr>\n",
              "      <td>count</td>\n",
              "      <td>32561.000000</td>\n",
              "      <td>3.256100e+04</td>\n",
              "      <td>32561.000000</td>\n",
              "      <td>32561.000000</td>\n",
              "      <td>32561.000000</td>\n",
              "      <td>32561.000000</td>\n",
              "      <td>32561.000000</td>\n",
              "      <td>32561.000000</td>\n",
              "    </tr>\n",
              "    <tr>\n",
              "      <td>mean</td>\n",
              "      <td>38.581647</td>\n",
              "      <td>1.897784e+05</td>\n",
              "      <td>10.080679</td>\n",
              "      <td>0.330795</td>\n",
              "      <td>1077.648844</td>\n",
              "      <td>87.303830</td>\n",
              "      <td>40.437456</td>\n",
              "      <td>0.240810</td>\n",
              "    </tr>\n",
              "    <tr>\n",
              "      <td>std</td>\n",
              "      <td>13.640433</td>\n",
              "      <td>1.055500e+05</td>\n",
              "      <td>2.572720</td>\n",
              "      <td>0.470506</td>\n",
              "      <td>7385.292085</td>\n",
              "      <td>402.960219</td>\n",
              "      <td>12.347429</td>\n",
              "      <td>0.427581</td>\n",
              "    </tr>\n",
              "    <tr>\n",
              "      <td>min</td>\n",
              "      <td>17.000000</td>\n",
              "      <td>1.228500e+04</td>\n",
              "      <td>1.000000</td>\n",
              "      <td>0.000000</td>\n",
              "      <td>0.000000</td>\n",
              "      <td>0.000000</td>\n",
              "      <td>1.000000</td>\n",
              "      <td>0.000000</td>\n",
              "    </tr>\n",
              "    <tr>\n",
              "      <td>25%</td>\n",
              "      <td>28.000000</td>\n",
              "      <td>1.178270e+05</td>\n",
              "      <td>9.000000</td>\n",
              "      <td>0.000000</td>\n",
              "      <td>0.000000</td>\n",
              "      <td>0.000000</td>\n",
              "      <td>40.000000</td>\n",
              "      <td>0.000000</td>\n",
              "    </tr>\n",
              "    <tr>\n",
              "      <td>50%</td>\n",
              "      <td>37.000000</td>\n",
              "      <td>1.783560e+05</td>\n",
              "      <td>10.000000</td>\n",
              "      <td>0.000000</td>\n",
              "      <td>0.000000</td>\n",
              "      <td>0.000000</td>\n",
              "      <td>40.000000</td>\n",
              "      <td>0.000000</td>\n",
              "    </tr>\n",
              "    <tr>\n",
              "      <td>75%</td>\n",
              "      <td>48.000000</td>\n",
              "      <td>2.370510e+05</td>\n",
              "      <td>12.000000</td>\n",
              "      <td>1.000000</td>\n",
              "      <td>0.000000</td>\n",
              "      <td>0.000000</td>\n",
              "      <td>45.000000</td>\n",
              "      <td>0.000000</td>\n",
              "    </tr>\n",
              "    <tr>\n",
              "      <td>max</td>\n",
              "      <td>90.000000</td>\n",
              "      <td>1.484705e+06</td>\n",
              "      <td>16.000000</td>\n",
              "      <td>1.000000</td>\n",
              "      <td>99999.000000</td>\n",
              "      <td>4356.000000</td>\n",
              "      <td>99.000000</td>\n",
              "      <td>1.000000</td>\n",
              "    </tr>\n",
              "  </tbody>\n",
              "</table>\n",
              "</div>"
            ],
            "text/plain": [
              "                age        fnlwgt  education_num        female  capital_gain  \\\n",
              "count  32561.000000  3.256100e+04   32561.000000  32561.000000  32561.000000   \n",
              "mean      38.581647  1.897784e+05      10.080679      0.330795   1077.648844   \n",
              "std       13.640433  1.055500e+05       2.572720      0.470506   7385.292085   \n",
              "min       17.000000  1.228500e+04       1.000000      0.000000      0.000000   \n",
              "25%       28.000000  1.178270e+05       9.000000      0.000000      0.000000   \n",
              "50%       37.000000  1.783560e+05      10.000000      0.000000      0.000000   \n",
              "75%       48.000000  2.370510e+05      12.000000      1.000000      0.000000   \n",
              "max       90.000000  1.484705e+06      16.000000      1.000000  99999.000000   \n",
              "\n",
              "       capital_loss  hours_per_week       over50k  \n",
              "count  32561.000000    32561.000000  32561.000000  \n",
              "mean      87.303830       40.437456      0.240810  \n",
              "std      402.960219       12.347429      0.427581  \n",
              "min        0.000000        1.000000      0.000000  \n",
              "25%        0.000000       40.000000      0.000000  \n",
              "50%        0.000000       40.000000      0.000000  \n",
              "75%        0.000000       45.000000      0.000000  \n",
              "max     4356.000000       99.000000      1.000000  "
            ]
          },
          "metadata": {
            "tags": []
          },
          "execution_count": 8
        }
      ]
    },
    {
      "cell_type": "markdown",
      "metadata": {
        "id": "GH7tw57mY2Xw",
        "colab_type": "text"
      },
      "source": [
        "## 2. explore capital gains / losses\n",
        "### capital_gain\n",
        "1. plot the histogram for capital gains\n",
        "   - verbally describe what you see"
      ]
    },
    {
      "cell_type": "code",
      "metadata": {
        "id": "T1jmPvQ7Y2Xx",
        "colab_type": "code",
        "colab": {},
        "outputId": "00eb8ee5-8b10-4750-dcf9-fdb29b18c26e"
      },
      "source": [
        "sns.distplot(df.capital_gain, kde=False)"
      ],
      "execution_count": 0,
      "outputs": [
        {
          "output_type": "execute_result",
          "data": {
            "text/plain": [
              "<matplotlib.axes._subplots.AxesSubplot at 0xf13e770>"
            ]
          },
          "metadata": {
            "tags": []
          },
          "execution_count": 9
        },
        {
          "output_type": "display_data",
          "data": {
            "image/png": "[encoded data removed]",
            "text/plain": [
              "<Figure size 432x288 with 1 Axes>"
            ]
          },
          "metadata": {
            "tags": [],
            "needs_background": "light"
          }
        }
      ]
    },
    {
      "cell_type": "markdown",
      "metadata": {
        "id": "LM98vuZUY2Xz",
        "colab_type": "text"
      },
      "source": [
        "#### > answer:\n",
        "> almost everyone has $capital\\_gains=0$"
      ]
    },
    {
      "cell_type": "markdown",
      "metadata": {
        "id": "TuyFCoRqY2Xz",
        "colab_type": "text"
      },
      "source": [
        "### 2. for people who have `capital_gain > 0` - plot the histogram for capital gains"
      ]
    },
    {
      "cell_type": "code",
      "metadata": {
        "id": "4ED_50C_Y2X0",
        "colab_type": "code",
        "colab": {},
        "outputId": "29826034-6830-4b05-fa44-f395e146ae95"
      },
      "source": [
        "sns.distplot(df[df.capital_gain > 0].capital_gain, kde=False)"
      ],
      "execution_count": 0,
      "outputs": [
        {
          "output_type": "execute_result",
          "data": {
            "text/plain": [
              "<matplotlib.axes._subplots.AxesSubplot at 0xf240c50>"
            ]
          },
          "metadata": {
            "tags": []
          },
          "execution_count": 10
        },
        {
          "output_type": "display_data",
          "data": {
            "image/png": "[encoded data removed]",
            "text/plain": [
              "<Figure size 432x288 with 1 Axes>"
            ]
          },
          "metadata": {
            "tags": [],
            "needs_background": "light"
          }
        }
      ]
    },
    {
      "cell_type": "markdown",
      "metadata": {
        "id": "bFtJBxlQY2X3",
        "colab_type": "text"
      },
      "source": [
        "#### > remark:\n",
        "> what's this weird bump at $100K ?"
      ]
    },
    {
      "cell_type": "markdown",
      "metadata": {
        "id": "_BlOBhU0Y2X4",
        "colab_type": "text"
      },
      "source": [
        "### 3. how many people have capital gains over 25000?\n",
        "   - use `value_counts()` to look at all the values of capital_gain over 25000. \n",
        "   - what's weird about the data?"
      ]
    },
    {
      "cell_type": "code",
      "metadata": {
        "id": "aEHn2ZS4Y2X5",
        "colab_type": "code",
        "colab": {},
        "outputId": "de855e83-002e-4337-8f4b-7eddc0fe8971"
      },
      "source": [
        "df[df.capital_gain > 25000].capital_gain.value_counts()"
      ],
      "execution_count": 0,
      "outputs": [
        {
          "output_type": "execute_result",
          "data": {
            "text/plain": [
              "99999    159\n",
              "27828     34\n",
              "25236     11\n",
              "34095      5\n",
              "25124      4\n",
              "41310      2\n",
              "Name: capital_gain, dtype: int64"
            ]
          },
          "metadata": {
            "tags": []
          },
          "execution_count": 11
        }
      ]
    },
    {
      "cell_type": "markdown",
      "metadata": {
        "id": "gRd00dGVY2X7",
        "colab_type": "text"
      },
      "source": [
        "#### > answer:\n",
        "> - the values seem oddly perscriptive... why do specific value repeat so much, and no values in between?\n",
        "> - are the values here coding for something?\n",
        "> - also 99999 is maybe a cap value of capital gains?\n"
      ]
    },
    {
      "cell_type": "markdown",
      "metadata": {
        "id": "wfCIGACMY2X8",
        "colab_type": "text"
      },
      "source": [
        "### 4. could the people who had capital_gain==25124 be related?"
      ]
    },
    {
      "cell_type": "code",
      "metadata": {
        "id": "Fj0hffYaY2X8",
        "colab_type": "code",
        "colab": {},
        "outputId": "79c51103-6db3-42f9-9dee-a459837171d2"
      },
      "source": [
        "df[df.capital_gain == 25124]"
      ],
      "execution_count": 0,
      "outputs": [
        {
          "output_type": "execute_result",
          "data": {
            "text/html": [
              "<div>\n",
              "<style scoped>\n",
              "    .dataframe tbody tr th:only-of-type {\n",
              "        vertical-align: middle;\n",
              "    }\n",
              "\n",
              "    .dataframe tbody tr th {\n",
              "        vertical-align: top;\n",
              "    }\n",
              "\n",
              "    .dataframe thead th {\n",
              "        text-align: right;\n",
              "    }\n",
              "</style>\n",
              "<table border=\"1\" class=\"dataframe\">\n",
              "  <thead>\n",
              "    <tr style=\"text-align: right;\">\n",
              "      <th></th>\n",
              "      <th>age</th>\n",
              "      <th>workclass</th>\n",
              "      <th>fnlwgt</th>\n",
              "      <th>education</th>\n",
              "      <th>education_num</th>\n",
              "      <th>marital_status</th>\n",
              "      <th>occupation</th>\n",
              "      <th>relationship</th>\n",
              "      <th>race</th>\n",
              "      <th>female</th>\n",
              "      <th>capital_gain</th>\n",
              "      <th>capital_loss</th>\n",
              "      <th>hours_per_week</th>\n",
              "      <th>native_country</th>\n",
              "      <th>over50k</th>\n",
              "    </tr>\n",
              "  </thead>\n",
              "  <tbody>\n",
              "    <tr>\n",
              "      <td>1562</td>\n",
              "      <td>75</td>\n",
              "      <td>?</td>\n",
              "      <td>111177</td>\n",
              "      <td>Bachelors</td>\n",
              "      <td>13</td>\n",
              "      <td>Widowed</td>\n",
              "      <td>?</td>\n",
              "      <td>Not-in-family</td>\n",
              "      <td>White</td>\n",
              "      <td>1</td>\n",
              "      <td>25124</td>\n",
              "      <td>0</td>\n",
              "      <td>16</td>\n",
              "      <td>United-States</td>\n",
              "      <td>1</td>\n",
              "    </tr>\n",
              "    <tr>\n",
              "      <td>18847</td>\n",
              "      <td>73</td>\n",
              "      <td>Private</td>\n",
              "      <td>183213</td>\n",
              "      <td>Assoc-voc</td>\n",
              "      <td>11</td>\n",
              "      <td>Widowed</td>\n",
              "      <td>Prof-specialty</td>\n",
              "      <td>Not-in-family</td>\n",
              "      <td>White</td>\n",
              "      <td>0</td>\n",
              "      <td>25124</td>\n",
              "      <td>0</td>\n",
              "      <td>60</td>\n",
              "      <td>United-States</td>\n",
              "      <td>1</td>\n",
              "    </tr>\n",
              "    <tr>\n",
              "      <td>21892</td>\n",
              "      <td>65</td>\n",
              "      <td>?</td>\n",
              "      <td>224472</td>\n",
              "      <td>Prof-school</td>\n",
              "      <td>15</td>\n",
              "      <td>Never-married</td>\n",
              "      <td>?</td>\n",
              "      <td>Not-in-family</td>\n",
              "      <td>White</td>\n",
              "      <td>0</td>\n",
              "      <td>25124</td>\n",
              "      <td>0</td>\n",
              "      <td>80</td>\n",
              "      <td>United-States</td>\n",
              "      <td>1</td>\n",
              "    </tr>\n",
              "    <tr>\n",
              "      <td>22462</td>\n",
              "      <td>68</td>\n",
              "      <td>Self-emp-inc</td>\n",
              "      <td>52052</td>\n",
              "      <td>Assoc-voc</td>\n",
              "      <td>11</td>\n",
              "      <td>Widowed</td>\n",
              "      <td>Sales</td>\n",
              "      <td>Not-in-family</td>\n",
              "      <td>White</td>\n",
              "      <td>1</td>\n",
              "      <td>25124</td>\n",
              "      <td>0</td>\n",
              "      <td>50</td>\n",
              "      <td>United-States</td>\n",
              "      <td>1</td>\n",
              "    </tr>\n",
              "  </tbody>\n",
              "</table>\n",
              "</div>"
            ],
            "text/plain": [
              "       age     workclass  fnlwgt    education  education_num marital_status  \\\n",
              "1562    75             ?  111177    Bachelors             13        Widowed   \n",
              "18847   73       Private  183213    Assoc-voc             11        Widowed   \n",
              "21892   65             ?  224472  Prof-school             15  Never-married   \n",
              "22462   68  Self-emp-inc   52052    Assoc-voc             11        Widowed   \n",
              "\n",
              "           occupation   relationship   race  female  capital_gain  \\\n",
              "1562                ?  Not-in-family  White       1         25124   \n",
              "18847  Prof-specialty  Not-in-family  White       0         25124   \n",
              "21892               ?  Not-in-family  White       0         25124   \n",
              "22462           Sales  Not-in-family  White       1         25124   \n",
              "\n",
              "       capital_loss  hours_per_week native_country  over50k  \n",
              "1562              0              16  United-States        1  \n",
              "18847             0              60  United-States        1  \n",
              "21892             0              80  United-States        1  \n",
              "22462             0              50  United-States        1  "
            ]
          },
          "metadata": {
            "tags": []
          },
          "execution_count": 12
        }
      ]
    },
    {
      "cell_type": "markdown",
      "metadata": {
        "id": "azjTwlbCY2X-",
        "colab_type": "text"
      },
      "source": [
        "#### > answer:\n",
        "\n",
        "- very unlikely, 3 widows and 1 never-married are unlikely to share one household. \n",
        "- their \"shared\" capital_gain either codes for something, or is some kind of quantized property of a calculated field, or other fluke"
      ]
    },
    {
      "cell_type": "markdown",
      "metadata": {
        "id": "mLaC26dPY2X_",
        "colab_type": "text"
      },
      "source": [
        "### 5. does capital_gain over 50k mean income is over 50k?"
      ]
    },
    {
      "cell_type": "code",
      "metadata": {
        "id": "sQKh_DC5Y2YA",
        "colab_type": "code",
        "colab": {},
        "outputId": "2de456de-3134-4a48-d93e-1d68ac62c2c0"
      },
      "source": [
        "df[df.capital_gain > 50000].over50k.mean()"
      ],
      "execution_count": 0,
      "outputs": [
        {
          "output_type": "execute_result",
          "data": {
            "text/plain": [
              "1.0"
            ]
          },
          "metadata": {
            "tags": []
          },
          "execution_count": 13
        }
      ]
    },
    {
      "cell_type": "markdown",
      "metadata": {
        "id": "gYnTRlEMY2YC",
        "colab_type": "text"
      },
      "source": [
        "#### > answer:\n",
        "- 100% of people who had capital_gain>50000 had income over 50k\n",
        "- so inspite of the weirdness we saw in the values, we can probably keep and interpret this variable as intended"
      ]
    },
    {
      "cell_type": "markdown",
      "metadata": {
        "id": "IUgQpdRdY2YC",
        "colab_type": "text"
      },
      "source": [
        "### capital_loss\n",
        "1. plot the histogram of capital_loss"
      ]
    },
    {
      "cell_type": "code",
      "metadata": {
        "id": "dfesRkVfY2YD",
        "colab_type": "code",
        "colab": {},
        "outputId": "ced31e61-96ed-48a1-cd5c-787f55f2bf82"
      },
      "source": [
        "sns.distplot(df.capital_loss, kde=False)"
      ],
      "execution_count": 0,
      "outputs": [
        {
          "output_type": "execute_result",
          "data": {
            "text/plain": [
              "<matplotlib.axes._subplots.AxesSubplot at 0xf2a3f50>"
            ]
          },
          "metadata": {
            "tags": []
          },
          "execution_count": 14
        },
        {
          "output_type": "display_data",
          "data": {
            "image/png": "[encoded data removed]",
            "text/plain": [
              "<Figure size 432x288 with 1 Axes>"
            ]
          },
          "metadata": {
            "tags": [],
            "needs_background": "light"
          }
        }
      ]
    },
    {
      "cell_type": "markdown",
      "metadata": {
        "id": "D3wltgMkY2YF",
        "colab_type": "text"
      },
      "source": [
        "#### > remark\n",
        "> again we see almost everybody having 0 capital losses"
      ]
    },
    {
      "cell_type": "markdown",
      "metadata": {
        "id": "6sQufGE0Y2YG",
        "colab_type": "text"
      },
      "source": [
        "### 2. for people who have `capital_loss > 0` \n",
        "   - plot the histogram for capital_loss"
      ]
    },
    {
      "cell_type": "code",
      "metadata": {
        "id": "8ey5-JTAY2YH",
        "colab_type": "code",
        "colab": {},
        "outputId": "bfe90747-1262-4285-a961-6ba7e0c0348a"
      },
      "source": [
        "sns.distplot(df[df.capital_loss !=0].capital_loss, kde=False)"
      ],
      "execution_count": 0,
      "outputs": [
        {
          "output_type": "execute_result",
          "data": {
            "text/plain": [
              "<matplotlib.axes._subplots.AxesSubplot at 0xf48ebb0>"
            ]
          },
          "metadata": {
            "tags": []
          },
          "execution_count": 15
        },
        {
          "output_type": "display_data",
          "data": {
            "image/png": "[encoded data removed]",
            "text/plain": [
              "<Figure size 432x288 with 1 Axes>"
            ]
          },
          "metadata": {
            "tags": [],
            "needs_background": "light"
          }
        }
      ]
    },
    {
      "cell_type": "markdown",
      "metadata": {
        "id": "RfjEQz4tY2YO",
        "colab_type": "text"
      },
      "source": [
        "### 3. how many people had both capital_gain>0 and capital_loss>0 ?"
      ]
    },
    {
      "cell_type": "code",
      "metadata": {
        "id": "1RFV1B9nY2YP",
        "colab_type": "code",
        "colab": {},
        "outputId": "90b74e9a-39cd-421b-8fda-0e5f91e60b7e"
      },
      "source": [
        "len(df[(df.capital_gain > 0) & (df.capital_loss >0)])"
      ],
      "execution_count": 0,
      "outputs": [
        {
          "output_type": "execute_result",
          "data": {
            "text/plain": [
              "0"
            ]
          },
          "metadata": {
            "tags": []
          },
          "execution_count": 16
        }
      ]
    },
    {
      "cell_type": "markdown",
      "metadata": {
        "id": "hWaFbQQQY2YS",
        "colab_type": "text"
      },
      "source": [
        "### 4. who can afford to lose money on capital investments?\n",
        "- what percent of people overall had over 50K income?\n",
        "- what percent of people with 0 capital_loss? with capital_loss>0?"
      ]
    },
    {
      "cell_type": "code",
      "metadata": {
        "id": "GfK-lrqpY2YS",
        "colab_type": "code",
        "colab": {},
        "outputId": "ac0935cd-6ce9-4bd1-85e5-fe9d77e77db5"
      },
      "source": [
        "print(\"proportion of people who earn over 50K:\\n{}\".format(df.over50k.mean()))\n",
        "print()\n",
        "print(\"proportion of people who earn over 50K, by capital_loss > 0:\")\n",
        "print(df.groupby(df.capital_loss >0).over50k.mean())"
      ],
      "execution_count": 0,
      "outputs": [
        {
          "output_type": "stream",
          "text": [
            "proportion of people who earn over 50K:\n",
            "0.2408095574460244\n",
            "\n",
            "proportion of people who earn over 50K, by capital_loss > 0:\n",
            "capital_loss\n",
            "False    0.227692\n",
            "True     0.508887\n",
            "Name: over50k, dtype: float64\n"
          ],
          "name": "stdout"
        }
      ]
    },
    {
      "cell_type": "code",
      "metadata": {
        "id": "7a0UtwxEY2YU",
        "colab_type": "code",
        "colab": {},
        "outputId": "2a1f0793-6f19-44cb-a6f9-09f860b71953"
      },
      "source": [
        "sns.barplot(x=\"lost_capital\", y=\"over50k\", data=df.assign(lost_capital=df.capital_loss >0))\n",
        "plt.axhline(y=df.over50k.mean(), linestyle=\"--\")"
      ],
      "execution_count": 0,
      "outputs": [
        {
          "output_type": "execute_result",
          "data": {
            "text/plain": [
              "<matplotlib.lines.Line2D at 0xf4f7030>"
            ]
          },
          "metadata": {
            "tags": []
          },
          "execution_count": 18
        },
        {
          "output_type": "display_data",
          "data": {
            "image/png": "[encoded data removed]",
            "text/plain": [
              "<Figure size 432x288 with 1 Axes>"
            ]
          },
          "metadata": {
            "tags": [],
            "needs_background": "light"
          }
        }
      ]
    },
    {
      "cell_type": "markdown",
      "metadata": {
        "id": "nVtLhdEmY2YX",
        "colab_type": "text"
      },
      "source": [
        "#### > answer:\n",
        "- having capital_loss > 0 is correlated with earning more than 50K.\n",
        "- in fact, the proportion of over50k **is twice as large** in capital losers than in the general population"
      ]
    },
    {
      "cell_type": "markdown",
      "metadata": {
        "id": "iwD35-ccY2YY",
        "colab_type": "text"
      },
      "source": [
        "### combining and binning\n",
        "1. create a new capital_change column that equals capital_gain - capital_loss"
      ]
    },
    {
      "cell_type": "code",
      "metadata": {
        "id": "1RhWkzcUY2YZ",
        "colab_type": "code",
        "colab": {},
        "outputId": "46315b85-d62f-41af-87b3-0467c0ffccf9"
      },
      "source": [
        "df = df.assign(capital_change=df.capital_gain - df.capital_loss)\n",
        "df.head()"
      ],
      "execution_count": 0,
      "outputs": [
        {
          "output_type": "execute_result",
          "data": {
            "text/html": [
              "<div>\n",
              "<style scoped>\n",
              "    .dataframe tbody tr th:only-of-type {\n",
              "        vertical-align: middle;\n",
              "    }\n",
              "\n",
              "    .dataframe tbody tr th {\n",
              "        vertical-align: top;\n",
              "    }\n",
              "\n",
              "    .dataframe thead th {\n",
              "        text-align: right;\n",
              "    }\n",
              "</style>\n",
              "<table border=\"1\" class=\"dataframe\">\n",
              "  <thead>\n",
              "    <tr style=\"text-align: right;\">\n",
              "      <th></th>\n",
              "      <th>age</th>\n",
              "      <th>workclass</th>\n",
              "      <th>fnlwgt</th>\n",
              "      <th>education</th>\n",
              "      <th>education_num</th>\n",
              "      <th>marital_status</th>\n",
              "      <th>occupation</th>\n",
              "      <th>relationship</th>\n",
              "      <th>race</th>\n",
              "      <th>female</th>\n",
              "      <th>capital_gain</th>\n",
              "      <th>capital_loss</th>\n",
              "      <th>hours_per_week</th>\n",
              "      <th>native_country</th>\n",
              "      <th>over50k</th>\n",
              "      <th>capital_change</th>\n",
              "    </tr>\n",
              "  </thead>\n",
              "  <tbody>\n",
              "    <tr>\n",
              "      <td>0</td>\n",
              "      <td>39</td>\n",
              "      <td>State-gov</td>\n",
              "      <td>77516</td>\n",
              "      <td>Bachelors</td>\n",
              "      <td>13</td>\n",
              "      <td>Never-married</td>\n",
              "      <td>Adm-clerical</td>\n",
              "      <td>Not-in-family</td>\n",
              "      <td>White</td>\n",
              "      <td>0</td>\n",
              "      <td>2174</td>\n",
              "      <td>0</td>\n",
              "      <td>40</td>\n",
              "      <td>United-States</td>\n",
              "      <td>0</td>\n",
              "      <td>2174</td>\n",
              "    </tr>\n",
              "    <tr>\n",
              "      <td>1</td>\n",
              "      <td>50</td>\n",
              "      <td>Self-emp-not-inc</td>\n",
              "      <td>83311</td>\n",
              "      <td>Bachelors</td>\n",
              "      <td>13</td>\n",
              "      <td>Married-civ-spouse</td>\n",
              "      <td>Exec-managerial</td>\n",
              "      <td>Husband</td>\n",
              "      <td>White</td>\n",
              "      <td>0</td>\n",
              "      <td>0</td>\n",
              "      <td>0</td>\n",
              "      <td>13</td>\n",
              "      <td>United-States</td>\n",
              "      <td>0</td>\n",
              "      <td>0</td>\n",
              "    </tr>\n",
              "    <tr>\n",
              "      <td>2</td>\n",
              "      <td>38</td>\n",
              "      <td>Private</td>\n",
              "      <td>215646</td>\n",
              "      <td>HS-grad</td>\n",
              "      <td>9</td>\n",
              "      <td>Divorced</td>\n",
              "      <td>Handlers-cleaners</td>\n",
              "      <td>Not-in-family</td>\n",
              "      <td>White</td>\n",
              "      <td>0</td>\n",
              "      <td>0</td>\n",
              "      <td>0</td>\n",
              "      <td>40</td>\n",
              "      <td>United-States</td>\n",
              "      <td>0</td>\n",
              "      <td>0</td>\n",
              "    </tr>\n",
              "    <tr>\n",
              "      <td>3</td>\n",
              "      <td>53</td>\n",
              "      <td>Private</td>\n",
              "      <td>234721</td>\n",
              "      <td>11th</td>\n",
              "      <td>7</td>\n",
              "      <td>Married-civ-spouse</td>\n",
              "      <td>Handlers-cleaners</td>\n",
              "      <td>Husband</td>\n",
              "      <td>Black</td>\n",
              "      <td>0</td>\n",
              "      <td>0</td>\n",
              "      <td>0</td>\n",
              "      <td>40</td>\n",
              "      <td>United-States</td>\n",
              "      <td>0</td>\n",
              "      <td>0</td>\n",
              "    </tr>\n",
              "    <tr>\n",
              "      <td>4</td>\n",
              "      <td>28</td>\n",
              "      <td>Private</td>\n",
              "      <td>338409</td>\n",
              "      <td>Bachelors</td>\n",
              "      <td>13</td>\n",
              "      <td>Married-civ-spouse</td>\n",
              "      <td>Prof-specialty</td>\n",
              "      <td>Wife</td>\n",
              "      <td>Black</td>\n",
              "      <td>1</td>\n",
              "      <td>0</td>\n",
              "      <td>0</td>\n",
              "      <td>40</td>\n",
              "      <td>Cuba</td>\n",
              "      <td>0</td>\n",
              "      <td>0</td>\n",
              "    </tr>\n",
              "  </tbody>\n",
              "</table>\n",
              "</div>"
            ],
            "text/plain": [
              "   age         workclass  fnlwgt  education  education_num  \\\n",
              "0   39         State-gov   77516  Bachelors             13   \n",
              "1   50  Self-emp-not-inc   83311  Bachelors             13   \n",
              "2   38           Private  215646    HS-grad              9   \n",
              "3   53           Private  234721       11th              7   \n",
              "4   28           Private  338409  Bachelors             13   \n",
              "\n",
              "       marital_status         occupation   relationship   race  female  \\\n",
              "0       Never-married       Adm-clerical  Not-in-family  White       0   \n",
              "1  Married-civ-spouse    Exec-managerial        Husband  White       0   \n",
              "2            Divorced  Handlers-cleaners  Not-in-family  White       0   \n",
              "3  Married-civ-spouse  Handlers-cleaners        Husband  Black       0   \n",
              "4  Married-civ-spouse     Prof-specialty           Wife  Black       1   \n",
              "\n",
              "   capital_gain  capital_loss  hours_per_week native_country  over50k  \\\n",
              "0          2174             0              40  United-States        0   \n",
              "1             0             0              13  United-States        0   \n",
              "2             0             0              40  United-States        0   \n",
              "3             0             0              40  United-States        0   \n",
              "4             0             0              40           Cuba        0   \n",
              "\n",
              "   capital_change  \n",
              "0            2174  \n",
              "1               0  \n",
              "2               0  \n",
              "3               0  \n",
              "4               0  "
            ]
          },
          "metadata": {
            "tags": []
          },
          "execution_count": 19
        }
      ]
    },
    {
      "cell_type": "code",
      "metadata": {
        "id": "TZky7VH6Y2Yb",
        "colab_type": "code",
        "colab": {},
        "outputId": "6c9179ce-4b97-410e-9e35-e691ca39a022"
      },
      "source": [
        "sns.barplot(\n",
        "    y=\"has_capital_change\", \n",
        "    x=\"over50k\", \n",
        "    data=df.assign(has_capital_change=df.capital_change.abs() > 0)\n",
        "    )"
      ],
      "execution_count": 0,
      "outputs": [
        {
          "output_type": "execute_result",
          "data": {
            "text/plain": [
              "<matplotlib.axes._subplots.AxesSubplot at 0xf562990>"
            ]
          },
          "metadata": {
            "tags": []
          },
          "execution_count": 20
        },
        {
          "output_type": "display_data",
          "data": {
            "image/png": "[encoded data removed]",
            "text/plain": [
              "<Figure size 432x288 with 1 Axes>"
            ]
          },
          "metadata": {
            "tags": [],
            "needs_background": "light"
          }
        }
      ]
    },
    {
      "cell_type": "markdown",
      "metadata": {
        "id": "z4QCspStY2Yd",
        "colab_type": "text"
      },
      "source": [
        "### 2. use the qcut function to quantize/bin/cut capital_change into a new columns called capital_change_bin with 10 bins of equal proportions.\n",
        "   1. do not bin capital_change==0 values as there are too many of them\n",
        "   1. to simplify using this column later, use the left side of the interval created as the label\n",
        "   1. label rows with capital_change==0 as having capital_change_bin=0\n",
        "   1. make sure you have no null values for capital_change_bin"
      ]
    },
    {
      "cell_type": "code",
      "metadata": {
        "id": "zONO4BAYY2Ye",
        "colab_type": "code",
        "colab": {},
        "outputId": "4e9b26ae-c2c1-4c8d-9ff8-f85d0f5f7e01"
      },
      "source": [
        "# do not bin capital_change==-0\n",
        "capital_change_bins = pd.qcut(df[df.capital_change !=0].capital_change, 10) \n",
        "\n",
        "# use left side of interval as label\n",
        "capital_change_bins = capital_change_bins.apply(lambda interval: interval.left) \n",
        "\n",
        "# add capital_change_bin to df\n",
        "df['capital_change_bin'] = capital_change_bins\n",
        "\n",
        "# look at the last 4 columns\n",
        "df.iloc[:, -4:].head()"
      ],
      "execution_count": 0,
      "outputs": [
        {
          "output_type": "execute_result",
          "data": {
            "text/html": [
              "<div>\n",
              "<style scoped>\n",
              "    .dataframe tbody tr th:only-of-type {\n",
              "        vertical-align: middle;\n",
              "    }\n",
              "\n",
              "    .dataframe tbody tr th {\n",
              "        vertical-align: top;\n",
              "    }\n",
              "\n",
              "    .dataframe thead th {\n",
              "        text-align: right;\n",
              "    }\n",
              "</style>\n",
              "<table border=\"1\" class=\"dataframe\">\n",
              "  <thead>\n",
              "    <tr style=\"text-align: right;\">\n",
              "      <th></th>\n",
              "      <th>native_country</th>\n",
              "      <th>over50k</th>\n",
              "      <th>capital_change</th>\n",
              "      <th>capital_change_bin</th>\n",
              "    </tr>\n",
              "  </thead>\n",
              "  <tbody>\n",
              "    <tr>\n",
              "      <td>0</td>\n",
              "      <td>United-States</td>\n",
              "      <td>0</td>\n",
              "      <td>2174</td>\n",
              "      <td>-1594.0</td>\n",
              "    </tr>\n",
              "    <tr>\n",
              "      <td>1</td>\n",
              "      <td>United-States</td>\n",
              "      <td>0</td>\n",
              "      <td>0</td>\n",
              "      <td>NaN</td>\n",
              "    </tr>\n",
              "    <tr>\n",
              "      <td>2</td>\n",
              "      <td>United-States</td>\n",
              "      <td>0</td>\n",
              "      <td>0</td>\n",
              "      <td>NaN</td>\n",
              "    </tr>\n",
              "    <tr>\n",
              "      <td>3</td>\n",
              "      <td>United-States</td>\n",
              "      <td>0</td>\n",
              "      <td>0</td>\n",
              "      <td>NaN</td>\n",
              "    </tr>\n",
              "    <tr>\n",
              "      <td>4</td>\n",
              "      <td>Cuba</td>\n",
              "      <td>0</td>\n",
              "      <td>0</td>\n",
              "      <td>NaN</td>\n",
              "    </tr>\n",
              "  </tbody>\n",
              "</table>\n",
              "</div>"
            ],
            "text/plain": [
              "  native_country  over50k  capital_change capital_change_bin\n",
              "0  United-States        0            2174            -1594.0\n",
              "1  United-States        0               0                NaN\n",
              "2  United-States        0               0                NaN\n",
              "3  United-States        0               0                NaN\n",
              "4           Cuba        0               0                NaN"
            ]
          },
          "metadata": {
            "tags": []
          },
          "execution_count": 21
        }
      ]
    },
    {
      "cell_type": "code",
      "metadata": {
        "id": "WweW9P19Y2Yg",
        "colab_type": "code",
        "colab": {},
        "outputId": "05525c9a-c22f-453d-fde0-fe0d4c73ea60"
      },
      "source": [
        "# label rows with capital_change==0 as having capital_change_bin=0\n",
        "df.replace({'capital_change_bin' : {np.nan : 0}}, inplace=True)\n",
        "\n",
        "# look at the last 4 columns\n",
        "df.iloc[:, -4:].head()"
      ],
      "execution_count": 0,
      "outputs": [
        {
          "output_type": "execute_result",
          "data": {
            "text/html": [
              "<div>\n",
              "<style scoped>\n",
              "    .dataframe tbody tr th:only-of-type {\n",
              "        vertical-align: middle;\n",
              "    }\n",
              "\n",
              "    .dataframe tbody tr th {\n",
              "        vertical-align: top;\n",
              "    }\n",
              "\n",
              "    .dataframe thead th {\n",
              "        text-align: right;\n",
              "    }\n",
              "</style>\n",
              "<table border=\"1\" class=\"dataframe\">\n",
              "  <thead>\n",
              "    <tr style=\"text-align: right;\">\n",
              "      <th></th>\n",
              "      <th>native_country</th>\n",
              "      <th>over50k</th>\n",
              "      <th>capital_change</th>\n",
              "      <th>capital_change_bin</th>\n",
              "    </tr>\n",
              "  </thead>\n",
              "  <tbody>\n",
              "    <tr>\n",
              "      <td>0</td>\n",
              "      <td>United-States</td>\n",
              "      <td>0</td>\n",
              "      <td>2174</td>\n",
              "      <td>-1594</td>\n",
              "    </tr>\n",
              "    <tr>\n",
              "      <td>1</td>\n",
              "      <td>United-States</td>\n",
              "      <td>0</td>\n",
              "      <td>0</td>\n",
              "      <td>0</td>\n",
              "    </tr>\n",
              "    <tr>\n",
              "      <td>2</td>\n",
              "      <td>United-States</td>\n",
              "      <td>0</td>\n",
              "      <td>0</td>\n",
              "      <td>0</td>\n",
              "    </tr>\n",
              "    <tr>\n",
              "      <td>3</td>\n",
              "      <td>United-States</td>\n",
              "      <td>0</td>\n",
              "      <td>0</td>\n",
              "      <td>0</td>\n",
              "    </tr>\n",
              "    <tr>\n",
              "      <td>4</td>\n",
              "      <td>Cuba</td>\n",
              "      <td>0</td>\n",
              "      <td>0</td>\n",
              "      <td>0</td>\n",
              "    </tr>\n",
              "  </tbody>\n",
              "</table>\n",
              "</div>"
            ],
            "text/plain": [
              "  native_country  over50k  capital_change  capital_change_bin\n",
              "0  United-States        0            2174               -1594\n",
              "1  United-States        0               0                   0\n",
              "2  United-States        0               0                   0\n",
              "3  United-States        0               0                   0\n",
              "4           Cuba        0               0                   0"
            ]
          },
          "metadata": {
            "tags": []
          },
          "execution_count": 22
        }
      ]
    },
    {
      "cell_type": "code",
      "metadata": {
        "id": "ipCwICVoY2Yi",
        "colab_type": "code",
        "colab": {},
        "outputId": "1921eb1e-0d97-481c-be73-8b6fbafd5bff"
      },
      "source": [
        "# make sure you have no null values for capital_change_bin\n",
        "df.capital_change_bin.isnull().sum()"
      ],
      "execution_count": 0,
      "outputs": [
        {
          "output_type": "execute_result",
          "data": {
            "text/plain": [
              "0"
            ]
          },
          "metadata": {
            "tags": []
          },
          "execution_count": 23
        }
      ]
    },
    {
      "cell_type": "markdown",
      "metadata": {
        "id": "nM0gSAbMY2Yl",
        "colab_type": "text"
      },
      "source": [
        "### 3. how many people have a non-zero capital_change?\n",
        "- lets call this 'has_capital_change'\n",
        "- plot 'has_capital_change' over 'over50k'\n",
        "- what do you learn from this diagram?"
      ]
    },
    {
      "cell_type": "code",
      "metadata": {
        "scrolled": true,
        "id": "UITj-_hMY2Ym",
        "colab_type": "code",
        "colab": {},
        "outputId": "b7ec071b-d349-4ac7-aaa3-308bae5d2fe6"
      },
      "source": [
        "sns.barplot(\n",
        "    y=\"has_capital_change\", \n",
        "    x=\"over50k\", \n",
        "    data=df.assign(has_capital_change=df.capital_change.abs() > 0)\n",
        "    )\n",
        "plt.grid(True)"
      ],
      "execution_count": 0,
      "outputs": [
        {
          "output_type": "display_data",
          "data": {
            "image/png": "[encoded data removed]",
            "text/plain": [
              "<Figure size 432x288 with 1 Axes>"
            ]
          },
          "metadata": {
            "tags": [],
            "needs_background": "light"
          }
        }
      ]
    },
    {
      "cell_type": "markdown",
      "metadata": {
        "id": "DOhz58eJY2Yp",
        "colab_type": "text"
      },
      "source": [
        "#### > answer:\n",
        "> - for people earning less than 50K, only ~7.5% try to have \"money work for them\" in terms of capital gain/loss\n",
        "> - for people earning above 50K, over 30% have non-zero capital change"
      ]
    },
    {
      "cell_type": "markdown",
      "metadata": {
        "id": "NR4WuZilY2Yq",
        "colab_type": "text"
      },
      "source": [
        "### 4. plot `capital_change` by `over50k`\n",
        "- what do you learn from this diagram"
      ]
    },
    {
      "cell_type": "code",
      "metadata": {
        "id": "CyX9gq4eY2Yr",
        "colab_type": "code",
        "colab": {},
        "outputId": "39bed6eb-de96-4182-9f85-e5e08c9b164e"
      },
      "source": [
        "sns.barplot(x='over50k', y='capital_change', data=df)"
      ],
      "execution_count": 0,
      "outputs": [
        {
          "output_type": "execute_result",
          "data": {
            "text/plain": [
              "<matplotlib.axes._subplots.AxesSubplot at 0xf670fb0>"
            ]
          },
          "metadata": {
            "tags": []
          },
          "execution_count": 25
        },
        {
          "output_type": "display_data",
          "data": {
            "image/png": "[encoded data removed]",
            "text/plain": [
              "<Figure size 432x288 with 1 Axes>"
            ]
          },
          "metadata": {
            "tags": [],
            "needs_background": "light"
          }
        }
      ]
    },
    {
      "cell_type": "markdown",
      "metadata": {
        "id": "E3q5HYz4Y2Yu",
        "colab_type": "text"
      },
      "source": [
        "#### > answer:\n",
        "> - people earning over50k had the means/knowledge/opportunity to invest in capital, and earned a mean ~3500$ from capital"
      ]
    },
    {
      "cell_type": "markdown",
      "metadata": {
        "id": "4tBXQ2RXY2Yv",
        "colab_type": "text"
      },
      "source": [
        "### 5. plot `over50k` by `capital_change_bin`\n",
        "- what can you learn from this diagram?"
      ]
    },
    {
      "cell_type": "code",
      "metadata": {
        "id": "V14Csm2sY2Yx",
        "colab_type": "code",
        "colab": {},
        "outputId": "5b1c61ae-d0f0-43e8-cbbd-008990c3cd73"
      },
      "source": [
        "bars = sns.lineplot(x='capital_change_bin', y='over50k', data=df)\n",
        "plt.setp(bars.get_xticklabels(), rotation=90);"
      ],
      "execution_count": 0,
      "outputs": [
        {
          "output_type": "display_data",
          "data": {
            "image/png": "[encoded data removed]",
            "text/plain": [
              "<Figure size 432x288 with 1 Axes>"
            ]
          },
          "metadata": {
            "tags": [],
            "needs_background": "light"
          }
        }
      ]
    },
    {
      "cell_type": "markdown",
      "metadata": {
        "id": "kbFey-p8Y2Yz",
        "colab_type": "text"
      },
      "source": [
        "#### > answer:\n",
        "> - among people that has lost/earned roughly 2500\\$ or under in capital_change, there is very minor difference in proportion of over50K earnings relative to the general population\n",
        "> - however, among those that have earned or lost in excess of ~2500\\$ there is a sharp increase in the proportion of over50K earners "
      ]
    },
    {
      "cell_type": "markdown",
      "metadata": {
        "id": "L40ekMxSY2Y0",
        "colab_type": "text"
      },
      "source": [
        "### education\n",
        "1. what is the mean education_num by education?\n",
        "    - sort the education categories by the mean_values. does it make sense?\n",
        "    - check out other descriptive statistics to see if anything falls out of place\n",
        "    - turn education into a categorical ordered type\n",
        "    - plot education VS education_num\n",
        "    - what have we learned?"
      ]
    },
    {
      "cell_type": "code",
      "metadata": {
        "id": "pl920E54Y2Y1",
        "colab_type": "code",
        "colab": {},
        "outputId": "934038a3-7155-43ae-acae-d719ddcf0d87"
      },
      "source": [
        "# - what is the mean education_num by education?\n",
        "# - sort the education categories by the mean_values. does it make sense?\n",
        "df.groupby('education').education_num.mean().sort_values()"
      ],
      "execution_count": 0,
      "outputs": [
        {
          "output_type": "execute_result",
          "data": {
            "text/plain": [
              "education\n",
              "Preschool        1\n",
              "1st-4th          2\n",
              "5th-6th          3\n",
              "7th-8th          4\n",
              "9th              5\n",
              "10th             6\n",
              "11th             7\n",
              "12th             8\n",
              "HS-grad          9\n",
              "Some-college    10\n",
              "Assoc-voc       11\n",
              "Assoc-acdm      12\n",
              "Bachelors       13\n",
              "Masters         14\n",
              "Prof-school     15\n",
              "Doctorate       16\n",
              "Name: education_num, dtype: int64"
            ]
          },
          "metadata": {
            "tags": []
          },
          "execution_count": 27
        }
      ]
    },
    {
      "cell_type": "markdown",
      "metadata": {
        "id": "JaXP7BQSY2Y3",
        "colab_type": "text"
      },
      "source": [
        "#### > answer:\n",
        "> yes, makes sense. looks like `education_num` is a numerical encoding for `education`"
      ]
    },
    {
      "cell_type": "code",
      "metadata": {
        "id": "Y-j29-_SY2Y3",
        "colab_type": "code",
        "colab": {},
        "outputId": "34e71cf7-0163-4bff-bb8b-e07ca93ac909"
      },
      "source": [
        "# - check out other descriptive statistics to see if anything falls out of place\n",
        "df.groupby('education').education_num.describe()"
      ],
      "execution_count": 0,
      "outputs": [
        {
          "output_type": "execute_result",
          "data": {
            "text/html": [
              "<div>\n",
              "<style scoped>\n",
              "    .dataframe tbody tr th:only-of-type {\n",
              "        vertical-align: middle;\n",
              "    }\n",
              "\n",
              "    .dataframe tbody tr th {\n",
              "        vertical-align: top;\n",
              "    }\n",
              "\n",
              "    .dataframe thead th {\n",
              "        text-align: right;\n",
              "    }\n",
              "</style>\n",
              "<table border=\"1\" class=\"dataframe\">\n",
              "  <thead>\n",
              "    <tr style=\"text-align: right;\">\n",
              "      <th></th>\n",
              "      <th>count</th>\n",
              "      <th>mean</th>\n",
              "      <th>std</th>\n",
              "      <th>min</th>\n",
              "      <th>25%</th>\n",
              "      <th>50%</th>\n",
              "      <th>75%</th>\n",
              "      <th>max</th>\n",
              "    </tr>\n",
              "    <tr>\n",
              "      <th>education</th>\n",
              "      <th></th>\n",
              "      <th></th>\n",
              "      <th></th>\n",
              "      <th></th>\n",
              "      <th></th>\n",
              "      <th></th>\n",
              "      <th></th>\n",
              "      <th></th>\n",
              "    </tr>\n",
              "  </thead>\n",
              "  <tbody>\n",
              "    <tr>\n",
              "      <td>10th</td>\n",
              "      <td>933.0</td>\n",
              "      <td>6.0</td>\n",
              "      <td>0.0</td>\n",
              "      <td>6.0</td>\n",
              "      <td>6.0</td>\n",
              "      <td>6.0</td>\n",
              "      <td>6.0</td>\n",
              "      <td>6.0</td>\n",
              "    </tr>\n",
              "    <tr>\n",
              "      <td>11th</td>\n",
              "      <td>1175.0</td>\n",
              "      <td>7.0</td>\n",
              "      <td>0.0</td>\n",
              "      <td>7.0</td>\n",
              "      <td>7.0</td>\n",
              "      <td>7.0</td>\n",
              "      <td>7.0</td>\n",
              "      <td>7.0</td>\n",
              "    </tr>\n",
              "    <tr>\n",
              "      <td>12th</td>\n",
              "      <td>433.0</td>\n",
              "      <td>8.0</td>\n",
              "      <td>0.0</td>\n",
              "      <td>8.0</td>\n",
              "      <td>8.0</td>\n",
              "      <td>8.0</td>\n",
              "      <td>8.0</td>\n",
              "      <td>8.0</td>\n",
              "    </tr>\n",
              "    <tr>\n",
              "      <td>1st-4th</td>\n",
              "      <td>168.0</td>\n",
              "      <td>2.0</td>\n",
              "      <td>0.0</td>\n",
              "      <td>2.0</td>\n",
              "      <td>2.0</td>\n",
              "      <td>2.0</td>\n",
              "      <td>2.0</td>\n",
              "      <td>2.0</td>\n",
              "    </tr>\n",
              "    <tr>\n",
              "      <td>5th-6th</td>\n",
              "      <td>333.0</td>\n",
              "      <td>3.0</td>\n",
              "      <td>0.0</td>\n",
              "      <td>3.0</td>\n",
              "      <td>3.0</td>\n",
              "      <td>3.0</td>\n",
              "      <td>3.0</td>\n",
              "      <td>3.0</td>\n",
              "    </tr>\n",
              "    <tr>\n",
              "      <td>7th-8th</td>\n",
              "      <td>646.0</td>\n",
              "      <td>4.0</td>\n",
              "      <td>0.0</td>\n",
              "      <td>4.0</td>\n",
              "      <td>4.0</td>\n",
              "      <td>4.0</td>\n",
              "      <td>4.0</td>\n",
              "      <td>4.0</td>\n",
              "    </tr>\n",
              "    <tr>\n",
              "      <td>9th</td>\n",
              "      <td>514.0</td>\n",
              "      <td>5.0</td>\n",
              "      <td>0.0</td>\n",
              "      <td>5.0</td>\n",
              "      <td>5.0</td>\n",
              "      <td>5.0</td>\n",
              "      <td>5.0</td>\n",
              "      <td>5.0</td>\n",
              "    </tr>\n",
              "    <tr>\n",
              "      <td>Assoc-acdm</td>\n",
              "      <td>1067.0</td>\n",
              "      <td>12.0</td>\n",
              "      <td>0.0</td>\n",
              "      <td>12.0</td>\n",
              "      <td>12.0</td>\n",
              "      <td>12.0</td>\n",
              "      <td>12.0</td>\n",
              "      <td>12.0</td>\n",
              "    </tr>\n",
              "    <tr>\n",
              "      <td>Assoc-voc</td>\n",
              "      <td>1382.0</td>\n",
              "      <td>11.0</td>\n",
              "      <td>0.0</td>\n",
              "      <td>11.0</td>\n",
              "      <td>11.0</td>\n",
              "      <td>11.0</td>\n",
              "      <td>11.0</td>\n",
              "      <td>11.0</td>\n",
              "    </tr>\n",
              "    <tr>\n",
              "      <td>Bachelors</td>\n",
              "      <td>5355.0</td>\n",
              "      <td>13.0</td>\n",
              "      <td>0.0</td>\n",
              "      <td>13.0</td>\n",
              "      <td>13.0</td>\n",
              "      <td>13.0</td>\n",
              "      <td>13.0</td>\n",
              "      <td>13.0</td>\n",
              "    </tr>\n",
              "    <tr>\n",
              "      <td>Doctorate</td>\n",
              "      <td>413.0</td>\n",
              "      <td>16.0</td>\n",
              "      <td>0.0</td>\n",
              "      <td>16.0</td>\n",
              "      <td>16.0</td>\n",
              "      <td>16.0</td>\n",
              "      <td>16.0</td>\n",
              "      <td>16.0</td>\n",
              "    </tr>\n",
              "    <tr>\n",
              "      <td>HS-grad</td>\n",
              "      <td>10501.0</td>\n",
              "      <td>9.0</td>\n",
              "      <td>0.0</td>\n",
              "      <td>9.0</td>\n",
              "      <td>9.0</td>\n",
              "      <td>9.0</td>\n",
              "      <td>9.0</td>\n",
              "      <td>9.0</td>\n",
              "    </tr>\n",
              "    <tr>\n",
              "      <td>Masters</td>\n",
              "      <td>1723.0</td>\n",
              "      <td>14.0</td>\n",
              "      <td>0.0</td>\n",
              "      <td>14.0</td>\n",
              "      <td>14.0</td>\n",
              "      <td>14.0</td>\n",
              "      <td>14.0</td>\n",
              "      <td>14.0</td>\n",
              "    </tr>\n",
              "    <tr>\n",
              "      <td>Preschool</td>\n",
              "      <td>51.0</td>\n",
              "      <td>1.0</td>\n",
              "      <td>0.0</td>\n",
              "      <td>1.0</td>\n",
              "      <td>1.0</td>\n",
              "      <td>1.0</td>\n",
              "      <td>1.0</td>\n",
              "      <td>1.0</td>\n",
              "    </tr>\n",
              "    <tr>\n",
              "      <td>Prof-school</td>\n",
              "      <td>576.0</td>\n",
              "      <td>15.0</td>\n",
              "      <td>0.0</td>\n",
              "      <td>15.0</td>\n",
              "      <td>15.0</td>\n",
              "      <td>15.0</td>\n",
              "      <td>15.0</td>\n",
              "      <td>15.0</td>\n",
              "    </tr>\n",
              "    <tr>\n",
              "      <td>Some-college</td>\n",
              "      <td>7291.0</td>\n",
              "      <td>10.0</td>\n",
              "      <td>0.0</td>\n",
              "      <td>10.0</td>\n",
              "      <td>10.0</td>\n",
              "      <td>10.0</td>\n",
              "      <td>10.0</td>\n",
              "      <td>10.0</td>\n",
              "    </tr>\n",
              "  </tbody>\n",
              "</table>\n",
              "</div>"
            ],
            "text/plain": [
              "                count  mean  std   min   25%   50%   75%   max\n",
              "education                                                     \n",
              "10th            933.0   6.0  0.0   6.0   6.0   6.0   6.0   6.0\n",
              "11th           1175.0   7.0  0.0   7.0   7.0   7.0   7.0   7.0\n",
              "12th            433.0   8.0  0.0   8.0   8.0   8.0   8.0   8.0\n",
              "1st-4th         168.0   2.0  0.0   2.0   2.0   2.0   2.0   2.0\n",
              "5th-6th         333.0   3.0  0.0   3.0   3.0   3.0   3.0   3.0\n",
              "7th-8th         646.0   4.0  0.0   4.0   4.0   4.0   4.0   4.0\n",
              "9th             514.0   5.0  0.0   5.0   5.0   5.0   5.0   5.0\n",
              "Assoc-acdm     1067.0  12.0  0.0  12.0  12.0  12.0  12.0  12.0\n",
              "Assoc-voc      1382.0  11.0  0.0  11.0  11.0  11.0  11.0  11.0\n",
              "Bachelors      5355.0  13.0  0.0  13.0  13.0  13.0  13.0  13.0\n",
              "Doctorate       413.0  16.0  0.0  16.0  16.0  16.0  16.0  16.0\n",
              "HS-grad       10501.0   9.0  0.0   9.0   9.0   9.0   9.0   9.0\n",
              "Masters        1723.0  14.0  0.0  14.0  14.0  14.0  14.0  14.0\n",
              "Preschool        51.0   1.0  0.0   1.0   1.0   1.0   1.0   1.0\n",
              "Prof-school     576.0  15.0  0.0  15.0  15.0  15.0  15.0  15.0\n",
              "Some-college   7291.0  10.0  0.0  10.0  10.0  10.0  10.0  10.0"
            ]
          },
          "metadata": {
            "tags": []
          },
          "execution_count": 28
        }
      ]
    },
    {
      "cell_type": "markdown",
      "metadata": {
        "id": "yeo8a0naY2Y6",
        "colab_type": "text"
      },
      "source": [
        "#### > answer\n",
        "> - yes, we see that std is 0 and min=max. \n",
        "> - that means there are no deviations or wrong encodings in the data.\n",
        "> yippee!"
      ]
    },
    {
      "cell_type": "code",
      "metadata": {
        "id": "ivZHA_NOY2Y6",
        "colab_type": "code",
        "colab": {},
        "outputId": "396fb13f-6125-449c-8709-1b9011c8a049"
      },
      "source": [
        "#   - turn education into a categorical ordered type\n",
        "sorted_education = df.groupby('education').education_num.mean().sort_values().index.values\n",
        "print(sorted_education)\n",
        "df.education = df.education.astype(pd.CategoricalDtype(sorted_education, ordered=True))\n",
        "\n",
        "#   - plot education VS education_num\n",
        "bars = sns.barplot(x='education', y='education_num', data=df)\n",
        "plt.setp(bars.get_xticklabels(), rotation=90);\n",
        "plt.grid(True)\n",
        "\n",
        "#   - what have we learned?"
      ],
      "execution_count": 0,
      "outputs": [
        {
          "output_type": "stream",
          "text": [
            "['Preschool' '1st-4th' '5th-6th' '7th-8th' '9th' '10th' '11th' '12th'\n",
            " 'HS-grad' 'Some-college' 'Assoc-voc' 'Assoc-acdm' 'Bachelors' 'Masters'\n",
            " 'Prof-school' 'Doctorate']\n"
          ],
          "name": "stdout"
        },
        {
          "output_type": "display_data",
          "data": {
            "image/png": "[encoded data removed]",
            "text/plain": [
              "<Figure size 432x288 with 1 Axes>"
            ]
          },
          "metadata": {
            "tags": [],
            "needs_background": "light"
          }
        }
      ]
    },
    {
      "cell_type": "markdown",
      "metadata": {
        "id": "qCJOu5pJY2Y9",
        "colab_type": "text"
      },
      "source": [
        "#### > answer:\n",
        "we can now interchangably use either `education_num` or `education` in our graphs,\n",
        "depending if we want to emphasize the categorical name of the education or numerical size"
      ]
    },
    {
      "cell_type": "markdown",
      "metadata": {
        "id": "anqCH1ZCY2Y-",
        "colab_type": "text"
      },
      "source": [
        "### 2. plot the distribution for education"
      ]
    },
    {
      "cell_type": "code",
      "metadata": {
        "scrolled": true,
        "id": "rKMNLZYIY2Y-",
        "colab_type": "code",
        "colab": {},
        "outputId": "e0b8e410-2998-4776-fe2b-41a2140b3d96"
      },
      "source": [
        "bars = sns.countplot(df.education)\n",
        "plt.setp(bars.get_xticklabels(), rotation=90);"
      ],
      "execution_count": 0,
      "outputs": [
        {
          "output_type": "display_data",
          "data": {
            "image/png": "[encoded data removed]",
            "text/plain": [
              "<Figure size 432x288 with 1 Axes>"
            ]
          },
          "metadata": {
            "tags": [],
            "needs_background": "light"
          }
        }
      ]
    },
    {
      "cell_type": "markdown",
      "metadata": {
        "id": "xpm-0kitY2ZA",
        "colab_type": "text"
      },
      "source": [
        "### 3. plot over50k by education\n",
        "- what do we learn?"
      ]
    },
    {
      "cell_type": "code",
      "metadata": {
        "id": "J_wlMvsqY2ZA",
        "colab_type": "code",
        "colab": {},
        "outputId": "1f793d0f-23b3-44e2-ed4a-ac420cb18af6"
      },
      "source": [
        "bars = sns.barplot(y='over50k', x='education', data=df)\n",
        "plt.setp(bars.get_xticklabels(), rotation=90);"
      ],
      "execution_count": 0,
      "outputs": [
        {
          "output_type": "display_data",
          "data": {
            "image/png": "[encoded data removed]",
            "text/plain": [
              "<Figure size 432x288 with 1 Axes>"
            ]
          },
          "metadata": {
            "tags": [],
            "needs_background": "light"
          }
        }
      ]
    },
    {
      "cell_type": "markdown",
      "metadata": {
        "id": "kX5nskkbY2ZC",
        "colab_type": "text"
      },
      "source": [
        "#### > answer:\n",
        "> - over50k seems to be stringly correlated with education, \n",
        "> - with significant improvements to outcomes at High School, Bachelors, Masters and Proffesional/Doctorate attainment levels"
      ]
    },
    {
      "cell_type": "markdown",
      "metadata": {
        "id": "BWcXLyzGY2ZD",
        "colab_type": "text"
      },
      "source": [
        "### 4. plot hours_per_week by education\n",
        "1. what can we learn?\n",
        "2. now use the hue=\"over50k\" of seaborn to see hours_per_week by education/over50k.\n",
        "   - learn anything else?"
      ]
    },
    {
      "cell_type": "code",
      "metadata": {
        "id": "skZy-iUBY2ZE",
        "colab_type": "code",
        "colab": {},
        "outputId": "3fd158a6-1732-4455-bcbf-61a0941b6953"
      },
      "source": [
        "bars = sns.lineplot(y='hours_per_week', x='education', ci=\"sd\", data=df)\n",
        "plt.setp(bars.get_xticklabels(), rotation=90);"
      ],
      "execution_count": 0,
      "outputs": [
        {
          "output_type": "display_data",
          "data": {
            "image/png": "[encoded data removed]",
            "text/plain": [
              "<Figure size 432x288 with 1 Axes>"
            ]
          },
          "metadata": {
            "tags": [],
            "needs_background": "light"
          }
        }
      ]
    },
    {
      "cell_type": "markdown",
      "metadata": {
        "id": "9ErIuTB9Y2ZH",
        "colab_type": "text"
      },
      "source": [
        "#### > answer:\n",
        "> - we observe High-School gradues to have roughly a 40-hour work week\n",
        "> - with education above highschool, we see a strong trend for more hours-per-week as education increases, above and beyond 40 hours\n",
        "> - we see a sharp decline in work hours for highschool dropouts (9th-12th grade education). perhaps indicative of physical/mental health issues or life circumstances that make work difficult.\n",
        "> - for education up until 8th grade we see a positive trend that more education allows for more work, reaching almost 40 hour weeks of full employment"
      ]
    },
    {
      "cell_type": "code",
      "metadata": {
        "id": "gCivbgAHY2ZH",
        "colab_type": "code",
        "colab": {},
        "outputId": "bb9ee99f-c211-441b-c379-3ac0c5426835"
      },
      "source": [
        "bars = sns.lineplot(y='hours_per_week', x='education', hue='over50k', ci=\"sd\", data=df)\n",
        "plt.setp(bars.get_xticklabels(), rotation=90);"
      ],
      "execution_count": 0,
      "outputs": [
        {
          "output_type": "display_data",
          "data": {
            "image/png": "[encoded data removed]",
            "text/plain": [
              "<Figure size 432x288 with 1 Axes>"
            ]
          },
          "metadata": {
            "tags": [],
            "needs_background": "light"
          }
        }
      ]
    },
    {
      "cell_type": "markdown",
      "metadata": {
        "id": "5up_R1lvY2ZJ",
        "colab_type": "text"
      },
      "source": [
        "#### > answer:\n",
        "> - those that earn above 50K work approx 45 hours per week across most education levels. \n",
        "    with exceptions being at low education levels (where sample sizes are small so confidence intervals are large) \n",
        "    and for \"Prof-School\" education (doctors?), where the mean is closer to ~50 hour weeks.\n",
        "> - those that earn under 50K work less hours across almost all education levels, mostly around 40 hour weeks at above high-school level education (except perhaps those with Doctorates where sample sizes are small) \n",
        "\n",
        "#### > note for later:\n",
        "> look further at relationship between hours worked and over50k"
      ]
    },
    {
      "cell_type": "markdown",
      "metadata": {
        "id": "5GsrJkivY2ZK",
        "colab_type": "text"
      },
      "source": [
        "### 5. plot education_num by occupation\n",
        "- sort by mean education_num"
      ]
    },
    {
      "cell_type": "code",
      "metadata": {
        "id": "sSYTxXaWY2ZK",
        "colab_type": "code",
        "colab": {},
        "outputId": "47c58a64-7c0a-43db-8604-c5b39db9e6d6"
      },
      "source": [
        "occupation_by_education = df.groupby(\"occupation\").education_num.mean().sort_values().index.values\n",
        "bars = sns.boxplot(\n",
        "    x=\"occupation\", \n",
        "    y='education_num', \n",
        "    order=occupation_by_education, \n",
        "    data=df,\n",
        "    # medianprops={\"color\":\"white\"},\n",
        "    showfliers=False, \n",
        "    showmeans=True\n",
        "    )\n",
        "_ = plt.setp(bars.get_xticklabels(), rotation=90)"
      ],
      "execution_count": 0,
      "outputs": [
        {
          "output_type": "display_data",
          "data": {
            "image/png": "[encoded data removed]",
            "text/plain": [
              "<Figure size 432x288 with 1 Axes>"
            ]
          },
          "metadata": {
            "tags": [],
            "needs_background": "light"
          }
        }
      ]
    },
    {
      "cell_type": "markdown",
      "metadata": {
        "id": "CGaqXZgkY2ZN",
        "colab_type": "text"
      },
      "source": [
        "#### > remark:\n",
        "> clearly there seems like 5 cluster of jobs by education level:\n",
        "> 1. \"Priv-house-serv\" (servants)\n",
        "> 2. \"Machine-op-inspect\" to \"Arned forced\" (blue collar)\n",
        "> 3. \"Adm-clerical\" to \"sales\" (white collar)\n",
        "> 4. \"Tech-support\" - \"Exec-managerial\" (tech / management)\n",
        "> 5. \"Prof-specialty\" (doctors/lawyers/proffesionals)\n"
      ]
    },
    {
      "cell_type": "markdown",
      "metadata": {
        "id": "aKViE8NZY2ZO",
        "colab_type": "text"
      },
      "source": [
        "### 6. plot education_num by workclass\n",
        "- sort by mean education_num"
      ]
    },
    {
      "cell_type": "code",
      "metadata": {
        "id": "9J1mFfWTY2ZP",
        "colab_type": "code",
        "colab": {},
        "outputId": "4321aabf-1bad-4fd4-d7e3-0e5bcb972e10"
      },
      "source": [
        "workclass_by_education = df.groupby(\"workclass\").education_num.mean().sort_values().index.values\n",
        "bars = sns.boxplot(x=\"workclass\", y='education_num', order=workclass_by_education,  showfliers=False, data=df)\n",
        "_ = plt.setp(bars.get_xticklabels(), rotation=90)"
      ],
      "execution_count": 0,
      "outputs": [
        {
          "output_type": "display_data",
          "data": {
            "image/png": "[encoded data removed]",
            "text/plain": [
              "<Figure size 432x288 with 1 Axes>"
            ]
          },
          "metadata": {
            "tags": [],
            "needs_background": "light"
          }
        }
      ]
    },
    {
      "cell_type": "markdown",
      "metadata": {
        "id": "DjPHctCrY2ZS",
        "colab_type": "text"
      },
      "source": [
        "### 7. create a crosstab or a pivot_table of education VS occupation.\n",
        "   - normalize it by the education rows \n",
        "     (each row X shows the conditional probability of having occupation Y by education level X) \n",
        "   - create a heatmap that shows which occpupations are most likely for each education level\n",
        "   - verbally describe what you've learned"
      ]
    },
    {
      "cell_type": "code",
      "metadata": {
        "id": "lGJsgGraY2ZT",
        "colab_type": "code",
        "colab": {},
        "outputId": "f0df9095-6030-4a8a-c8ef-51b944657d5a"
      },
      "source": [
        "occ_by_edu_df = pd.crosstab(\n",
        "    df.education, \n",
        "    df.occupation.astype(pd.CategoricalDtype(occupation_by_education, ordered=True)), \n",
        "    normalize='index')\n",
        "\n",
        "fig, ax = plt.subplots(figsize=(7,7))\n",
        "\n",
        "sns.heatmap(\n",
        "    occ_by_edu_df\n",
        "    , robust = True\n",
        "    , ax=ax\n",
        "    , cmap=\"Oranges\"\n",
        "    , linewidths=.75\n",
        ");\n"
      ],
      "execution_count": 0,
      "outputs": [
        {
          "output_type": "display_data",
          "data": {
            "image/png": "[encoded data removed]",
            "text/plain": [
              "<Figure size 504x504 with 2 Axes>"
            ]
          },
          "metadata": {
            "tags": [],
            "needs_background": "light"
          }
        }
      ]
    },
    {
      "cell_type": "markdown",
      "metadata": {
        "id": "i-ZtEYvuY2ZW",
        "colab_type": "text"
      },
      "source": [
        "#### > answer:\n",
        "the heatmap shows for each education/row, which occupations are most likely to be taken by individuals with that education attainment.\n",
        "\n",
        "> - for the very lower end of education, \"machine-op-inspect\" or \"farming-fishing\" is likely\n",
        "> - Those with high-school or below attainment, are likely to find themselves in the large \"Other-service\", \"Craft-repair\" or \"transport-moving\" occupations, since these are large overall.\n",
        "> - mid-level education \"some-college\" to \"assoc-acdm\" find a wide range of horizontal occuptions\n",
        "> - for Bachelor and above education \"Exec-managerial\" and \"Prof-specialty\" are highly likely"
      ]
    },
    {
      "cell_type": "markdown",
      "metadata": {
        "id": "eBfyWwEdY2ZX",
        "colab_type": "text"
      },
      "source": [
        "### 8.  create a crosstab or a pivot_table of education VS workclass.\n",
        "   - normalize it by the education rows \n",
        "     (each row X shows the conditional probability of having workclass Y by education level X) \n",
        "   - create a heatmap that shows which workclass is most likely for each education level\n",
        "   - verbally describe what you've learned\n",
        "   - re-run this analysis without the private sector\n",
        "   "
      ]
    },
    {
      "cell_type": "code",
      "metadata": {
        "scrolled": true,
        "id": "v0-Gcz7QY2ZZ",
        "colab_type": "code",
        "colab": {},
        "outputId": "8666c281-db48-4a8b-fe21-8e20b5c4f620"
      },
      "source": [
        "class_by_edu_df = pd.crosstab(\n",
        "    df.education, \n",
        "    df.workclass.astype(pd.CategoricalDtype(workclass_by_education, ordered=True)), \n",
        "    normalize='index')\n",
        "\n",
        "fig, ax = plt.subplots(figsize=(7,7))\n",
        "\n",
        "sns.heatmap(\n",
        "    class_by_edu_df\n",
        "    , robust = True\n",
        "    , ax=ax\n",
        "    , cmap=\"Oranges\"\n",
        "    , linewidths=.75\n",
        ");"
      ],
      "execution_count": 0,
      "outputs": [
        {
          "output_type": "display_data",
          "data": {
            "image/png": "[encoded data removed]",
            "text/plain": [
              "<Figure size 504x504 with 2 Axes>"
            ]
          },
          "metadata": {
            "tags": [],
            "needs_background": "light"
          }
        }
      ]
    },
    {
      "cell_type": "markdown",
      "metadata": {
        "id": "Yvf6PNTPY2Zc",
        "colab_type": "text"
      },
      "source": [
        "#### > answer:\n",
        "almost everyone, regardless of education, works in the private sector. yippee!"
      ]
    },
    {
      "cell_type": "code",
      "metadata": {
        "id": "7nWwZqATY2Zd",
        "colab_type": "code",
        "colab": {},
        "outputId": "03bca0c0-aa27-4b7a-efd8-2c019d7cb1ac"
      },
      "source": [
        "non_private_df = df[df.workclass != 'Private']\n",
        "\n",
        "class_by_edu_df = pd.crosstab(\n",
        "    non_private_df.education, \n",
        "    non_private_df.workclass.astype(pd.CategoricalDtype(workclass_by_education, ordered=True)), \n",
        "    normalize='index')\n",
        "\n",
        "fig, ax = plt.subplots(figsize=(7,7))\n",
        "\n",
        "sns.heatmap(\n",
        "    class_by_edu_df\n",
        "    , robust = True\n",
        "    , ax=ax\n",
        "    , cmap=\"Oranges\"\n",
        "    , linewidths=.75\n",
        ");"
      ],
      "execution_count": 0,
      "outputs": [
        {
          "output_type": "display_data",
          "data": {
            "image/png": "[encoded data removed]",
            "text/plain": [
              "<Figure size 504x504 with 2 Axes>"
            ]
          },
          "metadata": {
            "tags": [],
            "needs_background": "light"
          }
        }
      ]
    },
    {
      "cell_type": "markdown",
      "metadata": {
        "id": "K8e6srcgY2Zi",
        "colab_type": "text"
      },
      "source": [
        "#### > answer:\n",
        "outside the private sector:\n",
        "> - those with lowest education, mostly are unclassified by workclass, or are self-employed\n",
        "> - high scool grads tend to be self-employed\n",
        "> - mid-level education tend to be self-employed or local-government\n",
        "> - people with masters degree tend to be employed by local goverment\n",
        "> - people with prof-school tend to be self-employed\n",
        "> - people with doctorates tend to be employed by state-government\n"
      ]
    },
    {
      "cell_type": "markdown",
      "metadata": {
        "id": "a7DTEz9PY2Zi",
        "colab_type": "text"
      },
      "source": [
        "### 9. plot \"race\" vs \"education_num"
      ]
    },
    {
      "cell_type": "code",
      "metadata": {
        "id": "lNWsBoa7Y2Zj",
        "colab_type": "code",
        "colab": {},
        "outputId": "31744eba-379a-417a-f3e6-473029739753"
      },
      "source": [
        "race_by_education = df.groupby('race').education_num.mean().sort_values().index.values\n",
        "bars = sns.boxplot(x=\"race\", y=\"education_num\",  order=race_by_education, data=df)\n",
        "_ = plt.setp(bars.get_xticklabels(), rotation=90)\n"
      ],
      "execution_count": 0,
      "outputs": [
        {
          "output_type": "display_data",
          "data": {
            "image/png": "[encoded data removed]",
            "text/plain": [
              "<Figure size 432x288 with 1 Axes>"
            ]
          },
          "metadata": {
            "tags": [],
            "needs_background": "light"
          }
        }
      ]
    },
    {
      "cell_type": "markdown",
      "metadata": {
        "id": "jm1zvCpyY2Zk",
        "colab_type": "text"
      },
      "source": [
        "### 10. plot \"relationship\" vs \"education_num\n"
      ]
    },
    {
      "cell_type": "code",
      "metadata": {
        "scrolled": true,
        "id": "kBsIIGNKY2Zl",
        "colab_type": "code",
        "colab": {},
        "outputId": "18a2e6d5-cc76-4838-f3f9-d985e60e87ef"
      },
      "source": [
        "rel_by_education = df.groupby('relationship').education_num.mean().sort_values().index.values\n",
        "bars = sns.boxplot(x=\"relationship\", y=\"education_num\",  order=rel_by_education, data=df)\n",
        "_ = plt.setp(bars.get_xticklabels(), rotation=90)\n"
      ],
      "execution_count": 0,
      "outputs": [
        {
          "output_type": "display_data",
          "data": {
            "image/png": "[encoded data removed]",
            "text/plain": [
              "<Figure size 432x288 with 1 Axes>"
            ]
          },
          "metadata": {
            "tags": [],
            "needs_background": "light"
          }
        }
      ]
    },
    {
      "cell_type": "markdown",
      "metadata": {
        "id": "H7ye_Wn5Y2Zo",
        "colab_type": "text"
      },
      "source": [
        "## occupation / workclass\n",
        "1. how many levels of occupation?"
      ]
    },
    {
      "cell_type": "code",
      "metadata": {
        "id": "wJ6fMU1lY2Zo",
        "colab_type": "code",
        "colab": {},
        "outputId": "1ea05dac-2048-48b6-e6a9-d01560d7ade0"
      },
      "source": [
        "print(df.occupation.nunique())\n",
        "print(df.occupation.unique())"
      ],
      "execution_count": 0,
      "outputs": [
        {
          "output_type": "stream",
          "text": [
            "15\n",
            "['Adm-clerical' 'Exec-managerial' 'Handlers-cleaners' 'Prof-specialty'\n",
            " 'Other-service' 'Sales' 'Craft-repair' 'Transport-moving'\n",
            " 'Farming-fishing' 'Machine-op-inspct' 'Tech-support' '?'\n",
            " 'Protective-serv' 'Armed-Forces' 'Priv-house-serv']\n"
          ],
          "name": "stdout"
        }
      ]
    },
    {
      "cell_type": "markdown",
      "metadata": {
        "id": "SaXKF29eY2Zq",
        "colab_type": "text"
      },
      "source": [
        "### 2. how many levels of worklass?"
      ]
    },
    {
      "cell_type": "code",
      "metadata": {
        "id": "uHx-AQCxY2Zq",
        "colab_type": "code",
        "colab": {},
        "outputId": "1aa03787-a056-4fbc-e118-894910999808"
      },
      "source": [
        "print(df.workclass.nunique())\n",
        "print(df.workclass.unique())"
      ],
      "execution_count": 0,
      "outputs": [
        {
          "output_type": "stream",
          "text": [
            "9\n",
            "['State-gov' 'Self-emp-not-inc' 'Private' 'Federal-gov' 'Local-gov' '?'\n",
            " 'Self-emp-inc' 'Without-pay' 'Never-worked']\n"
          ],
          "name": "stdout"
        }
      ]
    },
    {
      "cell_type": "markdown",
      "metadata": {
        "id": "LJ8EBU7pY2Zr",
        "colab_type": "text"
      },
      "source": [
        "### 3. how many combinations? potential? actual?"
      ]
    },
    {
      "cell_type": "code",
      "metadata": {
        "id": "Y313ToxHY2Zs",
        "colab_type": "code",
        "colab": {},
        "outputId": "026df4ce-3950-4114-e6d6-6087cdf173aa"
      },
      "source": [
        "print(\"potential:\", df.workclass.nunique() * df.occupation.nunique())\n",
        "print(\"actual:\", len(df.groupby(['occupation', 'workclass'])))"
      ],
      "execution_count": 0,
      "outputs": [
        {
          "output_type": "stream",
          "text": [
            "potential: 135\n",
            "actual: 83\n"
          ],
          "name": "stdout"
        }
      ]
    },
    {
      "cell_type": "markdown",
      "metadata": {
        "id": "hiSTLGlFY2Zt",
        "colab_type": "text"
      },
      "source": [
        "### 4. plot over50k by occupation\n",
        "- sort by mean over50k\n",
        "- compare this to over50k by education. which variable more strongly predicts income?\n",
        "- compare tjos to education_num by occupation. are the highest paying jobs correlated with highest earning education?"
      ]
    },
    {
      "cell_type": "code",
      "metadata": {
        "scrolled": true,
        "id": "5xUdGEdQY2Zt",
        "colab_type": "code",
        "colab": {},
        "outputId": "2163cc53-cf84-45e8-e388-5a344e4c75b5"
      },
      "source": [
        "fig, axs = plt.subplots(ncols=2, sharey=True, figsize=(12,6))\n",
        "occ_by_50k = df.groupby('occupation').over50k.mean().sort_values().index.values\n",
        "bars = sns.barplot(x='occupation', y='over50k', order=occ_by_50k, data=df, ax=axs[0])\n",
        "plt.setp(bars.get_xticklabels(), rotation=90);\n",
        "\n",
        "bars = sns.barplot(x='education', y='over50k', data=df, ax=axs[1])\n",
        "plt.setp(bars.get_xticklabels(), rotation=90);"
      ],
      "execution_count": 0,
      "outputs": [
        {
          "output_type": "display_data",
          "data": {
            "image/png": "[encoded data removed]",
            "text/plain": [
              "<Figure size 864x432 with 2 Axes>"
            ]
          },
          "metadata": {
            "tags": [],
            "needs_background": "light"
          }
        }
      ]
    },
    {
      "cell_type": "code",
      "metadata": {
        "id": "b0TUWGM1Y2Zv",
        "colab_type": "code",
        "colab": {},
        "outputId": "a1df7b2d-7103-4f48-b54b-1d385c293a2e"
      },
      "source": [
        "fig, axs = plt.subplots(ncols=2, sharex=True, figsize=(12,6))\n",
        "bars = sns.barplot(x='occupation', y='over50k', order=occ_by_50k, data=df, ax=axs[0])\n",
        "plt.setp(bars.get_xticklabels(), rotation=90);\n",
        "\n",
        "bars = sns.barplot(x='occupation', y='education_num', ci=\"sd\", order=occ_by_50k, data=df, ax=axs[1])\n",
        "plt.setp(bars.get_xticklabels(), rotation=90);"
      ],
      "execution_count": 0,
      "outputs": [
        {
          "output_type": "display_data",
          "data": {
            "image/png": "[encoded data removed]",
            "text/plain": [
              "<Figure size 864x432 with 2 Axes>"
            ]
          },
          "metadata": {
            "tags": [],
            "needs_background": "light"
          }
        }
      ]
    },
    {
      "cell_type": "markdown",
      "metadata": {
        "id": "8gk4qeCWY2Zx",
        "colab_type": "text"
      },
      "source": [
        "#### > answer:\n",
        "> - education looks like a stronger indicator of income, because disparities in income are higher when grouped by education than when grouped by occupation\n",
        "> - the highest paying occupations are not the same as the occupations requiring highest education.\n",
        ">   perhaps this is due to education needs varying wildly within occupations\n"
      ]
    },
    {
      "cell_type": "markdown",
      "metadata": {
        "id": "2MNhR0LtY2Zy",
        "colab_type": "text"
      },
      "source": [
        "### 5. plot `over50k` by `workclass`"
      ]
    },
    {
      "cell_type": "code",
      "metadata": {
        "scrolled": true,
        "id": "E5Pmxus6Y2Zy",
        "colab_type": "code",
        "colab": {},
        "outputId": "424c09d8-a200-42a8-a034-cc509a8024b4"
      },
      "source": [
        "class_by_50k = df.groupby('workclass').over50k.mean().sort_values().index.values\n",
        "bars = sns.barplot(x='workclass', y='over50k', order=class_by_50k, data=df)\n",
        "plt.setp(bars.get_xticklabels(), rotation=90);"
      ],
      "execution_count": 0,
      "outputs": [
        {
          "output_type": "display_data",
          "data": {
            "image/png": "[encoded data removed]",
            "text/plain": [
              "<Figure size 432x288 with 1 Axes>"
            ]
          },
          "metadata": {
            "tags": [],
            "needs_background": "light"
          }
        }
      ]
    },
    {
      "cell_type": "markdown",
      "metadata": {
        "id": "yDYYZ2_-Y2Zz",
        "colab_type": "text"
      },
      "source": [
        "### 6. look at combinations of occupation / workclass\n",
        "   1. what are the top combinations in terms of earning over50k? how many people in that category?"
      ]
    },
    {
      "cell_type": "code",
      "metadata": {
        "scrolled": true,
        "id": "4ocJ13OXY2Z0",
        "colab_type": "code",
        "colab": {},
        "outputId": "eb3f7ab4-ac6b-4d70-cb03-28edcc6489de"
      },
      "source": [
        "occupation_class = df.groupby(['occupation', 'workclass']) \\\n",
        "    .over50k.agg([\"mean\", \"count\"]) \\\n",
        "    .sort_values(by=\"mean\", ascending=False)\n",
        "\n",
        "occupation_class.head(10)"
      ],
      "execution_count": 0,
      "outputs": [
        {
          "output_type": "execute_result",
          "data": {
            "text/html": [
              "<div>\n",
              "<style scoped>\n",
              "    .dataframe tbody tr th:only-of-type {\n",
              "        vertical-align: middle;\n",
              "    }\n",
              "\n",
              "    .dataframe tbody tr th {\n",
              "        vertical-align: top;\n",
              "    }\n",
              "\n",
              "    .dataframe thead th {\n",
              "        text-align: right;\n",
              "    }\n",
              "</style>\n",
              "<table border=\"1\" class=\"dataframe\">\n",
              "  <thead>\n",
              "    <tr style=\"text-align: right;\">\n",
              "      <th></th>\n",
              "      <th></th>\n",
              "      <th>mean</th>\n",
              "      <th>count</th>\n",
              "    </tr>\n",
              "    <tr>\n",
              "      <th>occupation</th>\n",
              "      <th>workclass</th>\n",
              "      <th></th>\n",
              "      <th></th>\n",
              "    </tr>\n",
              "  </thead>\n",
              "  <tbody>\n",
              "    <tr>\n",
              "      <td>Prof-specialty</td>\n",
              "      <td>Self-emp-inc</td>\n",
              "      <td>0.756250</td>\n",
              "      <td>160</td>\n",
              "    </tr>\n",
              "    <tr>\n",
              "      <td>Tech-support</td>\n",
              "      <td>Self-emp-inc</td>\n",
              "      <td>0.666667</td>\n",
              "      <td>3</td>\n",
              "    </tr>\n",
              "    <tr>\n",
              "      <td>Exec-managerial</td>\n",
              "      <td>Self-emp-inc</td>\n",
              "      <td>0.635000</td>\n",
              "      <td>400</td>\n",
              "    </tr>\n",
              "    <tr>\n",
              "      <td>Prof-specialty</td>\n",
              "      <td>Self-emp-not-inc</td>\n",
              "      <td>0.563003</td>\n",
              "      <td>373</td>\n",
              "    </tr>\n",
              "    <tr>\n",
              "      <td>Sales</td>\n",
              "      <td>Self-emp-inc</td>\n",
              "      <td>0.549828</td>\n",
              "      <td>291</td>\n",
              "    </tr>\n",
              "    <tr>\n",
              "      <td>Prof-specialty</td>\n",
              "      <td>Federal-gov</td>\n",
              "      <td>0.542857</td>\n",
              "      <td>175</td>\n",
              "    </tr>\n",
              "    <tr>\n",
              "      <td>Exec-managerial</td>\n",
              "      <td>Federal-gov</td>\n",
              "      <td>0.511111</td>\n",
              "      <td>180</td>\n",
              "    </tr>\n",
              "    <tr>\n",
              "      <td>Protective-serv</td>\n",
              "      <td>Federal-gov</td>\n",
              "      <td>0.500000</td>\n",
              "      <td>28</td>\n",
              "    </tr>\n",
              "    <tr>\n",
              "      <td rowspan=\"2\" valign=\"top\">Exec-managerial</td>\n",
              "      <td>Private</td>\n",
              "      <td>0.481234</td>\n",
              "      <td>2691</td>\n",
              "    </tr>\n",
              "    <tr>\n",
              "      <td>Local-gov</td>\n",
              "      <td>0.476636</td>\n",
              "      <td>214</td>\n",
              "    </tr>\n",
              "  </tbody>\n",
              "</table>\n",
              "</div>"
            ],
            "text/plain": [
              "                                      mean  count\n",
              "occupation      workclass                        \n",
              "Prof-specialty  Self-emp-inc      0.756250    160\n",
              "Tech-support    Self-emp-inc      0.666667      3\n",
              "Exec-managerial Self-emp-inc      0.635000    400\n",
              "Prof-specialty  Self-emp-not-inc  0.563003    373\n",
              "Sales           Self-emp-inc      0.549828    291\n",
              "Prof-specialty  Federal-gov       0.542857    175\n",
              "Exec-managerial Federal-gov       0.511111    180\n",
              "Protective-serv Federal-gov       0.500000     28\n",
              "Exec-managerial Private           0.481234   2691\n",
              "                Local-gov         0.476636    214"
            ]
          },
          "metadata": {
            "tags": []
          },
          "execution_count": 47
        }
      ]
    },
    {
      "cell_type": "markdown",
      "metadata": {
        "id": "gMt-9jADY2Z1",
        "colab_type": "text"
      },
      "source": [
        "### 2. how many of these combinations have more than 100 people?"
      ]
    },
    {
      "cell_type": "code",
      "metadata": {
        "scrolled": true,
        "id": "A7Qakw6zY2Z1",
        "colab_type": "code",
        "colab": {},
        "outputId": "04d271cf-8a59-4c3e-8d52-72f560581c2e"
      },
      "source": [
        "occupation_class = occupation_class[occupation_class['count'] > 100]\n",
        "print(len(occupation_class))\n",
        "occupation_class.head(10)"
      ],
      "execution_count": 0,
      "outputs": [
        {
          "output_type": "stream",
          "text": [
            "40\n"
          ],
          "name": "stdout"
        },
        {
          "output_type": "execute_result",
          "data": {
            "text/html": [
              "<div>\n",
              "<style scoped>\n",
              "    .dataframe tbody tr th:only-of-type {\n",
              "        vertical-align: middle;\n",
              "    }\n",
              "\n",
              "    .dataframe tbody tr th {\n",
              "        vertical-align: top;\n",
              "    }\n",
              "\n",
              "    .dataframe thead th {\n",
              "        text-align: right;\n",
              "    }\n",
              "</style>\n",
              "<table border=\"1\" class=\"dataframe\">\n",
              "  <thead>\n",
              "    <tr style=\"text-align: right;\">\n",
              "      <th></th>\n",
              "      <th></th>\n",
              "      <th>mean</th>\n",
              "      <th>count</th>\n",
              "    </tr>\n",
              "    <tr>\n",
              "      <th>occupation</th>\n",
              "      <th>workclass</th>\n",
              "      <th></th>\n",
              "      <th></th>\n",
              "    </tr>\n",
              "  </thead>\n",
              "  <tbody>\n",
              "    <tr>\n",
              "      <td>Prof-specialty</td>\n",
              "      <td>Self-emp-inc</td>\n",
              "      <td>0.756250</td>\n",
              "      <td>160</td>\n",
              "    </tr>\n",
              "    <tr>\n",
              "      <td>Exec-managerial</td>\n",
              "      <td>Self-emp-inc</td>\n",
              "      <td>0.635000</td>\n",
              "      <td>400</td>\n",
              "    </tr>\n",
              "    <tr>\n",
              "      <td>Prof-specialty</td>\n",
              "      <td>Self-emp-not-inc</td>\n",
              "      <td>0.563003</td>\n",
              "      <td>373</td>\n",
              "    </tr>\n",
              "    <tr>\n",
              "      <td>Sales</td>\n",
              "      <td>Self-emp-inc</td>\n",
              "      <td>0.549828</td>\n",
              "      <td>291</td>\n",
              "    </tr>\n",
              "    <tr>\n",
              "      <td>Prof-specialty</td>\n",
              "      <td>Federal-gov</td>\n",
              "      <td>0.542857</td>\n",
              "      <td>175</td>\n",
              "    </tr>\n",
              "    <tr>\n",
              "      <td rowspan=\"3\" valign=\"top\">Exec-managerial</td>\n",
              "      <td>Federal-gov</td>\n",
              "      <td>0.511111</td>\n",
              "      <td>180</td>\n",
              "    </tr>\n",
              "    <tr>\n",
              "      <td>Private</td>\n",
              "      <td>0.481234</td>\n",
              "      <td>2691</td>\n",
              "    </tr>\n",
              "    <tr>\n",
              "      <td>Local-gov</td>\n",
              "      <td>0.476636</td>\n",
              "      <td>214</td>\n",
              "    </tr>\n",
              "    <tr>\n",
              "      <td>Protective-serv</td>\n",
              "      <td>Local-gov</td>\n",
              "      <td>0.444079</td>\n",
              "      <td>304</td>\n",
              "    </tr>\n",
              "    <tr>\n",
              "      <td>Prof-specialty</td>\n",
              "      <td>Private</td>\n",
              "      <td>0.435798</td>\n",
              "      <td>2313</td>\n",
              "    </tr>\n",
              "  </tbody>\n",
              "</table>\n",
              "</div>"
            ],
            "text/plain": [
              "                                      mean  count\n",
              "occupation      workclass                        \n",
              "Prof-specialty  Self-emp-inc      0.756250    160\n",
              "Exec-managerial Self-emp-inc      0.635000    400\n",
              "Prof-specialty  Self-emp-not-inc  0.563003    373\n",
              "Sales           Self-emp-inc      0.549828    291\n",
              "Prof-specialty  Federal-gov       0.542857    175\n",
              "Exec-managerial Federal-gov       0.511111    180\n",
              "                Private           0.481234   2691\n",
              "                Local-gov         0.476636    214\n",
              "Protective-serv Local-gov         0.444079    304\n",
              "Prof-specialty  Private           0.435798   2313"
            ]
          },
          "metadata": {
            "tags": []
          },
          "execution_count": 48
        }
      ]
    },
    {
      "cell_type": "markdown",
      "metadata": {
        "id": "fzUKqZvVY2Z3",
        "colab_type": "text"
      },
      "source": [
        "### 3. show a heatmap\n",
        "of the mean over50k of occupation-vs-worklass for combinations with more than 100 people. center the heatmap at the populations mean over50k for increased effect. what conclusions can you draw?"
      ]
    },
    {
      "cell_type": "code",
      "metadata": {
        "scrolled": false,
        "id": "fGUBA_RoY2Z4",
        "colab_type": "code",
        "colab": {},
        "outputId": "bb6b7984-32d9-4c89-dd22-8a85f2050659"
      },
      "source": [
        "sns.heatmap(\n",
        "    occupation_class['mean'].unstack(1)\n",
        "    , center=df.over50k.mean()\n",
        "    , robust = True\n",
        "    , linewidths=.75)"
      ],
      "execution_count": 0,
      "outputs": [
        {
          "output_type": "execute_result",
          "data": {
            "text/plain": [
              "<matplotlib.axes._subplots.AxesSubplot at 0x10bce230>"
            ]
          },
          "metadata": {
            "tags": []
          },
          "execution_count": 49
        },
        {
          "output_type": "display_data",
          "data": {
            "image/png": "[encoded data removed]",
            "text/plain": [
              "<Figure size 432x288 with 2 Axes>"
            ]
          },
          "metadata": {
            "tags": [],
            "needs_background": "light"
          }
        }
      ]
    },
    {
      "cell_type": "markdown",
      "metadata": {
        "id": "YH9LX_HBY2Z7",
        "colab_type": "text"
      },
      "source": [
        "#### > answer:\n",
        "> 1. Prof-speciality and Exec managerial lead the earners across all work classes.\n",
        "> 2. Self-employed-inc (having your own firm incorporated) is great\n",
        "> 3. the private sector often has worse over50k mean than other sectors for the same occupations\n",
        "> 4. Protective-serv (police/firemen) working for local-gov is a sweet deal\n"
      ]
    },
    {
      "cell_type": "markdown",
      "metadata": {
        "id": "s_FGv3fMY2Z8",
        "colab_type": "text"
      },
      "source": [
        "### 7. create a numerical encoding for occupation / workclass pairs\n",
        "   - create a new column called \"occ_class\" that combines the string of the occupation and workclass\n",
        "   - use the library [category_encoders](http://contrib.scikit-learn.org/categorical-encoding/), here's an [intro](https://towardsdatascience.com/smarter-ways-to-encode-categorical-data-for-machine-learning-part-1-of-3-6dca2f71b159) how to do it\n",
        "   - use the weight of evidence encoder `ce.woe.WOEEncoder` here's an [article](https://towardsdatascience.com/all-about-categorical-variable-encoding-305f3361fd02#targetText=Weight%20of%20Evidence%20Encoding,-Weight%20of%20Evidence&targetText=Weight%20of%20evidence%20(WOE)%20is%20a%20measure%20of%20how%20much,P(Bads)%20%3D%201.) explaining it\n",
        "   - add the encoded occ_class as a new column called `occ_class_woe` to your dataframe\n",
        "      "
      ]
    },
    {
      "cell_type": "code",
      "metadata": {
        "id": "qrqay6FWY2Z9",
        "colab_type": "code",
        "colab": {},
        "outputId": "840d3176-3ca9-4ff4-b522-f24a025f6792"
      },
      "source": [
        "# pip install category_encoders\n",
        "import category_encoders as ce\n",
        "\n",
        "def get_occupation_workclass(person):\n",
        "    occupation, workclass = person['occupation'], person['workclass']\n",
        "    if (occupation, workclass) in occupation_class.index:\n",
        "        return f\"{occupation}|{workclass}\"\n",
        "    else:\n",
        "        return \"other\"\n",
        "\n",
        "df['occ_class'] = df.apply(get_occupation_workclass, axis=1)\n",
        "ce_target = ce.woe.WOEEncoder(cols = ['occ_class'])\n",
        "ce_target.fit(df[\"occ_class\"], df['over50k'])\n",
        "df[\"occ_class_woe\" ] = ce_target.transform(df[\"occ_class\"], df['over50k'])\n",
        "\n",
        "# show the encoding\n",
        "df.groupby(\"occ_class\")['occ_class_woe'].max().sort_values()"
      ],
      "execution_count": 0,
      "outputs": [
        {
          "output_type": "execute_result",
          "data": {
            "text/plain": [
              "occ_class\n",
              "Priv-house-serv|Private             -3.162727\n",
              "Other-service|Private               -2.115720\n",
              "Other-service|State-gov             -2.038281\n",
              "Handlers-cleaners|Private           -1.638773\n",
              "Other-service|Local-gov             -1.490985\n",
              "Farming-fishing|Private             -1.472380\n",
              "Other-service|Self-emp-not-inc      -1.386845\n",
              "?|?                                 -1.000536\n",
              "Adm-clerical|State-gov              -0.944673\n",
              "Transport-moving|Local-gov          -0.931369\n",
              "Adm-clerical|Private                -0.906609\n",
              "Machine-op-inspct|Private           -0.863285\n",
              "Adm-clerical|Local-gov              -0.851020\n",
              "Farming-fishing|Self-emp-not-inc    -0.582902\n",
              "Protective-serv|Private             -0.499345\n",
              "Craft-repair|Self-emp-not-inc       -0.367513\n",
              "Transport-moving|Private            -0.231336\n",
              "Craft-repair|Private                -0.083898\n",
              "Sales|Private                       -0.045187\n",
              "Transport-moving|Self-emp-not-inc    0.005975\n",
              "Protective-serv|State-gov            0.071933\n",
              "other                                0.108300\n",
              "Craft-repair|Local-gov               0.188815\n",
              "Tech-support|Private                 0.304643\n",
              "Adm-clerical|Federal-gov             0.393148\n",
              "Sales|Self-emp-not-inc               0.454925\n",
              "Prof-specialty|Local-gov             0.575653\n",
              "Craft-repair|Self-emp-inc            0.577527\n",
              "Exec-managerial|Self-emp-not-inc     0.607353\n",
              "Prof-specialty|State-gov             0.798398\n",
              "Exec-managerial|State-gov            0.863443\n",
              "Prof-specialty|Private               0.890063\n",
              "Protective-serv|Local-gov            0.924929\n",
              "Exec-managerial|Local-gov            1.055413\n",
              "Exec-managerial|Private              1.073028\n",
              "Exec-managerial|Federal-gov          1.192035\n",
              "Prof-specialty|Federal-gov           1.317971\n",
              "Sales|Self-emp-inc                   1.346675\n",
              "Prof-specialty|Self-emp-not-inc      1.400064\n",
              "Exec-managerial|Self-emp-inc         1.698903\n",
              "Prof-specialty|Self-emp-inc          2.263214\n",
              "Name: occ_class_woe, dtype: float64"
            ]
          },
          "metadata": {
            "tags": []
          },
          "execution_count": 50
        }
      ]
    },
    {
      "cell_type": "markdown",
      "metadata": {
        "id": "mFSDyPQyY2aC",
        "colab_type": "text"
      },
      "source": [
        "## correlations\n",
        "1. which features are most important, which correlate?\n",
        "    - compute the correction matrix of features with themselves\n",
        "\n",
        "    "
      ]
    },
    {
      "cell_type": "code",
      "metadata": {
        "id": "5UaCVfPEY2aD",
        "colab_type": "code",
        "colab": {},
        "outputId": "5c149f4c-4bba-4601-93ff-6110582ca9e9"
      },
      "source": [
        "corr = df.corr()\n",
        "corr.head()"
      ],
      "execution_count": 0,
      "outputs": [
        {
          "output_type": "execute_result",
          "data": {
            "text/html": [
              "<div>\n",
              "<style scoped>\n",
              "    .dataframe tbody tr th:only-of-type {\n",
              "        vertical-align: middle;\n",
              "    }\n",
              "\n",
              "    .dataframe tbody tr th {\n",
              "        vertical-align: top;\n",
              "    }\n",
              "\n",
              "    .dataframe thead th {\n",
              "        text-align: right;\n",
              "    }\n",
              "</style>\n",
              "<table border=\"1\" class=\"dataframe\">\n",
              "  <thead>\n",
              "    <tr style=\"text-align: right;\">\n",
              "      <th></th>\n",
              "      <th>age</th>\n",
              "      <th>fnlwgt</th>\n",
              "      <th>education_num</th>\n",
              "      <th>female</th>\n",
              "      <th>capital_gain</th>\n",
              "      <th>capital_loss</th>\n",
              "      <th>hours_per_week</th>\n",
              "      <th>over50k</th>\n",
              "      <th>capital_change</th>\n",
              "      <th>capital_change_bin</th>\n",
              "      <th>occ_class_woe</th>\n",
              "    </tr>\n",
              "  </thead>\n",
              "  <tbody>\n",
              "    <tr>\n",
              "      <td>age</td>\n",
              "      <td>1.000000</td>\n",
              "      <td>-0.076646</td>\n",
              "      <td>0.036527</td>\n",
              "      <td>-0.088832</td>\n",
              "      <td>0.077674</td>\n",
              "      <td>0.057775</td>\n",
              "      <td>0.068756</td>\n",
              "      <td>0.234037</td>\n",
              "      <td>0.074284</td>\n",
              "      <td>0.099866</td>\n",
              "      <td>0.162277</td>\n",
              "    </tr>\n",
              "    <tr>\n",
              "      <td>fnlwgt</td>\n",
              "      <td>-0.076646</td>\n",
              "      <td>1.000000</td>\n",
              "      <td>-0.043195</td>\n",
              "      <td>-0.026858</td>\n",
              "      <td>0.000432</td>\n",
              "      <td>-0.010252</td>\n",
              "      <td>-0.018768</td>\n",
              "      <td>-0.009463</td>\n",
              "      <td>0.000988</td>\n",
              "      <td>0.000334</td>\n",
              "      <td>-0.026165</td>\n",
              "    </tr>\n",
              "    <tr>\n",
              "      <td>education_num</td>\n",
              "      <td>0.036527</td>\n",
              "      <td>-0.043195</td>\n",
              "      <td>1.000000</td>\n",
              "      <td>-0.012280</td>\n",
              "      <td>0.122630</td>\n",
              "      <td>0.079923</td>\n",
              "      <td>0.148123</td>\n",
              "      <td>0.335154</td>\n",
              "      <td>0.117891</td>\n",
              "      <td>0.131408</td>\n",
              "      <td>0.442328</td>\n",
              "    </tr>\n",
              "    <tr>\n",
              "      <td>female</td>\n",
              "      <td>-0.088832</td>\n",
              "      <td>-0.026858</td>\n",
              "      <td>-0.012280</td>\n",
              "      <td>1.000000</td>\n",
              "      <td>-0.048480</td>\n",
              "      <td>-0.045567</td>\n",
              "      <td>-0.229309</td>\n",
              "      <td>-0.215980</td>\n",
              "      <td>-0.045846</td>\n",
              "      <td>-0.055595</td>\n",
              "      <td>-0.157328</td>\n",
              "    </tr>\n",
              "    <tr>\n",
              "      <td>capital_gain</td>\n",
              "      <td>0.077674</td>\n",
              "      <td>0.000432</td>\n",
              "      <td>0.122630</td>\n",
              "      <td>-0.048480</td>\n",
              "      <td>1.000000</td>\n",
              "      <td>-0.031615</td>\n",
              "      <td>0.078409</td>\n",
              "      <td>0.223329</td>\n",
              "      <td>0.998521</td>\n",
              "      <td>0.731770</td>\n",
              "      <td>0.120792</td>\n",
              "    </tr>\n",
              "  </tbody>\n",
              "</table>\n",
              "</div>"
            ],
            "text/plain": [
              "                    age    fnlwgt  education_num    female  capital_gain  \\\n",
              "age            1.000000 -0.076646       0.036527 -0.088832      0.077674   \n",
              "fnlwgt        -0.076646  1.000000      -0.043195 -0.026858      0.000432   \n",
              "education_num  0.036527 -0.043195       1.000000 -0.012280      0.122630   \n",
              "female        -0.088832 -0.026858      -0.012280  1.000000     -0.048480   \n",
              "capital_gain   0.077674  0.000432       0.122630 -0.048480      1.000000   \n",
              "\n",
              "               capital_loss  hours_per_week   over50k  capital_change  \\\n",
              "age                0.057775        0.068756  0.234037        0.074284   \n",
              "fnlwgt            -0.010252       -0.018768 -0.009463        0.000988   \n",
              "education_num      0.079923        0.148123  0.335154        0.117891   \n",
              "female            -0.045567       -0.229309 -0.215980       -0.045846   \n",
              "capital_gain      -0.031615        0.078409  0.223329        0.998521   \n",
              "\n",
              "               capital_change_bin  occ_class_woe  \n",
              "age                      0.099866       0.162277  \n",
              "fnlwgt                   0.000334      -0.026165  \n",
              "education_num            0.131408       0.442328  \n",
              "female                  -0.055595      -0.157328  \n",
              "capital_gain             0.731770       0.120792  "
            ]
          },
          "metadata": {
            "tags": []
          },
          "execution_count": 51
        }
      ]
    },
    {
      "cell_type": "markdown",
      "metadata": {
        "id": "UAOtkBvJY2aF",
        "colab_type": "text"
      },
      "source": [
        "### 2. draw a clustermap of this correlation\n",
        "   - center the cluster at 0\n",
        "   - annotate the plot with the correlation values"
      ]
    },
    {
      "cell_type": "code",
      "metadata": {
        "id": "zri82xgPY2aF",
        "colab_type": "code",
        "colab": {},
        "outputId": "c86916d2-7206-4027-891c-eba27afef1b6"
      },
      "source": [
        "sns.clustermap(corr, \n",
        "               linewidths=.75,\n",
        "               annot=True,\n",
        "               fmt=\".2f\",\n",
        "               center=0\n",
        "               )"
      ],
      "execution_count": 0,
      "outputs": [
        {
          "output_type": "execute_result",
          "data": {
            "text/plain": [
              "<seaborn.matrix.ClusterGrid at 0xf267a70>"
            ]
          },
          "metadata": {
            "tags": []
          },
          "execution_count": 53
        },
        {
          "output_type": "display_data",
          "data": {
            "image/png": "[encoded data removed]",
            "text/plain": [
              "<Figure size 720x720 with 4 Axes>"
            ]
          },
          "metadata": {
            "tags": [],
            "needs_background": "light"
          }
        }
      ]
    },
    {
      "cell_type": "markdown",
      "metadata": {
        "id": "TRqQxo83Y2aH",
        "colab_type": "text"
      },
      "source": [
        "### 3. look at the strongest correlations and draw some conclusions."
      ]
    },
    {
      "cell_type": "markdown",
      "metadata": {
        "id": "iPISsgYeY2aH",
        "colab_type": "text"
      },
      "source": [
        "#### > answer:\n",
        "we obviously ignore the diagonal where variables have 100% correlation with themselves\n",
        "> 1. a strong .44 correlation between `education_num` and `occ_class_woe` is especially interesting because we encoded occupation/class toward the `over50k` variable, but received a stronger correlation with education than with income (at a smaller .36). this shows that education is a super strong determinant of occupation/class, and that occupation/class determines income\n",
        "> 2. at a slighly lower .34, `education_num` is still very strongly correlated with `over50k`, showing education is key for higher incomes\n",
        "> 3. at .28 `capital_change_bin` is strongly correlated with `over50k`. it is my belief that here causality goes backwards - higher incomes create capital investments, rather than the opposite. perhpas an indication for that is that capital_change_bin is not strongly correlated with anything but `over50k`\n",
        "> 4. at .25 `occ_class_woe` is strongly correlated with `hours_per_week`. stronger than the .15 correlation of `education_num` with `hours_per_week`, and we've seen analysis that with higher education people work more hours. it appears that higher education enables higher paying jobs, with require more hours.\n",
        "> 5. at .23 `hours_per_week` is strongly correlated with `over50k`. this is probably explained by the previous item. better jobs require more hours, rather than the more obvious more hours worked creating higher salary. \n",
        "> 5. at -0.23 `hours_per_week` is strongly negatively correlated with being `female`. so women work less hours. this is only slightly more negative than the -0.22 correlation women have with `over50k`. are women earning less because they are not willing to work as many hours? there is no definitive answer here, but it is interesting to also note the -0.16 negative correlation of `occ_class_woe` with being female, so they might be choosing lower paying jobs with shorter hours. lastly, it is interesting to note the correlation of `female` and `education_num` is a negligble -0.01, that is women have the same levels of education as men. \n",
        "> 1. the strongest correlation is `capital_change_bin` and `capital_gain` but that is an artifact of how we built that variable.\n"
      ]
    },
    {
      "cell_type": "code",
      "metadata": {
        "id": "k7UWbt5NY2aI",
        "colab_type": "code",
        "colab": {}
      },
      "source": [
        ""
      ],
      "execution_count": 0,
      "outputs": []
    }
  ]
}