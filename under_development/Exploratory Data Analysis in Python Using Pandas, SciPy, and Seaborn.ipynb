{
 "cells": [
  {
   "cell_type": "markdown",
   "metadata": {},
   "source": [
    "\n",
    "<a href=\"https://colab.research.google.com/github/aviadr1/learn-advanced-python/blob/master/under_development/Exploratory%20Data%20Analysis%20in%20Python%20Using%20Pandas%2C%20SciPy%2C%20and%20Seaborn.ipynb\" target=\"_blank\">\n",
    "<img src=\"https://colab.research.google.com/assets/colab-badge.svg\" \n",
    "     title=\"Open this file in Google Colab\" alt=\"Colab\"/>\n",
    "</a>\n"
   ]
  },
  {
   "cell_type": "markdown",
   "metadata": {},
   "source": [
    "[Source](https://www.marsja.se/explorative-data-analysis-with-pandas-scipy-and-seaborn/)"
   ]
  },
  {
   "cell_type": "code",
   "execution_count": 1,
   "metadata": {},
   "outputs": [],
   "source": [
    "from IPython.display import display, HTML"
   ]
  },
  {
   "cell_type": "code",
   "execution_count": 15,
   "metadata": {},
   "outputs": [],
   "source": [
    "import pandas as pd\n",
    "\n",
    "url = 'https://en.wikipedia.org/wiki/List_of_Capsicum_cultivars'\n",
    "data = pd.read_html(url, flavor='bs4', header=0, encoding='UTF8')"
   ]
  },
  {
   "cell_type": "code",
   "execution_count": 16,
   "metadata": {},
   "outputs": [
    {
     "data": {
      "text/html": [
       "<div>\n",
       "<style scoped>\n",
       "    .dataframe tbody tr th:only-of-type {\n",
       "        vertical-align: middle;\n",
       "    }\n",
       "\n",
       "    .dataframe tbody tr th {\n",
       "        vertical-align: top;\n",
       "    }\n",
       "\n",
       "    .dataframe thead th {\n",
       "        text-align: right;\n",
       "    }\n",
       "</style>\n",
       "<table border=\"1\" class=\"dataframe\">\n",
       "  <thead>\n",
       "    <tr style=\"text-align: right;\">\n",
       "      <th></th>\n",
       "      <th>Image</th>\n",
       "      <th>Name</th>\n",
       "      <th>Type</th>\n",
       "      <th>Origin</th>\n",
       "      <th>Heat</th>\n",
       "      <th>Pod size</th>\n",
       "      <th>Description</th>\n",
       "    </tr>\n",
       "  </thead>\n",
       "  <tbody>\n",
       "    <tr>\n",
       "      <th>0</th>\n",
       "      <td>NaN</td>\n",
       "      <td>Aleppo</td>\n",
       "      <td>NaN</td>\n",
       "      <td>Syria and Turkey</td>\n",
       "      <td>15,000 SR</td>\n",
       "      <td>NaN</td>\n",
       "      <td>Grown in Syria and Turkey and used, in coarsel...</td>\n",
       "    </tr>\n",
       "    <tr>\n",
       "      <th>1</th>\n",
       "      <td>NaN</td>\n",
       "      <td>Anaheim[14]</td>\n",
       "      <td>Anaheim</td>\n",
       "      <td>United States</td>\n",
       "      <td>500–2,500 SR</td>\n",
       "      <td>15 cm (5.9 in)</td>\n",
       "      <td>A mild variety of New Mexico chile. It was lat...</td>\n",
       "    </tr>\n",
       "    <tr>\n",
       "      <th>2</th>\n",
       "      <td>NaN</td>\n",
       "      <td>Banana</td>\n",
       "      <td>Waxy</td>\n",
       "      <td>NaN</td>\n",
       "      <td>0–500 SR</td>\n",
       "      <td>15 cm (5.9 in)</td>\n",
       "      <td>Often it is pickled and used as an ingredient ...</td>\n",
       "    </tr>\n",
       "    <tr>\n",
       "      <th>3</th>\n",
       "      <td>NaN</td>\n",
       "      <td>Bird's Eye</td>\n",
       "      <td>Small hot</td>\n",
       "      <td>Southeast Asia</td>\n",
       "      <td>50,000–100,000[15] SR</td>\n",
       "      <td>4 cm (1.6 in)</td>\n",
       "      <td>A Southeast Asian cultivar known by many local...</td>\n",
       "    </tr>\n",
       "    <tr>\n",
       "      <th>4</th>\n",
       "      <td>NaN</td>\n",
       "      <td>Black Hungarian[16]</td>\n",
       "      <td>Ornamental/ Culinary</td>\n",
       "      <td>Hungary</td>\n",
       "      <td>5,000–10,000 SR</td>\n",
       "      <td>5–7 cm (≈ 2–3 in)</td>\n",
       "      <td>Grows in a conical shape with a slight curve n...</td>\n",
       "    </tr>\n",
       "  </tbody>\n",
       "</table>\n",
       "</div>"
      ],
      "text/plain": [
       "   Image                 Name                  Type            Origin  \\\n",
       "0    NaN               Aleppo                   NaN  Syria and Turkey   \n",
       "1    NaN          Anaheim[14]               Anaheim     United States   \n",
       "2    NaN               Banana                  Waxy               NaN   \n",
       "3    NaN           Bird's Eye             Small hot    Southeast Asia   \n",
       "4    NaN  Black Hungarian[16]  Ornamental/ Culinary           Hungary   \n",
       "\n",
       "                    Heat           Pod size  \\\n",
       "0              15,000 SR                NaN   \n",
       "1           500–2,500 SR     15 cm (5.9 in)   \n",
       "2               0–500 SR     15 cm (5.9 in)   \n",
       "3  50,000–100,000[15] SR      4 cm (1.6 in)   \n",
       "4        5,000–10,000 SR  5–7 cm (≈ 2–3 in)   \n",
       "\n",
       "                                         Description  \n",
       "0  Grown in Syria and Turkey and used, in coarsel...  \n",
       "1  A mild variety of New Mexico chile. It was lat...  \n",
       "2  Often it is pickled and used as an ingredient ...  \n",
       "3  A Southeast Asian cultivar known by many local...  \n",
       "4  Grows in a conical shape with a slight curve n...  "
      ]
     },
     "metadata": {},
     "output_type": "display_data"
    },
    {
     "data": {
      "text/html": [
       "<div>\n",
       "<style scoped>\n",
       "    .dataframe tbody tr th:only-of-type {\n",
       "        vertical-align: middle;\n",
       "    }\n",
       "\n",
       "    .dataframe tbody tr th {\n",
       "        vertical-align: top;\n",
       "    }\n",
       "\n",
       "    .dataframe thead th {\n",
       "        text-align: right;\n",
       "    }\n",
       "</style>\n",
       "<table border=\"1\" class=\"dataframe\">\n",
       "  <thead>\n",
       "    <tr style=\"text-align: right;\">\n",
       "      <th></th>\n",
       "      <th>Image</th>\n",
       "      <th>Name</th>\n",
       "      <th>Origin</th>\n",
       "      <th>Heat</th>\n",
       "      <th>Pod size</th>\n",
       "      <th>Description</th>\n",
       "    </tr>\n",
       "  </thead>\n",
       "  <tbody>\n",
       "    <tr>\n",
       "      <th>0</th>\n",
       "      <td>NaN</td>\n",
       "      <td>Bishop's Crown</td>\n",
       "      <td>NaN</td>\n",
       "      <td>10,000–30,000 SR</td>\n",
       "      <td>6 cm (2.4 in)</td>\n",
       "      <td>C. baccatum strain from Barbados. Medium hot p...</td>\n",
       "    </tr>\n",
       "    <tr>\n",
       "      <th>1</th>\n",
       "      <td>NaN</td>\n",
       "      <td>Lemon Drop</td>\n",
       "      <td>NaN</td>\n",
       "      <td>30,000–50,000 SR</td>\n",
       "      <td>4 cm (1.6 in)</td>\n",
       "      <td>Very productive C. baccatum variety. Pods are ...</td>\n",
       "    </tr>\n",
       "    <tr>\n",
       "      <th>2</th>\n",
       "      <td>NaN</td>\n",
       "      <td>Peppadew</td>\n",
       "      <td>NaN</td>\n",
       "      <td>1,000–2,000 SR</td>\n",
       "      <td>2 cm (0.79 in)</td>\n",
       "      <td>Mild, sweet and tangy flavour, usable in many ...</td>\n",
       "    </tr>\n",
       "  </tbody>\n",
       "</table>\n",
       "</div>"
      ],
      "text/plain": [
       "   Image            Name  Origin              Heat        Pod size  \\\n",
       "0    NaN  Bishop's Crown     NaN  10,000–30,000 SR   6 cm (2.4 in)   \n",
       "1    NaN      Lemon Drop     NaN  30,000–50,000 SR   4 cm (1.6 in)   \n",
       "2    NaN        Peppadew     NaN    1,000–2,000 SR  2 cm (0.79 in)   \n",
       "\n",
       "                                         Description  \n",
       "0  C. baccatum strain from Barbados. Medium hot p...  \n",
       "1  Very productive C. baccatum variety. Pods are ...  \n",
       "2  Mild, sweet and tangy flavour, usable in many ...  "
      ]
     },
     "metadata": {},
     "output_type": "display_data"
    },
    {
     "data": {
      "text/html": [
       "<div>\n",
       "<style scoped>\n",
       "    .dataframe tbody tr th:only-of-type {\n",
       "        vertical-align: middle;\n",
       "    }\n",
       "\n",
       "    .dataframe tbody tr th {\n",
       "        vertical-align: top;\n",
       "    }\n",
       "\n",
       "    .dataframe thead th {\n",
       "        text-align: right;\n",
       "    }\n",
       "</style>\n",
       "<table border=\"1\" class=\"dataframe\">\n",
       "  <thead>\n",
       "    <tr style=\"text-align: right;\">\n",
       "      <th></th>\n",
       "      <th>Image</th>\n",
       "      <th>Name</th>\n",
       "      <th>Origin</th>\n",
       "      <th>Heat</th>\n",
       "      <th>Pod size</th>\n",
       "      <th>Description</th>\n",
       "    </tr>\n",
       "  </thead>\n",
       "  <tbody>\n",
       "    <tr>\n",
       "      <th>0</th>\n",
       "      <td>NaN</td>\n",
       "      <td>Adjuma</td>\n",
       "      <td>NaN</td>\n",
       "      <td>100,000–500,000 SR</td>\n",
       "      <td>NaN</td>\n",
       "      <td>Very hot, originally cultivated in Suriname</td>\n",
       "    </tr>\n",
       "    <tr>\n",
       "      <th>1</th>\n",
       "      <td>NaN</td>\n",
       "      <td>Ají Dulce</td>\n",
       "      <td>NaN</td>\n",
       "      <td>0–50 SR</td>\n",
       "      <td>NaN</td>\n",
       "      <td>It is a type of seasoning pepper. It refers to...</td>\n",
       "    </tr>\n",
       "    <tr>\n",
       "      <th>2</th>\n",
       "      <td>NaN</td>\n",
       "      <td>Bhut Jolokia[17]</td>\n",
       "      <td>NaN</td>\n",
       "      <td>Up to 1,500,000 SR</td>\n",
       "      <td>6 cm (2.4 in)</td>\n",
       "      <td>This cultivar originated in Northeast India, a...</td>\n",
       "    </tr>\n",
       "    <tr>\n",
       "      <th>3</th>\n",
       "      <td>NaN</td>\n",
       "      <td>Carolina Reaper</td>\n",
       "      <td>United States</td>\n",
       "      <td>1,569,300–2,200,000 [26] SR</td>\n",
       "      <td>NaN</td>\n",
       "      <td>Extremely hot pepper, currently the Guinness b...</td>\n",
       "    </tr>\n",
       "    <tr>\n",
       "      <th>4</th>\n",
       "      <td>NaN</td>\n",
       "      <td>Datil[17]</td>\n",
       "      <td>NaN</td>\n",
       "      <td>100,000–300,000 SR</td>\n",
       "      <td>NaN</td>\n",
       "      <td>A very hot chili; primarily grown in Florida</td>\n",
       "    </tr>\n",
       "  </tbody>\n",
       "</table>\n",
       "</div>"
      ],
      "text/plain": [
       "   Image              Name         Origin                         Heat  \\\n",
       "0    NaN            Adjuma            NaN           100,000–500,000 SR   \n",
       "1    NaN         Ají Dulce            NaN                      0–50 SR   \n",
       "2    NaN  Bhut Jolokia[17]            NaN           Up to 1,500,000 SR   \n",
       "3    NaN   Carolina Reaper  United States  1,569,300–2,200,000 [26] SR   \n",
       "4    NaN         Datil[17]            NaN           100,000–300,000 SR   \n",
       "\n",
       "        Pod size                                        Description  \n",
       "0            NaN        Very hot, originally cultivated in Suriname  \n",
       "1            NaN  It is a type of seasoning pepper. It refers to...  \n",
       "2  6 cm (2.4 in)  This cultivar originated in Northeast India, a...  \n",
       "3            NaN  Extremely hot pepper, currently the Guinness b...  \n",
       "4            NaN       A very hot chili; primarily grown in Florida  "
      ]
     },
     "metadata": {},
     "output_type": "display_data"
    },
    {
     "data": {
      "text/html": [
       "<div>\n",
       "<style scoped>\n",
       "    .dataframe tbody tr th:only-of-type {\n",
       "        vertical-align: middle;\n",
       "    }\n",
       "\n",
       "    .dataframe tbody tr th {\n",
       "        vertical-align: top;\n",
       "    }\n",
       "\n",
       "    .dataframe thead th {\n",
       "        text-align: right;\n",
       "    }\n",
       "</style>\n",
       "<table border=\"1\" class=\"dataframe\">\n",
       "  <thead>\n",
       "    <tr style=\"text-align: right;\">\n",
       "      <th></th>\n",
       "      <th>Image</th>\n",
       "      <th>Name</th>\n",
       "      <th>Origin</th>\n",
       "      <th>Heat</th>\n",
       "      <th>Pod size</th>\n",
       "      <th>Description</th>\n",
       "    </tr>\n",
       "  </thead>\n",
       "  <tbody>\n",
       "    <tr>\n",
       "      <th>0</th>\n",
       "      <td>NaN</td>\n",
       "      <td>African Birdseye</td>\n",
       "      <td>NaN</td>\n",
       "      <td>50,000–175,000 SR</td>\n",
       "      <td>2.5 cm (1 in)</td>\n",
       "      <td>Also known as piri piri, it is common in Portu...</td>\n",
       "    </tr>\n",
       "    <tr>\n",
       "      <th>1</th>\n",
       "      <td>NaN</td>\n",
       "      <td>Kambuzi</td>\n",
       "      <td>Malawi</td>\n",
       "      <td>NaN</td>\n",
       "      <td>NaN</td>\n",
       "      <td>Kambuzi is a small, round chili pepper cultiva...</td>\n",
       "    </tr>\n",
       "    <tr>\n",
       "      <th>2</th>\n",
       "      <td>NaN</td>\n",
       "      <td>Siling Labuyo</td>\n",
       "      <td>NaN</td>\n",
       "      <td>80,000–100,000 SR</td>\n",
       "      <td>2.5 cm (1 in)</td>\n",
       "      <td>A small, cone-shaped cultivar grown in the Phi...</td>\n",
       "    </tr>\n",
       "    <tr>\n",
       "      <th>3</th>\n",
       "      <td>NaN</td>\n",
       "      <td>Tabasco</td>\n",
       "      <td>NaN</td>\n",
       "      <td>30,000–50,000 SR</td>\n",
       "      <td>4 cm (1.6 in)</td>\n",
       "      <td>Used in Tabasco sauce. The fruit is only used ...</td>\n",
       "    </tr>\n",
       "  </tbody>\n",
       "</table>\n",
       "</div>"
      ],
      "text/plain": [
       "   Image              Name  Origin               Heat       Pod size  \\\n",
       "0    NaN  African Birdseye     NaN  50,000–175,000 SR  2.5 cm (1 in)   \n",
       "1    NaN           Kambuzi  Malawi                NaN            NaN   \n",
       "2    NaN     Siling Labuyo     NaN  80,000–100,000 SR  2.5 cm (1 in)   \n",
       "3    NaN           Tabasco     NaN   30,000–50,000 SR  4 cm (1.6 in)   \n",
       "\n",
       "                                         Description  \n",
       "0  Also known as piri piri, it is common in Portu...  \n",
       "1  Kambuzi is a small, round chili pepper cultiva...  \n",
       "2  A small, cone-shaped cultivar grown in the Phi...  \n",
       "3  Used in Tabasco sauce. The fruit is only used ...  "
      ]
     },
     "metadata": {},
     "output_type": "display_data"
    },
    {
     "data": {
      "text/html": [
       "<div>\n",
       "<style scoped>\n",
       "    .dataframe tbody tr th:only-of-type {\n",
       "        vertical-align: middle;\n",
       "    }\n",
       "\n",
       "    .dataframe tbody tr th {\n",
       "        vertical-align: top;\n",
       "    }\n",
       "\n",
       "    .dataframe thead th {\n",
       "        text-align: right;\n",
       "    }\n",
       "</style>\n",
       "<table border=\"1\" class=\"dataframe\">\n",
       "  <thead>\n",
       "    <tr style=\"text-align: right;\">\n",
       "      <th></th>\n",
       "      <th>Image</th>\n",
       "      <th>Name</th>\n",
       "      <th>Origin</th>\n",
       "      <th>Heat</th>\n",
       "      <th>Pod size</th>\n",
       "      <th>Description</th>\n",
       "    </tr>\n",
       "  </thead>\n",
       "  <tbody>\n",
       "    <tr>\n",
       "      <th>0</th>\n",
       "      <td>NaN</td>\n",
       "      <td>Canário</td>\n",
       "      <td>Peru</td>\n",
       "      <td>30,000–50,000 SR</td>\n",
       "      <td>6.5 cm (2.6 in)</td>\n",
       "      <td>Canário is a medium hot C. pubescens variety. ...</td>\n",
       "    </tr>\n",
       "    <tr>\n",
       "      <th>1</th>\n",
       "      <td>NaN</td>\n",
       "      <td>Rocoto</td>\n",
       "      <td>Peru, Bolivia</td>\n",
       "      <td>30,000–100,000[31] SR</td>\n",
       "      <td>NaN</td>\n",
       "      <td>Also known as a Manzano or Locoto pepper,[32] ...</td>\n",
       "    </tr>\n",
       "  </tbody>\n",
       "</table>\n",
       "</div>"
      ],
      "text/plain": [
       "   Image     Name         Origin                   Heat         Pod size  \\\n",
       "0    NaN  Canário           Peru       30,000–50,000 SR  6.5 cm (2.6 in)   \n",
       "1    NaN   Rocoto  Peru, Bolivia  30,000–100,000[31] SR              NaN   \n",
       "\n",
       "                                         Description  \n",
       "0  Canário is a medium hot C. pubescens variety. ...  \n",
       "1  Also known as a Manzano or Locoto pepper,[32] ...  "
      ]
     },
     "metadata": {},
     "output_type": "display_data"
    },
    {
     "data": {
      "text/html": [
       "<div>\n",
       "<style scoped>\n",
       "    .dataframe tbody tr th:only-of-type {\n",
       "        vertical-align: middle;\n",
       "    }\n",
       "\n",
       "    .dataframe tbody tr th {\n",
       "        vertical-align: top;\n",
       "    }\n",
       "\n",
       "    .dataframe thead th {\n",
       "        text-align: right;\n",
       "    }\n",
       "</style>\n",
       "<table border=\"1\" class=\"dataframe\">\n",
       "  <thead>\n",
       "    <tr style=\"text-align: right;\">\n",
       "      <th></th>\n",
       "      <th>vteCapsicum cultivars</th>\n",
       "      <th>vteCapsicum cultivars.1</th>\n",
       "    </tr>\n",
       "  </thead>\n",
       "  <tbody>\n",
       "    <tr>\n",
       "      <th>0</th>\n",
       "      <td>C. annuum var. annuum</td>\n",
       "      <td>Aleppo · Banana pepper · Bell pepper · Bird's ...</td>\n",
       "    </tr>\n",
       "    <tr>\n",
       "      <th>1</th>\n",
       "      <td>C. annuum var. glabriusculum</td>\n",
       "      <td>Piquín · Wild chiltepin</td>\n",
       "    </tr>\n",
       "    <tr>\n",
       "      <th>2</th>\n",
       "      <td>C. chinense</td>\n",
       "      <td>Adjuma · Ají dulce · Bhut jolokia · 'Carolina ...</td>\n",
       "    </tr>\n",
       "    <tr>\n",
       "      <th>3</th>\n",
       "      <td>C. frutescens</td>\n",
       "      <td>African bird's eye · Kambuzi · Malagueta · Sil...</td>\n",
       "    </tr>\n",
       "    <tr>\n",
       "      <th>4</th>\n",
       "      <td>C. baccatum</td>\n",
       "      <td>Ají · Bishop's crown · Lemon drop · Sweet piqu...</td>\n",
       "    </tr>\n",
       "  </tbody>\n",
       "</table>\n",
       "</div>"
      ],
      "text/plain": [
       "          vteCapsicum cultivars  \\\n",
       "0         C. annuum var. annuum   \n",
       "1  C. annuum var. glabriusculum   \n",
       "2                   C. chinense   \n",
       "3                 C. frutescens   \n",
       "4                   C. baccatum   \n",
       "\n",
       "                             vteCapsicum cultivars.1  \n",
       "0  Aleppo · Banana pepper · Bell pepper · Bird's ...  \n",
       "1                            Piquín · Wild chiltepin  \n",
       "2  Adjuma · Ají dulce · Bhut jolokia · 'Carolina ...  \n",
       "3  African bird's eye · Kambuzi · Malagueta · Sil...  \n",
       "4  Ají · Bishop's crown · Lemon drop · Sweet piqu...  "
      ]
     },
     "metadata": {},
     "output_type": "display_data"
    }
   ],
   "source": [
    "for df in data:\n",
    "    display(df.head())"
   ]
  },
  {
   "cell_type": "code",
   "execution_count": 17,
   "metadata": {},
   "outputs": [],
   "source": [
    "# Let's remove the last table\n",
    "del data[-1]"
   ]
  },
  {
   "cell_type": "code",
   "execution_count": 19,
   "metadata": {},
   "outputs": [
    {
     "data": {
      "text/html": [
       "<div>\n",
       "<style scoped>\n",
       "    .dataframe tbody tr th:only-of-type {\n",
       "        vertical-align: middle;\n",
       "    }\n",
       "\n",
       "    .dataframe tbody tr th {\n",
       "        vertical-align: top;\n",
       "    }\n",
       "\n",
       "    .dataframe thead th {\n",
       "        text-align: right;\n",
       "    }\n",
       "</style>\n",
       "<table border=\"1\" class=\"dataframe\">\n",
       "  <thead>\n",
       "    <tr style=\"text-align: right;\">\n",
       "      <th></th>\n",
       "      <th>Image</th>\n",
       "      <th>Name</th>\n",
       "      <th>Type</th>\n",
       "      <th>Origin</th>\n",
       "      <th>Heat</th>\n",
       "      <th>Pod size</th>\n",
       "      <th>Description</th>\n",
       "      <th>Species</th>\n",
       "    </tr>\n",
       "  </thead>\n",
       "  <tbody>\n",
       "    <tr>\n",
       "      <th>0</th>\n",
       "      <td>NaN</td>\n",
       "      <td>Aleppo</td>\n",
       "      <td>NaN</td>\n",
       "      <td>Syria and Turkey</td>\n",
       "      <td>15,000 SR</td>\n",
       "      <td>NaN</td>\n",
       "      <td>Grown in Syria and Turkey and used, in coarsel...</td>\n",
       "      <td>Capsicum annum</td>\n",
       "    </tr>\n",
       "    <tr>\n",
       "      <th>1</th>\n",
       "      <td>NaN</td>\n",
       "      <td>Anaheim[14]</td>\n",
       "      <td>Anaheim</td>\n",
       "      <td>United States</td>\n",
       "      <td>500–2,500 SR</td>\n",
       "      <td>15 cm (5.9 in)</td>\n",
       "      <td>A mild variety of New Mexico chile. It was lat...</td>\n",
       "      <td>Capsicum annum</td>\n",
       "    </tr>\n",
       "    <tr>\n",
       "      <th>2</th>\n",
       "      <td>NaN</td>\n",
       "      <td>Banana</td>\n",
       "      <td>Waxy</td>\n",
       "      <td>NaN</td>\n",
       "      <td>0–500 SR</td>\n",
       "      <td>15 cm (5.9 in)</td>\n",
       "      <td>Often it is pickled and used as an ingredient ...</td>\n",
       "      <td>Capsicum annum</td>\n",
       "    </tr>\n",
       "    <tr>\n",
       "      <th>3</th>\n",
       "      <td>NaN</td>\n",
       "      <td>Bird's Eye</td>\n",
       "      <td>Small hot</td>\n",
       "      <td>Southeast Asia</td>\n",
       "      <td>50,000–100,000[15] SR</td>\n",
       "      <td>4 cm (1.6 in)</td>\n",
       "      <td>A Southeast Asian cultivar known by many local...</td>\n",
       "      <td>Capsicum annum</td>\n",
       "    </tr>\n",
       "    <tr>\n",
       "      <th>4</th>\n",
       "      <td>NaN</td>\n",
       "      <td>Black Hungarian[16]</td>\n",
       "      <td>Ornamental/ Culinary</td>\n",
       "      <td>Hungary</td>\n",
       "      <td>5,000–10,000 SR</td>\n",
       "      <td>5–7 cm (≈ 2–3 in)</td>\n",
       "      <td>Grows in a conical shape with a slight curve n...</td>\n",
       "      <td>Capsicum annum</td>\n",
       "    </tr>\n",
       "  </tbody>\n",
       "</table>\n",
       "</div>"
      ],
      "text/plain": [
       "   Image                 Name                  Type            Origin  \\\n",
       "0    NaN               Aleppo                   NaN  Syria and Turkey   \n",
       "1    NaN          Anaheim[14]               Anaheim     United States   \n",
       "2    NaN               Banana                  Waxy               NaN   \n",
       "3    NaN           Bird's Eye             Small hot    Southeast Asia   \n",
       "4    NaN  Black Hungarian[16]  Ornamental/ Culinary           Hungary   \n",
       "\n",
       "                    Heat           Pod size  \\\n",
       "0              15,000 SR                NaN   \n",
       "1           500–2,500 SR     15 cm (5.9 in)   \n",
       "2               0–500 SR     15 cm (5.9 in)   \n",
       "3  50,000–100,000[15] SR      4 cm (1.6 in)   \n",
       "4        5,000–10,000 SR  5–7 cm (≈ 2–3 in)   \n",
       "\n",
       "                                         Description         Species  \n",
       "0  Grown in Syria and Turkey and used, in coarsel...  Capsicum annum  \n",
       "1  A mild variety of New Mexico chile. It was lat...  Capsicum annum  \n",
       "2  Often it is pickled and used as an ingredient ...  Capsicum annum  \n",
       "3  A Southeast Asian cultivar known by many local...  Capsicum annum  \n",
       "4  Grows in a conical shape with a slight curve n...  Capsicum annum  "
      ]
     },
     "execution_count": 19,
     "metadata": {},
     "output_type": "execute_result"
    }
   ],
   "source": [
    "species = ['Capsicum annum', 'Capsicum baccatum', 'Capsicum chinense',\n",
    "          'Capsicum frutescens', 'Capsicum pubescens']\n",
    "\n",
    "for i in range(len(species)):\n",
    "     data[i]['Species'] = species[i]\n",
    "        \n",
    "data[0].head()"
   ]
  },
  {
   "cell_type": "code",
   "execution_count": 20,
   "metadata": {},
   "outputs": [
    {
     "data": {
      "text/html": [
       "<div>\n",
       "<style scoped>\n",
       "    .dataframe tbody tr th:only-of-type {\n",
       "        vertical-align: middle;\n",
       "    }\n",
       "\n",
       "    .dataframe tbody tr th {\n",
       "        vertical-align: top;\n",
       "    }\n",
       "\n",
       "    .dataframe thead th {\n",
       "        text-align: right;\n",
       "    }\n",
       "</style>\n",
       "<table border=\"1\" class=\"dataframe\">\n",
       "  <thead>\n",
       "    <tr style=\"text-align: right;\">\n",
       "      <th></th>\n",
       "      <th>Image</th>\n",
       "      <th>Name</th>\n",
       "      <th>Type</th>\n",
       "      <th>Origin</th>\n",
       "      <th>Heat</th>\n",
       "      <th>Pod size</th>\n",
       "      <th>Description</th>\n",
       "      <th>Species</th>\n",
       "    </tr>\n",
       "  </thead>\n",
       "  <tbody>\n",
       "    <tr>\n",
       "      <th>0</th>\n",
       "      <td>NaN</td>\n",
       "      <td>Aleppo</td>\n",
       "      <td>NaN</td>\n",
       "      <td>Syria and Turkey</td>\n",
       "      <td>15,000 SR</td>\n",
       "      <td>NaN</td>\n",
       "      <td>Grown in Syria and Turkey and used, in coarsel...</td>\n",
       "      <td>Capsicum annum</td>\n",
       "    </tr>\n",
       "    <tr>\n",
       "      <th>1</th>\n",
       "      <td>NaN</td>\n",
       "      <td>Anaheim[14]</td>\n",
       "      <td>Anaheim</td>\n",
       "      <td>United States</td>\n",
       "      <td>500–2,500 SR</td>\n",
       "      <td>15 cm (5.9 in)</td>\n",
       "      <td>A mild variety of New Mexico chile. It was lat...</td>\n",
       "      <td>Capsicum annum</td>\n",
       "    </tr>\n",
       "    <tr>\n",
       "      <th>2</th>\n",
       "      <td>NaN</td>\n",
       "      <td>Banana</td>\n",
       "      <td>Waxy</td>\n",
       "      <td>NaN</td>\n",
       "      <td>0–500 SR</td>\n",
       "      <td>15 cm (5.9 in)</td>\n",
       "      <td>Often it is pickled and used as an ingredient ...</td>\n",
       "      <td>Capsicum annum</td>\n",
       "    </tr>\n",
       "    <tr>\n",
       "      <th>3</th>\n",
       "      <td>NaN</td>\n",
       "      <td>Bird's Eye</td>\n",
       "      <td>Small hot</td>\n",
       "      <td>Southeast Asia</td>\n",
       "      <td>50,000–100,000[15] SR</td>\n",
       "      <td>4 cm (1.6 in)</td>\n",
       "      <td>A Southeast Asian cultivar known by many local...</td>\n",
       "      <td>Capsicum annum</td>\n",
       "    </tr>\n",
       "    <tr>\n",
       "      <th>4</th>\n",
       "      <td>NaN</td>\n",
       "      <td>Black Hungarian[16]</td>\n",
       "      <td>Ornamental/ Culinary</td>\n",
       "      <td>Hungary</td>\n",
       "      <td>5,000–10,000 SR</td>\n",
       "      <td>5–7 cm (≈ 2–3 in)</td>\n",
       "      <td>Grows in a conical shape with a slight curve n...</td>\n",
       "      <td>Capsicum annum</td>\n",
       "    </tr>\n",
       "  </tbody>\n",
       "</table>\n",
       "</div>"
      ],
      "text/plain": [
       "   Image                 Name                  Type            Origin  \\\n",
       "0    NaN               Aleppo                   NaN  Syria and Turkey   \n",
       "1    NaN          Anaheim[14]               Anaheim     United States   \n",
       "2    NaN               Banana                  Waxy               NaN   \n",
       "3    NaN           Bird's Eye             Small hot    Southeast Asia   \n",
       "4    NaN  Black Hungarian[16]  Ornamental/ Culinary           Hungary   \n",
       "\n",
       "                    Heat           Pod size  \\\n",
       "0              15,000 SR                NaN   \n",
       "1           500–2,500 SR     15 cm (5.9 in)   \n",
       "2               0–500 SR     15 cm (5.9 in)   \n",
       "3  50,000–100,000[15] SR      4 cm (1.6 in)   \n",
       "4        5,000–10,000 SR  5–7 cm (≈ 2–3 in)   \n",
       "\n",
       "                                         Description         Species  \n",
       "0  Grown in Syria and Turkey and used, in coarsel...  Capsicum annum  \n",
       "1  A mild variety of New Mexico chile. It was lat...  Capsicum annum  \n",
       "2  Often it is pickled and used as an ingredient ...  Capsicum annum  \n",
       "3  A Southeast Asian cultivar known by many local...  Capsicum annum  \n",
       "4  Grows in a conical shape with a slight curve n...  Capsicum annum  "
      ]
     },
     "execution_count": 20,
     "metadata": {},
     "output_type": "execute_result"
    }
   ],
   "source": [
    "df = pd.concat(data, sort=False)\n",
    "df.head()"
   ]
  },
  {
   "cell_type": "code",
   "execution_count": 21,
   "metadata": {},
   "outputs": [],
   "source": [
    "import re\n",
    "import numpy as np\n",
    "\n",
    "# Remove brackets and whats between them (e.g. [14])\n",
    "df['Name'] = df['Name'].map(lambda x: re.sub(\"[\\(\\[].*?[\\)\\]]\", \"\", x)\n",
    "                                         if isinstance(x, str) else np.NaN)\n",
    "\n",
    "# Pod Size get cm\n",
    "df['Pod size'] = df['Pod size'].map(lambda x: x.split(' ', 1)[0].rstrip('cm') \n",
    "                                              if isinstance(x, str) else np.NaN)\n",
    "\n",
    "# Taking the largest number in a range and convert all values to float\n",
    "df['Pod size']  = df['Pod size'].map(lambda x: x.split('–', 1)[-1]\n",
    "                                              if isinstance(x, str) else np.NaN)\n",
    "# Convert to float\n",
    "df['Pod size'] = df['Pod size'].map(lambda x: float(x))\n",
    "\n",
    "# Taking the largest SHU\n",
    "df['Heat'] = df['Heat'].map(lambda x: re.sub(\"[\\(\\[].*?[\\)\\]]\", \"\", x) \n",
    "                            if isinstance(x, str) else np.NaN)\n",
    "df['Heat'] = df['Heat'].str.replace(',', '')\n",
    "df['Heat'] = df['Heat'].map(lambda x: float(re.findall(r'\\d+(?:,\\d+)?', x)[-1])\n",
    "                            if isinstance(x, str) else np.NaN)"
   ]
  },
  {
   "cell_type": "code",
   "execution_count": 22,
   "metadata": {},
   "outputs": [
    {
     "data": {
      "text/html": [
       "<div>\n",
       "<style scoped>\n",
       "    .dataframe tbody tr th:only-of-type {\n",
       "        vertical-align: middle;\n",
       "    }\n",
       "\n",
       "    .dataframe tbody tr th {\n",
       "        vertical-align: top;\n",
       "    }\n",
       "\n",
       "    .dataframe thead th {\n",
       "        text-align: right;\n",
       "    }\n",
       "</style>\n",
       "<table border=\"1\" class=\"dataframe\">\n",
       "  <thead>\n",
       "    <tr style=\"text-align: right;\">\n",
       "      <th></th>\n",
       "      <th>Image</th>\n",
       "      <th>Name</th>\n",
       "      <th>Type</th>\n",
       "      <th>Origin</th>\n",
       "      <th>Heat</th>\n",
       "      <th>Pod size</th>\n",
       "      <th>Description</th>\n",
       "      <th>Species</th>\n",
       "    </tr>\n",
       "  </thead>\n",
       "  <tbody>\n",
       "    <tr>\n",
       "      <th>0</th>\n",
       "      <td>NaN</td>\n",
       "      <td>Aleppo</td>\n",
       "      <td>NaN</td>\n",
       "      <td>Syria and Turkey</td>\n",
       "      <td>15000.0</td>\n",
       "      <td>NaN</td>\n",
       "      <td>Grown in Syria and Turkey and used, in coarsel...</td>\n",
       "      <td>Capsicum annum</td>\n",
       "    </tr>\n",
       "    <tr>\n",
       "      <th>1</th>\n",
       "      <td>NaN</td>\n",
       "      <td>Anaheim</td>\n",
       "      <td>Anaheim</td>\n",
       "      <td>United States</td>\n",
       "      <td>2500.0</td>\n",
       "      <td>15.0</td>\n",
       "      <td>A mild variety of New Mexico chile. It was lat...</td>\n",
       "      <td>Capsicum annum</td>\n",
       "    </tr>\n",
       "    <tr>\n",
       "      <th>2</th>\n",
       "      <td>NaN</td>\n",
       "      <td>Banana</td>\n",
       "      <td>Waxy</td>\n",
       "      <td>NaN</td>\n",
       "      <td>500.0</td>\n",
       "      <td>15.0</td>\n",
       "      <td>Often it is pickled and used as an ingredient ...</td>\n",
       "      <td>Capsicum annum</td>\n",
       "    </tr>\n",
       "    <tr>\n",
       "      <th>3</th>\n",
       "      <td>NaN</td>\n",
       "      <td>Bird's Eye</td>\n",
       "      <td>Small hot</td>\n",
       "      <td>Southeast Asia</td>\n",
       "      <td>100000.0</td>\n",
       "      <td>4.0</td>\n",
       "      <td>A Southeast Asian cultivar known by many local...</td>\n",
       "      <td>Capsicum annum</td>\n",
       "    </tr>\n",
       "    <tr>\n",
       "      <th>4</th>\n",
       "      <td>NaN</td>\n",
       "      <td>Black Hungarian</td>\n",
       "      <td>Ornamental/ Culinary</td>\n",
       "      <td>Hungary</td>\n",
       "      <td>10000.0</td>\n",
       "      <td>7.0</td>\n",
       "      <td>Grows in a conical shape with a slight curve n...</td>\n",
       "      <td>Capsicum annum</td>\n",
       "    </tr>\n",
       "  </tbody>\n",
       "</table>\n",
       "</div>"
      ],
      "text/plain": [
       "   Image             Name                  Type            Origin      Heat  \\\n",
       "0    NaN           Aleppo                   NaN  Syria and Turkey   15000.0   \n",
       "1    NaN          Anaheim               Anaheim     United States    2500.0   \n",
       "2    NaN           Banana                  Waxy               NaN     500.0   \n",
       "3    NaN       Bird's Eye             Small hot    Southeast Asia  100000.0   \n",
       "4    NaN  Black Hungarian  Ornamental/ Culinary           Hungary   10000.0   \n",
       "\n",
       "   Pod size                                        Description         Species  \n",
       "0       NaN  Grown in Syria and Turkey and used, in coarsel...  Capsicum annum  \n",
       "1      15.0  A mild variety of New Mexico chile. It was lat...  Capsicum annum  \n",
       "2      15.0  Often it is pickled and used as an ingredient ...  Capsicum annum  \n",
       "3       4.0  A Southeast Asian cultivar known by many local...  Capsicum annum  \n",
       "4       7.0  Grows in a conical shape with a slight curve n...  Capsicum annum  "
      ]
     },
     "execution_count": 22,
     "metadata": {},
     "output_type": "execute_result"
    }
   ],
   "source": [
    "df.head()"
   ]
  },
  {
   "cell_type": "code",
   "execution_count": 29,
   "metadata": {},
   "outputs": [
    {
     "data": {
      "text/plain": [
       "Image           0\n",
       "Name           65\n",
       "Type           26\n",
       "Origin         37\n",
       "Heat           55\n",
       "Pod size       31\n",
       "Description    56\n",
       "Species        65\n",
       "dtype: int64"
      ]
     },
     "metadata": {},
     "output_type": "display_data"
    },
    {
     "data": {
      "text/plain": [
       "Image          65\n",
       "Name            0\n",
       "Type           39\n",
       "Origin         28\n",
       "Heat           10\n",
       "Pod size       34\n",
       "Description     9\n",
       "Species         0\n",
       "dtype: int64"
      ]
     },
     "metadata": {},
     "output_type": "display_data"
    }
   ],
   "source": [
    "display(df.count())\n",
    "display(df.isna().sum())"
   ]
  },
  {
   "cell_type": "code",
   "execution_count": 24,
   "metadata": {},
   "outputs": [
    {
     "data": {
      "text/plain": [
       "Capsicum annum         39\n",
       "Capsicum chinense      17\n",
       "Capsicum frutescens     4\n",
       "Capsicum baccatum       3\n",
       "Capsicum pubescens      2\n",
       "Name: Species, dtype: int64"
      ]
     },
     "execution_count": 24,
     "metadata": {},
     "output_type": "execute_result"
    }
   ],
   "source": [
    "df['Species'].value_counts()"
   ]
  },
  {
   "cell_type": "code",
   "execution_count": 30,
   "metadata": {},
   "outputs": [
    {
     "data": {
      "text/html": [
       "<div>\n",
       "<style scoped>\n",
       "    .dataframe tbody tr th:only-of-type {\n",
       "        vertical-align: middle;\n",
       "    }\n",
       "\n",
       "    .dataframe tbody tr th {\n",
       "        vertical-align: top;\n",
       "    }\n",
       "\n",
       "    .dataframe thead th {\n",
       "        text-align: right;\n",
       "    }\n",
       "</style>\n",
       "<table border=\"1\" class=\"dataframe\">\n",
       "  <thead>\n",
       "    <tr style=\"text-align: right;\">\n",
       "      <th></th>\n",
       "      <th>Species</th>\n",
       "      <th>Image</th>\n",
       "      <th>Heat</th>\n",
       "      <th>Pod size</th>\n",
       "    </tr>\n",
       "  </thead>\n",
       "  <tbody>\n",
       "    <tr>\n",
       "      <th>0</th>\n",
       "      <td>Capsicum annum</td>\n",
       "      <td>NaN</td>\n",
       "      <td>26419.354839</td>\n",
       "      <td>8.563158</td>\n",
       "    </tr>\n",
       "    <tr>\n",
       "      <th>1</th>\n",
       "      <td>Capsicum baccatum</td>\n",
       "      <td>NaN</td>\n",
       "      <td>27333.333333</td>\n",
       "      <td>4.000000</td>\n",
       "    </tr>\n",
       "    <tr>\n",
       "      <th>2</th>\n",
       "      <td>Capsicum chinense</td>\n",
       "      <td>NaN</td>\n",
       "      <td>855521.875000</td>\n",
       "      <td>5.400000</td>\n",
       "    </tr>\n",
       "    <tr>\n",
       "      <th>3</th>\n",
       "      <td>Capsicum frutescens</td>\n",
       "      <td>NaN</td>\n",
       "      <td>108333.333333</td>\n",
       "      <td>3.000000</td>\n",
       "    </tr>\n",
       "    <tr>\n",
       "      <th>4</th>\n",
       "      <td>Capsicum pubescens</td>\n",
       "      <td>NaN</td>\n",
       "      <td>75000.000000</td>\n",
       "      <td>6.500000</td>\n",
       "    </tr>\n",
       "  </tbody>\n",
       "</table>\n",
       "</div>"
      ],
      "text/plain": [
       "               Species  Image           Heat  Pod size\n",
       "0       Capsicum annum    NaN   26419.354839  8.563158\n",
       "1    Capsicum baccatum    NaN   27333.333333  4.000000\n",
       "2    Capsicum chinense    NaN  855521.875000  5.400000\n",
       "3  Capsicum frutescens    NaN  108333.333333  3.000000\n",
       "4   Capsicum pubescens    NaN   75000.000000  6.500000"
      ]
     },
     "execution_count": 30,
     "metadata": {},
     "output_type": "execute_result"
    }
   ],
   "source": [
    "df_aggregated = df.groupby('Species').mean().reset_index()\n",
    "df_aggregated"
   ]
  },
  {
   "cell_type": "code",
   "execution_count": 35,
   "metadata": {},
   "outputs": [
    {
     "data": {
      "text/plain": [
       "<matplotlib.axes._subplots.AxesSubplot at 0xf75c1d0>"
      ]
     },
     "execution_count": 35,
     "metadata": {},
     "output_type": "execute_result"
    },
    {
     "data": {
      "image/png": "[encoded data removed]",
      "text/plain": [
       "<Figure size 432x288 with 1 Axes>"
      ]
     },
     "metadata": {
      "needs_background": "light"
     },
     "output_type": "display_data"
    }
   ],
   "source": [
    "ax1 = df.plot.scatter(x='Pod size', y='Heat', c='DarkBlue')\n",
    "ax1"
   ]
  },
  {
   "cell_type": "code",
   "execution_count": 44,
   "metadata": {},
   "outputs": [
    {
     "data": {
      "text/plain": [
       "<matplotlib.axes._subplots.AxesSubplot at 0xfa86f90>"
      ]
     },
     "execution_count": 44,
     "metadata": {},
     "output_type": "execute_result"
    },
    {
     "data": {
      "image/png": "[encoded data removed]",
      "text/plain": [
       "<Figure size 576x432 with 1 Axes>"
      ]
     },
     "metadata": {
      "needs_background": "light"
     },
     "output_type": "display_data"
    }
   ],
   "source": [
    "#df.query('Heat < 1400000')\n",
    "ax1 = df.query('Heat<1400000').plot.scatter(x='Pod size',\n",
    "                    y='Heat',\n",
    "                     c='DarkBlue', figsize=(8, 6))\n",
    "ax1"
   ]
  },
  {
   "cell_type": "code",
   "execution_count": 52,
   "metadata": {},
   "outputs": [
    {
     "data": {
      "image/png": "[encoded data removed]",
      "text/plain": [
       "<Figure size 432x288 with 1 Axes>"
      ]
     },
     "metadata": {
      "needs_background": "light"
     },
     "output_type": "display_data"
    }
   ],
   "source": [
    "import seaborn as sns\n",
    "\n",
    "ax = sns.regplot(x=\"Pod size\", y=\"Heat\", data=df.query('Heat < 1400000'))"
   ]
  },
  {
   "cell_type": "code",
   "execution_count": 46,
   "metadata": {},
   "outputs": [],
   "source": [
    "from scipy.stats import pearsonr"
   ]
  },
  {
   "cell_type": "code",
   "execution_count": 47,
   "metadata": {},
   "outputs": [
    {
     "name": "stdout",
     "output_type": "stream",
     "text": [
      "30\n"
     ]
    }
   ],
   "source": [
    "df_full = df[['Heat', 'Pod size']].dropna()\n",
    "df_full = df_full.query('Heat < 1400000')\n",
    "print(len(df_full))\n",
    "# Output: 31"
   ]
  },
  {
   "cell_type": "code",
   "execution_count": 48,
   "metadata": {},
   "outputs": [
    {
     "name": "stdout",
     "output_type": "stream",
     "text": [
      "[-0.36, 0.05]\n"
     ]
    }
   ],
   "source": [
    "corr = pearsonr(df_full['Heat'], df_full['Pod size'])\n",
    "corr = [np.round(c, 2) for c in corr]\n",
    "print(corr)\n",
    "# Output: [-0.37, 0.04]"
   ]
  },
  {
   "cell_type": "code",
   "execution_count": 53,
   "metadata": {},
   "outputs": [
    {
     "data": {
      "text/plain": [
       "[Text(0, 0.5, 'Scoville Heat Units (SHU)'), Text(0.5, 0, 'Pod size (cm)')]"
      ]
     },
     "execution_count": 53,
     "metadata": {},
     "output_type": "execute_result"
    },
    {
     "data": {
      "image/png": "[encoded data removed]",
      "text/plain": [
       "<Figure size 432x288 with 1 Axes>"
      ]
     },
     "metadata": {
      "needs_background": "light"
     },
     "output_type": "display_data"
    }
   ],
   "source": [
    "text = 'r=%s, p=%s' % (corr[0], corr[1])\n",
    "ax = sns.regplot(x=\"Pod size\", y=\"Heat\", data=df_full)\n",
    "ax.text(10, 300000, text, fontsize=12)\n",
    "ax.set_title('Capsicum')\n",
    "ax.set(xlabel='Pod size (cm)', ylabel='Scoville Heat Units (SHU)')"
   ]
  },
  {
   "cell_type": "code",
   "execution_count": 55,
   "metadata": {},
   "outputs": [
    {
     "data": {
      "text/plain": [
       "<matplotlib.axes._subplots.AxesSubplot at 0x10f183d0>"
      ]
     },
     "execution_count": 55,
     "metadata": {},
     "output_type": "execute_result"
    },
    {
     "data": {
      "image/png": "[encoded data removed]",
      "text/plain": [
       "<Figure size 432x288 with 1 Axes>"
      ]
     },
     "metadata": {
      "needs_background": "light"
     },
     "output_type": "display_data"
    }
   ],
   "source": [
    "df_aggregated = df.groupby('Species').mean().reset_index()\n",
    "df_aggregated.plot.bar(x='Species', y='Heat')"
   ]
  },
  {
   "cell_type": "code",
   "execution_count": 58,
   "metadata": {},
   "outputs": [
    {
     "data": {
      "text/plain": [
       "<seaborn.axisgrid.FacetGrid at 0x1555bb0>"
      ]
     },
     "execution_count": 58,
     "metadata": {},
     "output_type": "execute_result"
    },
    {
     "data": {
      "image/png": "[encoded data removed]",
      "text/plain": [
       "<Figure size 360x360 with 1 Axes>"
      ]
     },
     "metadata": {
      "needs_background": "light"
     },
     "output_type": "display_data"
    }
   ],
   "source": [
    "ax = sns.catplot(x='Species', y='Heat', data=df)\n",
    "ax.set(xlabel='Capsicum Species', ylabel='Scoville Heat Units (SHU)')\n",
    "ax.set_xticklabels(rotation=70)"
   ]
  },
  {
   "cell_type": "code",
   "execution_count": null,
   "metadata": {},
   "outputs": [],
   "source": []
  },
  {
   "cell_type": "code",
   "execution_count": null,
   "metadata": {},
   "outputs": [],
   "source": []
  }
 ],
 "metadata": {
  "kernelspec": {
   "display_name": "Python 3",
   "language": "python",
   "name": "python3"
  },
  "language_info": {
   "codemirror_mode": {
    "name": "ipython",
    "version": 3
   },
   "file_extension": ".py",
   "mimetype": "text/x-python",
   "name": "python",
   "nbconvert_exporter": "python",
   "pygments_lexer": "ipython3",
   "version": "3.7.3"
  }
 },
 "nbformat": 4,
 "nbformat_minor": 2
}
