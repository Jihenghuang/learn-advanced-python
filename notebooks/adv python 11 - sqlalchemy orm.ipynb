{
 "cells": [
  {
   "cell_type": "markdown",
   "metadata": {},
   "source": [
    "# SQLAlchemy\n",
    "> SQLAlchemy is the Python SQL toolkit and Object Relational Mapper that gives application developers the full power and flexibility of SQL."
   ]
  },
  {
   "cell_type": "markdown",
   "metadata": {},
   "source": [
    "## Create a new database from scratch\n",
    "Lets create a new database from scratch. we will\n",
    "1. Create classes to define a schema\n",
    "2. Map the scheme to a database\n",
    "3. add objects to the database\n",
    "4. run queries\n",
    "\n",
    "> NOTE: we will use an in-memory database, but running with a file based one or a remote database would be just as easy"
   ]
  },
  {
   "cell_type": "markdown",
   "metadata": {},
   "source": [
    "### 1. Create a database session"
   ]
  },
  {
   "cell_type": "code",
   "execution_count": 15,
   "metadata": {},
   "outputs": [],
   "source": [
    "from sqlalchemy import create_engine, MetaData\n",
    "#engine = create_engine('sqlite:///example.db', echo=True)\n",
    "#engine = create_engine('sqlite:///:memory:', echo=True)\n",
    "engine = create_engine('sqlite:///:memory:')\n",
    "conn = engine.connect()\n",
    "\n",
    "from sqlalchemy.orm import sessionmaker\n",
    "Session = sessionmaker(bind=engine)\n",
    "session = Session()"
   ]
  },
  {
   "cell_type": "markdown",
   "metadata": {},
   "source": [
    "### 2. Helper functions to print SQL queries and SQL results "
   ]
  },
  {
   "cell_type": "code",
   "execution_count": 16,
   "metadata": {},
   "outputs": [],
   "source": [
    "from IPython.display import display\n",
    "import pandas as pd\n",
    "import sqlalchemy\n",
    "\n",
    "def sql(query):\n",
    "    print()\n",
    "    print(query)\n",
    "    print()\n",
    "\n",
    "def get_results(query):\n",
    "    global engine\n",
    "    q = query.statement if isinstance(query, sqlalchemy.orm.query.Query) else query\n",
    "    return pd.read_sql(q, engine)\n",
    "\n",
    "def display_results(query):\n",
    "    df = get_results(query)\n",
    "    display(df)\n",
    "    #sql(query)"
   ]
  },
  {
   "cell_type": "markdown",
   "metadata": {},
   "source": [
    "### 3.  creating a schema base"
   ]
  },
  {
   "cell_type": "code",
   "execution_count": 17,
   "metadata": {},
   "outputs": [],
   "source": [
    "from sqlalchemy.ext.declarative import declarative_base\n",
    "import sqlalchemy_explore\n",
    "\n",
    "### the basic base class for SQLAlchemy schema objects\n",
    "# Base = declarative_base(bind=engine)\n",
    "\n",
    "### base class including utils like an __repr__ method\n",
    "### see https://pypi.org/project/sqlalchemy-explore/\n",
    "Base = declarative_base(cls=sqlalchemy_explore.ReflectiveMixin)"
   ]
  },
  {
   "cell_type": "markdown",
   "metadata": {},
   "source": [
    "### 4. Create the schema"
   ]
  },
  {
   "cell_type": "code",
   "execution_count": 18,
   "metadata": {},
   "outputs": [],
   "source": [
    "from sqlalchemy import Column, DateTime, ForeignKey, Integer, NVARCHAR, Numeric, Sequence\n",
    "from sqlalchemy.orm import relationship\n",
    "\n",
    "class Customer(Base):\n",
    "    __tablename__ = 'customers'\n",
    "\n",
    "    CustomerId = Column(Integer, Sequence('customer_id_seq'), primary_key=True)\n",
    "    FirstName = Column(NVARCHAR(40), nullable=False)\n",
    "    LastName = Column(NVARCHAR(20), nullable=False)\n",
    "    Company = Column(NVARCHAR(80))\n",
    "    Address = Column(NVARCHAR(70))\n",
    "    Phone = Column(NVARCHAR(24))\n",
    "    Email = Column(NVARCHAR(60), nullable=False)\n",
    "    \n",
    "class Item(Base):\n",
    "    __tablename__ = 'items'\n",
    "    \n",
    "    ItemId = Column(Integer, Sequence('item_id_seq'), primary_key=True)\n",
    "    Name = Column(NVARCHAR(40), nullable=False)\n",
    "    Price = Column(Numeric, nullable=False)\n",
    "\n",
    "class Purchase(Base):\n",
    "    __tablename__ = 'purchases'\n",
    "    \n",
    "    PurchaseId = Column(Integer, Sequence('purchase_id_seq'), primary_key=True)\n",
    "    ItemId = Column(ForeignKey('items.ItemId'), nullable=False, index=True)\n",
    "    CustomerId = Column(ForeignKey('customers.CustomerId'), nullable=False, index=True)\n",
    "    Date = Column(DateTime, nullable=False)\n",
    "    \n",
    "    item = relationship('Item')\n",
    "    customer = relationship('Customer')"
   ]
  },
  {
   "cell_type": "markdown",
   "metadata": {},
   "source": [
    "### 5. Create tables in the database to conform with the schema"
   ]
  },
  {
   "cell_type": "code",
   "execution_count": 19,
   "metadata": {},
   "outputs": [],
   "source": [
    "Base.metadata.create_all(engine)"
   ]
  },
  {
   "cell_type": "markdown",
   "metadata": {},
   "source": [
    "### 6. Create a customer"
   ]
  },
  {
   "cell_type": "code",
   "execution_count": 20,
   "metadata": {},
   "outputs": [],
   "source": [
    "moshe = Customer(\n",
    "    FirstName='Moshe', \n",
    "    LastName='Cohen', \n",
    "    Address='Alenbi 99, Tel Aviv', \n",
    "    Phone=\"053-5556789\", \n",
    "    Email='moshe@cohen.com')\n",
    "\n",
    "session.add(moshe)\n",
    "session.commit()"
   ]
  },
  {
   "cell_type": "markdown",
   "metadata": {},
   "source": [
    "### 7. run queries"
   ]
  },
  {
   "cell_type": "markdown",
   "metadata": {},
   "source": [
    "#### Using SQLAlchemy expression language"
   ]
  },
  {
   "cell_type": "code",
   "execution_count": 21,
   "metadata": {},
   "outputs": [
    {
     "name": "stdout",
     "output_type": "stream",
     "text": [
      "\n",
      "(1, 'Moshe', 'Cohen', None, 'Alenbi 99, Tel Aviv', '053-5556789', 'moshe@cohen.com')\n",
      "\n",
      "<class 'sqlalchemy.engine.result.RowProxy'>\n"
     ]
    }
   ],
   "source": [
    "from sqlalchemy import select \n",
    "\n",
    "customers_query = select([Customer])\n",
    "results = conn.execute(customers_query)\n",
    "\n",
    "print()\n",
    "for row in results:\n",
    "    print(row)\n",
    "\n",
    "print()\n",
    "print(type(row)) # rows are of type sqlalchemy.engine.result.RowProxy"
   ]
  },
  {
   "cell_type": "markdown",
   "metadata": {},
   "source": [
    "> Our handy `display_results` function uses `pandas` library to display the results as a table"
   ]
  },
  {
   "cell_type": "code",
   "execution_count": 22,
   "metadata": {},
   "outputs": [
    {
     "data": {
      "text/html": [
       "<div>\n",
       "<style scoped>\n",
       "    .dataframe tbody tr th:only-of-type {\n",
       "        vertical-align: middle;\n",
       "    }\n",
       "\n",
       "    .dataframe tbody tr th {\n",
       "        vertical-align: top;\n",
       "    }\n",
       "\n",
       "    .dataframe thead th {\n",
       "        text-align: right;\n",
       "    }\n",
       "</style>\n",
       "<table border=\"1\" class=\"dataframe\">\n",
       "  <thead>\n",
       "    <tr style=\"text-align: right;\">\n",
       "      <th></th>\n",
       "      <th>CustomerId</th>\n",
       "      <th>FirstName</th>\n",
       "      <th>LastName</th>\n",
       "      <th>Company</th>\n",
       "      <th>Address</th>\n",
       "      <th>Phone</th>\n",
       "      <th>Email</th>\n",
       "    </tr>\n",
       "  </thead>\n",
       "  <tbody>\n",
       "    <tr>\n",
       "      <th>0</th>\n",
       "      <td>1</td>\n",
       "      <td>Moshe</td>\n",
       "      <td>Cohen</td>\n",
       "      <td>None</td>\n",
       "      <td>Alenbi 99, Tel Aviv</td>\n",
       "      <td>053-5556789</td>\n",
       "      <td>moshe@cohen.com</td>\n",
       "    </tr>\n",
       "  </tbody>\n",
       "</table>\n",
       "</div>"
      ],
      "text/plain": [
       "   CustomerId FirstName LastName Company              Address        Phone  \\\n",
       "0           1     Moshe    Cohen    None  Alenbi 99, Tel Aviv  053-5556789   \n",
       "\n",
       "             Email  \n",
       "0  moshe@cohen.com  "
      ]
     },
     "metadata": {},
     "output_type": "display_data"
    }
   ],
   "source": [
    "display_results(customers_query)"
   ]
  },
  {
   "cell_type": "markdown",
   "metadata": {},
   "source": [
    "#### Using SQLAlchemy ORM Object Relation Manager"
   ]
  },
  {
   "cell_type": "code",
   "execution_count": 23,
   "metadata": {
    "scrolled": true
   },
   "outputs": [
    {
     "name": "stdout",
     "output_type": "stream",
     "text": [
      "\n",
      "Customer(CustomerId=1, FirstName='Moshe', LastName='Cohen', Company=None, Address='Alenbi 99, Tel Aviv', Phone='053-5556789', Email='moshe@cohen.com')\n",
      "\n",
      "<class '__main__.Customer'>\n"
     ]
    }
   ],
   "source": [
    "results = session.query(Customer)\n",
    "\n",
    "print()\n",
    "for customer in results:\n",
    "    print(customer)\n",
    "    \n",
    "print()\n",
    "print(type(customer))"
   ]
  },
  {
   "cell_type": "code",
   "execution_count": null,
   "metadata": {},
   "outputs": [],
   "source": []
  },
  {
   "cell_type": "code",
   "execution_count": null,
   "metadata": {},
   "outputs": [],
   "source": []
  }
 ],
 "metadata": {
  "kernelspec": {
   "display_name": "Python 3",
   "language": "python",
   "name": "python3"
  },
  "language_info": {
   "codemirror_mode": {
    "name": "ipython",
    "version": 3
   },
   "file_extension": ".py",
   "mimetype": "text/x-python",
   "name": "python",
   "nbconvert_exporter": "python",
   "pygments_lexer": "ipython3",
   "version": "3.7.4"
  }
 },
 "nbformat": 4,
 "nbformat_minor": 2
}
