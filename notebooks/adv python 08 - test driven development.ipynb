{
 "cells": [
  {
   "cell_type": "markdown",
   "metadata": {},
   "source": [
    "install ipytest so we can run tests in the jupyter notebook"
   ]
  },
  {
   "cell_type": "code",
   "execution_count": 38,
   "metadata": {},
   "outputs": [
    {
     "name": "stdout",
     "output_type": "stream",
     "text": [
      "Note: you may need to restart the kernel to use updated packages.\n"
     ]
    },
    {
     "name": "stderr",
     "output_type": "stream",
     "text": [
      "You are using pip version 19.0.3, however version 19.1.1 is available.\n",
      "You should consider upgrading via the 'python -m pip install --upgrade pip' command.\n"
     ]
    }
   ],
   "source": [
    "pip -q install ipytest pytest  "
   ]
  },
  {
   "cell_type": "markdown",
   "metadata": {},
   "source": [
    "initialize pytest"
   ]
  },
  {
   "cell_type": "code",
   "execution_count": 26,
   "metadata": {},
   "outputs": [],
   "source": [
    "import pytest\n",
    "import ipytest\n",
    "import unittest.mock as mock \n",
    "\n",
    "# enable pytest's assertions and ipytest's magics\n",
    "ipytest.config(rewrite_asserts=True, magics=True)\n",
    "\n",
    "# set the filename\n",
    "__file__ = 'adv python 08 - test driven development.ipynb'"
   ]
  },
  {
   "cell_type": "code",
   "execution_count": 20,
   "metadata": {},
   "outputs": [],
   "source": [
    "class Person:\n",
    "    def __init__(self, name):\n",
    "        self.name = name\n",
    "    def __repr__(self):\n",
    "        return f\"{type(self).__name__}({self.name!r})\"\n",
    "    def walk(self):\n",
    "        print(self.name, 'walking')\n",
    "    def run(self):\n",
    "        print(self.name,'running')\n",
    "    def swim(self):\n",
    "        print(self.name,'swimming')\n",
    "        \n",
    "class OlympicRunner(Person):\n",
    "    def run(self):\n",
    "        print(self.name,self.name,\"running incredibly fast!\")\n",
    "        \n",
    "    def show_medals(self):\n",
    "        print(self.name, 'showing my olympic medals')\n",
    "    \n",
    "def train(person):\n",
    "    person.walk()\n",
    "    person.swim()\n",
    "    person.run()"
   ]
  },
  {
   "cell_type": "code",
   "execution_count": 43,
   "metadata": {},
   "outputs": [],
   "source": [
    "@pytest.fixture\n",
    "def person():\n",
    "    return Person('terry gilliam')\n",
    "\n",
    "def test_person_repr():\n",
    "    assert str(Person('terry gilliam')) == f\"Person('terry gilliam')\"\n",
    "    \n",
    "def test_train(person):\n",
    "    # this makes sure no other method is called\n",
    "    person = mock.create_autospec(person)\n",
    "    \n",
    "    train(person)\n",
    "    person.walk.assert_called_once()\n",
    "    person.run.assert_called_once()\n",
    "    person.swim.assert_called_once()"
   ]
  },
  {
   "cell_type": "code",
   "execution_count": 44,
   "metadata": {},
   "outputs": [
    {
     "name": "stdout",
     "output_type": "stream",
     "text": [
      "...                                                                      [100%]\n"
     ]
    }
   ],
   "source": [
    "# execute the tests via pytest, arguments are passed to pytest\n",
    "ipytest.run('-qq')"
   ]
  },
  {
   "cell_type": "code",
   "execution_count": null,
   "metadata": {},
   "outputs": [],
   "source": []
  }
 ],
 "metadata": {
  "kernelspec": {
   "display_name": "Python 3",
   "language": "python",
   "name": "python3"
  },
  "language_info": {
   "codemirror_mode": {
    "name": "ipython",
    "version": 3
   },
   "file_extension": ".py",
   "mimetype": "text/x-python",
   "name": "python",
   "nbconvert_exporter": "python",
   "pygments_lexer": "ipython3",
   "version": "3.7.3"
  }
 },
 "nbformat": 4,
 "nbformat_minor": 2
}
