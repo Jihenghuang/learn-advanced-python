{
 "cells": [
  {
   "cell_type": "markdown",
   "metadata": {},
   "source": [
    "# `__setattr__`\n",
    "\n",
    "here's a trivial person class\n",
    "```\n",
    "class Person:\n",
    "    def __init__(self, name, age):\n",
    "        self.name = name\n",
    "        self.age = age\n",
    "```\n",
    "\n",
    "notice that you can add any attribute to an instance of person\n",
    "```\n",
    "terry = Person('Terry Gilliam', 78)\n",
    "terry.new_attribute = 'lets make sure this fails'\n",
    "print(terry.new_attribute) # 'lets make sure this fails'\n",
    "```\n",
    "\n",
    "can you modify `class Person` so that it disallows adding any new attributes beyond `.name` and `.age`?\n",
    "> hint: add a `__setattr__(self, name, value)` function to Person\n",
    "\n",
    "the following code should succeed:\n",
    "\n",
    "```\n",
    "terry = Person('Terry Gilliam', 78)        \n",
    "terry.age = terry.age + 1\n",
    "print(terry.age) # 79\n",
    "\n",
    "ok = False\n",
    "try:\n",
    "    terry.new_attribute = 'lets make sure this fails'\n",
    "except:\n",
    "    ok = True\n",
    "    print('good')\n",
    "\n",
    "assert ok\n",
    "```"
   ]
  },
  {
   "cell_type": "code",
   "execution_count": 37,
   "metadata": {},
   "outputs": [
    {
     "name": "stdout",
     "output_type": "stream",
     "text": [
      "79\n",
      "good\n"
     ]
    }
   ],
   "source": [
    "# solution 2\n",
    "class Person:\n",
    "    BLOCK_MORE_ATTRIBUTES = '__block_more_attributes'\n",
    "    def __setattr__(self, name, value):\n",
    "        if getattr(self, Person.BLOCK_MORE_ATTRIBUTES, False):\n",
    "            # check the attribute already exists, raise otherwise\n",
    "            getattr(self, name) \n",
    "        \n",
    "        # if we got here, the attribute already exists, or we're not blocking\n",
    "        super().__setattr__(name, value)\n",
    "        \n",
    "    def __init__(self, name, age):\n",
    "        self.name = name\n",
    "        self.age = age\n",
    "        \n",
    "        # tell our instance's __setattr_ attribute to start blocking\n",
    "        setattr(self, Person.BLOCK_MORE_ATTRIBUTES, True)\n",
    "        \n",
    "terry = Person('Terry Gilliam', 78)        \n",
    "terry.age = terry.age + 1\n",
    "print(terry.age) # 79\n",
    "\n",
    "ok = False\n",
    "try:\n",
    "    terry.new_attribute = 'lets make sure this fails'\n",
    "except:\n",
    "    ok = True\n",
    "    print('good')\n",
    "\n",
    "assert ok"
   ]
  },
  {
   "cell_type": "code",
   "execution_count": null,
   "metadata": {},
   "outputs": [],
   "source": []
  }
 ],
 "metadata": {
  "kernelspec": {
   "display_name": "Python 3",
   "language": "python",
   "name": "python3"
  },
  "language_info": {
   "codemirror_mode": {
    "name": "ipython",
    "version": 3
   },
   "file_extension": ".py",
   "mimetype": "text/x-python",
   "name": "python",
   "nbconvert_exporter": "python",
   "pygments_lexer": "ipython3",
   "version": "3.7.3"
  }
 },
 "nbformat": 4,
 "nbformat_minor": 2
}
