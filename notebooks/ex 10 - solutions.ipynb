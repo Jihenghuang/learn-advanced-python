{
 "cells": [
  {
   "cell_type": "markdown",
   "metadata": {},
   "source": [
    "# using new modules without polluting your system\n",
    "\n",
    "in this exercize we're going to use `pipenv` to try out some new modules without polluting your environment"
   ]
  },
  {
   "cell_type": "markdown",
   "metadata": {},
   "source": [
    "## start a new project called cute-python\n",
    "\n",
    "make a new folder called cute-python"
   ]
  },
  {
   "cell_type": "code",
   "execution_count": 11,
   "metadata": {},
   "outputs": [
    {
     "data": {
      "text/plain": [
       "'C:\\\\Users\\\\aviad\\\\Documents\\\\GitHub\\\\learn-advanced-python\\\\notebooks\\\\cute-python'"
      ]
     },
     "execution_count": 11,
     "metadata": {},
     "output_type": "execute_result"
    }
   ],
   "source": [
    "import os\n",
    "if not os.path.exists('cute-python'):\n",
    "    os.mkdir('cute-python')\n",
    "os.chdir('cute-python')\n",
    "os.path.realpath('.')"
   ]
  },
  {
   "cell_type": "markdown",
   "metadata": {},
   "source": [
    "## function that downloads image from web\n",
    "\n",
    "> remember to use `pipenv` for this step\n",
    "\n",
    "we want to download a particular image from the web:\n",
    "```https://www.clipartmax.com/middle/m2i8N4G6H7Z5m2m2_ball-python-clipart-cartoon-ball-python-cute/```\n",
    "\n",
    "why not use an awesome library to perform our HTTP download for us?\n",
    "lets see if this library is indeed so awesome without affecting our whole system.\n",
    "\n",
    "1. use `pipenv` to install the `requests` library for the `cute-python` project\n",
    "2. use the [requests](https://2.python-requests.org/en/master/) library to write a function that downloads the image file mentioned above"
   ]
  },
  {
   "cell_type": "code",
   "execution_count": 1,
   "metadata": {},
   "outputs": [
    {
     "data": {
      "text/plain": [
       "'\\npipenv install requests\\n'"
      ]
     },
     "execution_count": 1,
     "metadata": {},
     "output_type": "execute_result"
    }
   ],
   "source": [
    "# run this in the shell:\n",
    "\"\"\"\n",
    ">> pipenv install requests\n",
    "\"\"\""
   ]
  },
  {
   "cell_type": "code",
   "execution_count": 13,
   "metadata": {},
   "outputs": [],
   "source": [
    "code = \"\"\"\n",
    "import requests\n",
    "def download():\n",
    "    url = 'https://www.clipartmax.com/middle/m2i8N4G6H7Z5m2m2_ball-python-clipart-cartoon-ball-python-cute/'\n",
    "    with open('cute-python.png', 'wb') as file:\n",
    "        r = requests.get(url, allow_redirects=True)\n",
    "        file.write(r.content)\n",
    "\n",
    "if __name__ == '__main__':\n",
    "    download()\n",
    "\"\"\"\n",
    "with open('download.py', 'w') as codefile:\n",
    "    codefile.write(code)\n"
   ]
  },
  {
   "cell_type": "code",
   "execution_count": null,
   "metadata": {},
   "outputs": [],
   "source": [
    "# run this in the shell\n",
    "\"\"\"\n",
    ">> pipenv shell\n",
    "(cute-python) >> python download.py\n",
    "\"\"\""
   ]
  }
 ],
 "metadata": {
  "kernelspec": {
   "display_name": "Python 3",
   "language": "python",
   "name": "python3"
  },
  "language_info": {
   "codemirror_mode": {
    "name": "ipython",
    "version": 3
   },
   "file_extension": ".py",
   "mimetype": "text/x-python",
   "name": "python",
   "nbconvert_exporter": "python",
   "pygments_lexer": "ipython3",
   "version": "3.7.3"
  }
 },
 "nbformat": 4,
 "nbformat_minor": 2
}
