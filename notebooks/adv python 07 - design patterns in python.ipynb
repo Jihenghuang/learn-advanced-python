{
 "cells": [
  {
   "cell_type": "code",
   "execution_count": 1,
   "metadata": {},
   "outputs": [],
   "source": [
    "class Person:\n",
    "    def __init__(self, name):\n",
    "        self.name = name\n",
    "    def __repr__(self):\n",
    "        return f\"{type(self).__name__}({self.name!r})\"\n",
    "    def walk(self):\n",
    "        print(self.name, 'walking')\n",
    "    def run(self):\n",
    "        print(self.name,'running')\n",
    "    def swim(self):\n",
    "        print(self.name,'swimming')\n",
    "        \n",
    "class OlympicRunner(Person):\n",
    "    def run(self):\n",
    "        print(self.name,self.name,\"running incredibly fast!\")\n",
    "        \n",
    "    def show_medals(self):\n",
    "        print(self.name, 'showing my olympic medals')\n",
    "    \n",
    "def train(person):\n",
    "    person.walk()\n",
    "    person.swim()\n",
    "    person.run()\n",
    "    \n",
    "terry = Person('Terry Gilliam')\n",
    "graham = Person('Graham Chapman')\n",
    "usainbolt = OlympicRunner('Usain Bolt')"
   ]
  },
  {
   "cell_type": "markdown",
   "metadata": {},
   "source": [
    "## Proxy \n",
    "See definition of the proxy pattern at [wikipedia](https://en.wikipedia.org/wiki/Proxy_pattern#Python)\n",
    "\n",
    "![UML Diagram](https://upload.wikimedia.org/wikipedia/commons/6/6e/W3sDesign_Proxy_Design_Pattern_UML.jpg)\n",
    "\n",
    "### What problems can the Proxy design pattern solve?\n",
    "* The access to an object should be controlled.\n",
    "* Additional functionality should be provided when accessing an object.\n",
    "\n",
    "### Possible usage scenarios\n",
    "* **Remote proxy** - In distributed object communication, a local object represents a remote object that resides in a different process or machine\n",
    "\n",
    "* **Virtual/Lazy proxy** - In place of a complex or heavy object, a proxy that loads the actual information on demand\n",
    "\n",
    "* **Protection proxy** - A protection proxy might be used to control access to a resource based on access rights.\n",
    "\n",
    "### Python example\n",
    "We show a completely dynamic implementation of a proxy, that has no knowledge about the object it is proxiying"
   ]
  },
  {
   "cell_type": "code",
   "execution_count": 2,
   "metadata": {},
   "outputs": [
    {
     "name": "stdout",
     "output_type": "stream",
     "text": [
      "accessing OlympicRunner('Usain Bolt').name\n",
      "accessing OlympicRunner('Usain Bolt').run\n",
      "calling OlympicRunner('Usain Bolt').run() with args:() and kwargs:{}\n",
      "Usain Bolt Usain Bolt running incredibly fast!\n"
     ]
    }
   ],
   "source": [
    "import inspect\n",
    "class ProxyExample:\n",
    "    \"\"\"\n",
    "    show that we can discover and act upon any call to proxied object functions, \n",
    "    or any access to proxied object attributes\n",
    "    \"\"\"\n",
    "    \n",
    "    def __init__(self, obj):\n",
    "        self.obj = obj\n",
    "        \n",
    "    def __getattr__(self, name):\n",
    "        obj = self.obj\n",
    "        attr = getattr(obj, name)\n",
    "        print(f'accessing {obj}.{name}')\n",
    "        \n",
    "        if inspect.isfunction(attr) or inspect.ismethod(attr):\n",
    "            def callable_proxy(*args, **kwargs):\n",
    "                print(f'calling {obj}.{name}() with args:{args} and kwargs:{kwargs}')\n",
    "                result = attr(*args, **kwargs)\n",
    "                return result\n",
    "            \n",
    "            return callable_proxy\n",
    "        else:\n",
    "            return attr\n",
    "            \n",
    "# make a proxy to usain bolt       \n",
    "usain_proxy = ProxyExample(usainbolt)\n",
    "\n",
    "# now every action taken is logged\n",
    "usain_proxy.name\n",
    "usain_proxy.run()    "
   ]
  },
  {
   "cell_type": "markdown",
   "metadata": {},
   "source": [
    "# Composition\n",
    "\n",
    "Sometimes we want to model 'has-a' relationship instead of an 'is-a' relations.\n",
    "for instance, we can say a person has (or composes) arms, legs, a face, a head and eyes.\n",
    "\n",
    "the composition patterns allows the composing object to behave as if all the abilities of the composed object \n",
    "lets see an example. the 'magic' of how this works is available in the `composition.py` module in this repository"
   ]
  },
  {
   "cell_type": "code",
   "execution_count": 14,
   "metadata": {},
   "outputs": [
    {
     "name": "stdout",
     "output_type": "stream",
     "text": [
      "I raised my arms\n",
      "I raised my legs\n",
      "I shook my head\n",
      "I smiled\n",
      "I closed my eyes\n"
     ]
    }
   ],
   "source": [
    "# import a local module named composition that holds all the magic\n",
    "from composition import Composition\n",
    "\n",
    "class Arms:\n",
    "    def up(self):\n",
    "        print(\"I raised my arms\")\n",
    "\n",
    "class Legs:\n",
    "    def up(self):\n",
    "        print(\"I raised my legs\")\n",
    "\n",
    "class Eyes:\n",
    "    def close(self):\n",
    "        print(\"I closed my eyes\")\n",
    "\n",
    "class Face:\n",
    "    def __init__(self):\n",
    "        Composition.compose(self, Eyes())\n",
    "        \n",
    "    def smile(self):\n",
    "        print('I smiled')\n",
    "        \n",
    "    def __getattr__(self, arg):\n",
    "        return Composition.get_composed_attr(self, arg, super())        \n",
    "    \n",
    "class Head:\n",
    "    def __init__(self):\n",
    "        Composition.compose(self, Face())\n",
    "\n",
    "    def balance(self):\n",
    "        print(\"I shook my head\")\n",
    "    \n",
    "    def __getattr__(self, arg):\n",
    "        return Composition.get_composed_attr(self, arg, super())\n",
    "                \n",
    "class Person:\n",
    "    \n",
    "    def __init__(self):\n",
    "        Composition.compose(self, Arms())\n",
    "        Composition.compose(self, Legs())\n",
    "        Composition.compose(self, Head())        \n",
    "\n",
    "    def __getattr__(self, arg):\n",
    "        return Composition.get_composed_attr(self, arg, super())\n",
    "\n",
    "person = Person()\n",
    "person.up_arms() # # calls person.arms.up()\n",
    "person.up_legs() # calls person.legs.up()\n",
    "person.balance_head() # calls person.head.balance()\n",
    "person.smile_face() # calls person.head.face.smile()\n",
    "person.close_eyes() # calls person.head.face.eyes.close()\n"
   ]
  },
  {
   "cell_type": "code",
   "execution_count": null,
   "metadata": {},
   "outputs": [],
   "source": [
    "vars"
   ]
  },
  {
   "cell_type": "code",
   "execution_count": null,
   "metadata": {},
   "outputs": [],
   "source": [
    "help(vars)"
   ]
  },
  {
   "cell_type": "code",
   "execution_count": null,
   "metadata": {},
   "outputs": [],
   "source": []
  },
  {
   "cell_type": "code",
   "execution_count": null,
   "metadata": {},
   "outputs": [],
   "source": []
  }
 ],
 "metadata": {
  "kernelspec": {
   "display_name": "Python 3",
   "language": "python",
   "name": "python3"
  },
  "language_info": {
   "codemirror_mode": {
    "name": "ipython",
    "version": 3
   },
   "file_extension": ".py",
   "mimetype": "text/x-python",
   "name": "python",
   "nbconvert_exporter": "python",
   "pygments_lexer": "ipython3",
   "version": "3.7.3"
  }
 },
 "nbformat": 4,
 "nbformat_minor": 2
}
