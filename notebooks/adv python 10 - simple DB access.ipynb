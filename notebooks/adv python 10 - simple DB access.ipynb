{
 "cells": [
  {
   "cell_type": "markdown",
   "metadata": {},
   "source": [
    "# sqlite\n",
    "SQLite is an open-source library that provides a lightweight **disk-based** database.\n",
    "\n",
    "> 1. sqlite it  doesn’t require a separate server process\n",
    "> 2. allows accessing the database using a nonstandard variant of the SQL query language. \n",
    "> 3. provides a SQL interface compliant with the python's DB-API 2.0 specification described by [PEP 249][1].\n",
    "\n",
    "applications can use SQLite for internal data storage. It’s also possible to prototype an application using SQLite and then port the code to a larger database such as PostgreSQL or Oracle.\n",
    "\n",
    "[1]: https://www.python.org/dev/peps/pep-0249"
   ]
  },
  {
   "cell_type": "markdown",
   "metadata": {},
   "source": [
    "To use the module, you must first create a `Connection` object that represents the database.\n",
    "\n",
    "a connection object's key methods are:\n",
    "1. `cursor()`\n",
    "    returns a cursor object that can execute queries and retrieve results\n",
    "\n",
    "2. `commit()`\n",
    "    submits the current transaction to the DB. If you don’t call this method, anything you did since the last call to commit() is not visible from other database connections. If you wonder why you don’t see the data you’ve written to the database, please check you didn’t forget to call this method.\n",
    "\n",
    "3. `rollback()`\n",
    "    rolls back any changes to the database since the last call to commit().\n",
    "\n",
    "4. `close()`\n",
    "    closes the database connection. Note that this does not automatically call commit(). If you just close your database connection without calling commit() first, your changes will be lost!\n",
    "\n",
    "in our example the data will be stored in a local file called `example.db`:\n"
   ]
  },
  {
   "cell_type": "code",
   "execution_count": 23,
   "metadata": {},
   "outputs": [],
   "source": [
    "import sqlite3\n",
    "conn = sqlite3.connect('example.db')"
   ]
  },
  {
   "cell_type": "markdown",
   "metadata": {},
   "source": [
    "> You can also supply the special name `:memory:` to create a database in RAM.\n",
    "\n",
    "Once you have a Connection, you can create a `Cursor` object and call its `execute()` method to perform SQL commands:"
   ]
  },
  {
   "cell_type": "code",
   "execution_count": 24,
   "metadata": {},
   "outputs": [],
   "source": [
    "c = conn.cursor()\n",
    "\n",
    "# Create table called stocks\n",
    "c.execute('''\n",
    "    CREATE TABLE stocks (\n",
    "        date text, \n",
    "        trans text, \n",
    "        symbol text, \n",
    "        qty real, \n",
    "        price real\n",
    "        )\n",
    "    ''')\n",
    "\n",
    "# Save (commit) the changes\n",
    "conn.commit()"
   ]
  },
  {
   "cell_type": "code",
   "execution_count": 25,
   "metadata": {},
   "outputs": [],
   "source": [
    "# We can also close the connection if we are done with it.\n",
    "# Just be sure any changes have been committed or they will be lost.\n",
    "conn.close()"
   ]
  },
  {
   "cell_type": "markdown",
   "metadata": {},
   "source": [
    "since we don't want to forget closing the connection, here's a nice utility function\n",
    "that opens a connection and returns a handy cursor object"
   ]
  },
  {
   "cell_type": "code",
   "execution_count": 4,
   "metadata": {},
   "outputs": [],
   "source": [
    "from contextlib import contextmanager\n",
    "\n",
    "@contextmanager\n",
    "def sqlite3_connect(database, *args, **kwargs):\n",
    "    conn = sqlite3.connect(database, *args, **kwargs)\n",
    "    try:\n",
    "        cursor = conn.cursor()\n",
    "        yield (conn, cursor)\n",
    "    finally:\n",
    "        conn.close()\n",
    "    "
   ]
  },
  {
   "cell_type": "markdown",
   "metadata": {},
   "source": [
    "and here's how `sqlite3_connect()` can be used: "
   ]
  },
  {
   "cell_type": "code",
   "execution_count": 5,
   "metadata": {},
   "outputs": [],
   "source": [
    "with sqlite3_connect('example.db') as [conn, c]:\n",
    "\n",
    "    # Insert a row of data\n",
    "    c.execute(\"INSERT INTO stocks VALUES ('2008-01-05','BUY','AAPL',120,37.14)\")\n",
    "\n",
    "    # Save (commit) the changes\n",
    "    conn.commit()\n",
    "    \n",
    "# closing is done for us"
   ]
  },
  {
   "cell_type": "markdown",
   "metadata": {},
   "source": [
    "Usually your SQL operations will need to use values from Python variables like people's names, and fields from forms.\n",
    "\n",
    "DO NOT assemble your SQL using Python’s string operations because doing so is insecure; it makes your program vulnerable to an SQL injection attack \n",
    "\n",
    "![XKCD](https://imgs.xkcd.com/comics/exploits_of_a_mom.png)\n",
    "\n",
    "Instead, use the API’s parameter substitution - Put ? as a placeholder wherever you want to use a value, and then provide a tuple of values as the second argument to the cursor’s execute() method."
   ]
  },
  {
   "cell_type": "code",
   "execution_count": 28,
   "metadata": {},
   "outputs": [
    {
     "name": "stdout",
     "output_type": "stream",
     "text": [
      "None\n"
     ]
    }
   ],
   "source": [
    "with sqlite3_connect('example.db') as [conn, c]:\n",
    "\n",
    "    # DO NOT use str.format or f-strings or any other way to embed your variables into strings\n",
    "\n",
    "    # INSTEAD, use the sanitized substitution capability of the execute() function\n",
    "    t = ('RHAT',)\n",
    "    c.execute('SELECT * FROM stocks WHERE symbol=?', t)\n",
    "    print(c.fetchone())\n",
    "\n",
    "    # Larger example that inserts many records at a time\n",
    "    purchases = [('2006-03-28', 'BUY', 'IBM', 1000, 45.00),\n",
    "                 ('2006-04-05', 'BUY', 'MSFT', 1000, 72.00),\n",
    "                 ('2006-04-06', 'SELL', 'IBM', 500, 53.00),\n",
    "                ]\n",
    "    c.executemany('INSERT INTO stocks VALUES (?,?,?,?,?)', purchases)\n",
    "    \n",
    "    conn.commit()"
   ]
  },
  {
   "cell_type": "markdown",
   "metadata": {},
   "source": [
    "To retrieve data after executing a SELECT statement, you can treat the cursor as an iterator:"
   ]
  },
  {
   "cell_type": "code",
   "execution_count": 29,
   "metadata": {},
   "outputs": [
    {
     "name": "stdout",
     "output_type": "stream",
     "text": [
      "(('date', None, None, None, None, None, None), ('trans', None, None, None, None, None, None), ('symbol', None, None, None, None, None, None), ('qty', None, None, None, None, None, None), ('price', None, None, None, None, None, None))\n",
      "('2006-03-28', 'BUY', 'IBM', 1000.0, 45.0)\n",
      "(('date', None, None, None, None, None, None), ('trans', None, None, None, None, None, None), ('symbol', None, None, None, None, None, None), ('qty', None, None, None, None, None, None), ('price', None, None, None, None, None, None))\n",
      "('2006-04-06', 'SELL', 'IBM', 500.0, 53.0)\n",
      "(('date', None, None, None, None, None, None), ('trans', None, None, None, None, None, None), ('symbol', None, None, None, None, None, None), ('qty', None, None, None, None, None, None), ('price', None, None, None, None, None, None))\n",
      "('2006-04-05', 'BUY', 'MSFT', 1000.0, 72.0)\n"
     ]
    }
   ],
   "source": [
    "with sqlite3_connect('example.db') as [conn, c]:\n",
    "    for row in c.execute('SELECT * FROM stocks ORDER BY price'):\n",
    "        print(row)"
   ]
  },
  {
   "cell_type": "markdown",
   "metadata": {},
   "source": [
    "> you can also call the cursor’s `fetchone()` method to retrieve a single matching row, or call `fetchall()` to get a list of the matching rows."
   ]
  },
  {
   "cell_type": "markdown",
   "metadata": {},
   "source": [
    "## Table metadata\n",
    "\n",
    "We can access all the tables, their fields and their types using a simple query"
   ]
  },
  {
   "cell_type": "code",
   "execution_count": 17,
   "metadata": {},
   "outputs": [
    {
     "name": "stdout",
     "output_type": "stream",
     "text": [
      "stocks\n",
      "CREATE TABLE stocks (\n",
      "        date text, \n",
      "        trans text, \n",
      "        symbol text, \n",
      "        qty real, \n",
      "        price real\n",
      "        )\n",
      "test\n",
      "CREATE TABLE test(\n",
      "            p\n",
      "            )\n"
     ]
    }
   ],
   "source": [
    "with sqlite3_connect('example.db') as [conn, c]:\n",
    "    rs = c.execute(\n",
    "    \"\"\"\n",
    "    SELECT name, sql FROM sqlite_master\n",
    "    WHERE type='table'\n",
    "    ORDER BY name;\n",
    "    \"\"\")\n",
    "    \n",
    "    for name, sql, *args in rs:\n",
    "        print(name)\n",
    "        print(sql)"
   ]
  },
  {
   "cell_type": "markdown",
   "metadata": {},
   "source": [
    "##  SQLite and Python types\n",
    "SQLite natively supports the following types: `NULL`, `INTEGER`, `REAL`, `TEXT`, `BLOB`.\n",
    "\n",
    "The following Python types can thus be sent to SQLite without any problem:\n",
    "\n",
    "| Python type | SQLite type |\n",
    "|--|--|\n",
    "| None | NULL |\n",
    "| int | INTEGER |\n",
    "| float | REAL |\n",
    "| str | TEXT |\n",
    "| bytes | BLOB |\n",
    "\n",
    "SQLite supports only a limited set of types natively. To use other Python types with SQLite, you must adapt them to one of the sqlite3 module’s supported types for SQLite: one of `NoneType`, `int`, `float`, `str`, `bytes`.\n"
   ]
  },
  {
   "cell_type": "markdown",
   "metadata": {},
   "source": [
    "## Custom types\n",
    "\n",
    "there are two ways to read/write objects from a database:\n",
    "1. encoding the object into a text/blob column using some format (often JSON)\n",
    "2. converting objects into tables rows (respecting foreign keys as potential links to other objects)\n",
    "\n",
    "with a DB-API based SQL interface like sqlite3, both of these methods can contain a lot of boiler plate code and so we will leave them out of thid tutorial"
   ]
  },
  {
   "cell_type": "markdown",
   "metadata": {},
   "source": [
    "# pyodbc\n",
    "> pip install pyodbc\n",
    "\n",
    "[pyodbc](https://github.com/mkleehammer/pyodbc/wiki) is a python-ODBC bridge library that also supports the DB-API 2.0 specification. and can connect to a vast number of databases, including MS SQL Server, MySQL, PostgreSQL, Oracel, Google Big Data, SQLite, among others.\n",
    "\n",
    "> supporting the DB-API 2.0 means that code that uses pyodbc can look almost identical to code using SQLite\n",
    "\n",
    "> Open Database Connectivity (ODBC) is the standard that allows using identical (or at least very similar) SQL statements for querying different Databases (DBMS). The designers of ODBC aimed to make it independent of database systems and operating systems. \n",
    "\n",
    "> ODBC accomplishes DBMS independence by using an ODBC driver as a translation layer between the application and the DBMS. The driver often has to be installed on the client operating system"
   ]
  },
  {
   "cell_type": "markdown",
   "metadata": {},
   "source": [
    "## Example connections\n",
    "\n",
    "to connect to a DB, your often need to know the server/IP it is running on,\n",
    "the name of the datanase, and username/password to access the databse"
   ]
  },
  {
   "cell_type": "code",
   "execution_count": 40,
   "metadata": {},
   "outputs": [],
   "source": [
    "import pyodbc\n",
    "\n",
    "server = \"your_server\"\n",
    "db = \"your_db\"\n",
    "user = \"your_user\"\n",
    "password = \"your_password\""
   ]
  },
  {
   "cell_type": "markdown",
   "metadata": {},
   "source": [
    "### MS SQL Server"
   ]
  },
  {
   "cell_type": "code",
   "execution_count": 35,
   "metadata": {},
   "outputs": [
    {
     "name": "stdout",
     "output_type": "stream",
     "text": [
      "DRIVER={ODBC Driver 17 for SQL Server};SERVER=your_server;DATABASE=your_db;UID=your_user;PWD=your_password\n"
     ]
    }
   ],
   "source": [
    "connection_str = \\\n",
    "    'DRIVER={ODBC Driver 17 for SQL Server};' + \\\n",
    "    f'SERVER={server};'\\\n",
    "    f'DATABASE={db};'\\\n",
    "    f'UID={user};' \\\n",
    "    f'PWD={password}'\n",
    "print(connection_str)\n",
    "\n",
    "# # Connect to MS SQL Server\n",
    "# conn = pyodbc.connect(connection_str)\n"
   ]
  },
  {
   "cell_type": "markdown",
   "metadata": {},
   "source": [
    "### MySQL"
   ]
  },
  {
   "cell_type": "code",
   "execution_count": 36,
   "metadata": {},
   "outputs": [
    {
     "name": "stdout",
     "output_type": "stream",
     "text": [
      "DRIVER={MySQL ODBC 3.51 Driver};SERVER=your_server;DATABASE=your_db;UID=your_user;PASSWORD=your_password;\n"
     ]
    }
   ],
   "source": [
    "connection_str = \\\n",
    "    \"DRIVER={MySQL ODBC 3.51 Driver};\" \\\n",
    "    f\"SERVER={server};\" \\\n",
    "    f\"DATABASE={db};\"\\\n",
    "    f\"UID={user};\"\\\n",
    "    f\"PASSWORD={password};\"\n",
    "print(connection_str)\n",
    "\n",
    "# # Connect to MySQL\n",
    "# conn = pyodbc.connect(connection_str) \n"
   ]
  },
  {
   "cell_type": "markdown",
   "metadata": {},
   "source": [
    "## SQLite\n",
    "\n",
    "> We don't to connect to SQLite via ODBC, because python can use these databases directly. <br>\n",
    "> however, if we want to show this as a demo, we need to install the SQLite ODBC driver\n",
    "\n",
    "> For Windows, you can get the SQLite ODBC driver [here](http://www.ch-werner.de/sqliteodbc/). Download \"sqliteodbc.exe\" if you are using 32-bit Python, or \"sqliteodbc_w64.exe\" if you are using 64-bit Python."
   ]
  },
  {
   "cell_type": "code",
   "execution_count": 39,
   "metadata": {},
   "outputs": [
    {
     "name": "stdout",
     "output_type": "stream",
     "text": [
      "Driver=SQLite3 ODBC Driver;Database=example.db\n",
      "('2006-03-28', 'BUY', 'IBM', 1000.0, 45.0)\n",
      "('2006-04-06', 'SELL', 'IBM', 500.0, 53.0)\n",
      "('2006-04-05', 'BUY', 'MSFT', 1000.0, 72.0)\n"
     ]
    }
   ],
   "source": [
    "db=\"example.db\"\n",
    "\n",
    "connection_str = \\\n",
    "    \"Driver=SQLite3 ODBC Driver;\" \\\n",
    "    f\"Database={db}\"\n",
    "    \n",
    "print(connection_str)\n",
    "conn = pyodbc.connect(connection_str)\n",
    "c = conn.cursor()\n",
    "\n",
    "for row in c.execute('SELECT * FROM stocks ORDER BY price'):\n",
    "    print(row)"
   ]
  },
  {
   "cell_type": "markdown",
   "metadata": {},
   "source": [
    "# SQLAlchemy\n"
   ]
  },
  {
   "cell_type": "code",
   "execution_count": 17,
   "metadata": {},
   "outputs": [],
   "source": [
    "from sqlalchemy import Column, DateTime, ForeignKey, Integer, NVARCHAR, Numeric\n",
    "from sqlalchemy.orm import relationship\n",
    "from sqlalchemy.ext.declarative import declarative_base\n",
    "\n",
    "Base = declarative_base()\n",
    "\n",
    "    \n",
    "\n",
    "class BaseUtils:\n",
    "    @staticmethod\n",
    "    def key_from_column(column_name):\n",
    "        return column_name[column_name.rfind('.') +1:]\n",
    "    \n",
    "    def keys(self):\n",
    "        return [BaseUtils.key_from_column(str(column)) for column in self.__table__.columns]\n",
    "    \n",
    "    def as_dict(self):\n",
    "        return {key: getattr(self, key) for key in self.keys()}\n",
    "    \n",
    "    def __repr__(self):\n",
    "        return \"{}({})\".format(\n",
    "            type(self).__name__,\n",
    "            ', '.join([\"{}={!r}\".format(name, value) for name, value in self.as_dict().items()])\n",
    "        )\n",
    "\n",
    "Base.__repr__ = BaseUtils.__repr__\n",
    "Base.as_dict = BaseUtils.as_dict\n",
    "Base.keys = BaseUtils.keys\n",
    "#Base.key_from_column = BaseUtils.key_from_column\n",
    "    \n",
    "\n",
    "metadata = Base.metadata\n",
    "\n",
    "\n",
    "class Artist(Base):\n",
    "    __tablename__ = 'artists'\n",
    "\n",
    "    ArtistId = Column(Integer, primary_key=True)\n",
    "    Name = Column(NVARCHAR(120))\n",
    "\n",
    "\n",
    "class Genre(Base):\n",
    "    __tablename__ = 'genres'\n",
    "\n",
    "    GenreId = Column(Integer, primary_key=True)\n",
    "    Name = Column(NVARCHAR(120))\n",
    "\n",
    "\n",
    "class MediaType(Base):\n",
    "    __tablename__ = 'media_types'\n",
    "\n",
    "    MediaTypeId = Column(Integer, primary_key=True)\n",
    "    Name = Column(NVARCHAR(120))\n",
    "\n",
    "\n",
    "class Album(Base):\n",
    "    __tablename__ = 'albums'\n",
    "\n",
    "    AlbumId = Column(Integer, primary_key=True)\n",
    "    Title = Column(NVARCHAR(160), nullable=False)\n",
    "    ArtistId = Column(ForeignKey('artists.ArtistId'), nullable=False, index=True)\n",
    "\n",
    "    artist = relationship('Artist')\n",
    "\n",
    "\n",
    "class Customer(Base):\n",
    "    __tablename__ = 'customers'\n",
    "\n",
    "    CustomerId = Column(Integer, primary_key=True)\n",
    "    FirstName = Column(NVARCHAR(40), nullable=False)\n",
    "    LastName = Column(NVARCHAR(20), nullable=False)\n",
    "    Company = Column(NVARCHAR(80))\n",
    "    Address = Column(NVARCHAR(70))\n",
    "    Phone = Column(NVARCHAR(24))\n",
    "    Email = Column(NVARCHAR(60), nullable=False)\n",
    "\n",
    "\n",
    "class Invoice(Base):\n",
    "    __tablename__ = 'invoices'\n",
    "\n",
    "    InvoiceId = Column(Integer, primary_key=True)\n",
    "    CustomerId = Column(ForeignKey('customers.CustomerId'), nullable=False, index=True)\n",
    "    InvoiceDate = Column(DateTime, nullable=False)\n",
    "    BillingAddress = Column(NVARCHAR(70))\n",
    "    Total = Column(Numeric(10, 2), nullable=False)\n",
    "\n",
    "    customer = relationship('Customer')\n",
    "\n",
    "\n",
    "class Track(Base):\n",
    "    __tablename__ = 'tracks'\n",
    "\n",
    "    TrackId = Column(Integer, primary_key=True)\n",
    "    Name = Column(NVARCHAR(200), nullable=False)\n",
    "    AlbumId = Column(ForeignKey('albums.AlbumId'), index=True)\n",
    "    MediaTypeId = Column(ForeignKey('media_types.MediaTypeId'), nullable=False, index=True)\n",
    "    GenreId = Column(ForeignKey('genres.GenreId'), index=True)\n",
    "    Composer = Column(NVARCHAR(220))\n",
    "    Milliseconds = Column(Integer, nullable=False)\n",
    "    Bytes = Column(Integer)\n",
    "    UnitPrice = Column(Numeric(10, 2), nullable=False)\n",
    "\n",
    "    album = relationship('Album')\n",
    "    genre = relationship('Genre')\n",
    "    media_type = relationship('MediaType')\n",
    "\n",
    "\n",
    "class InvoiceItem(Base):\n",
    "    __tablename__ = 'invoice_items'\n",
    "\n",
    "    InvoiceLineId = Column(Integer, primary_key=True)\n",
    "    InvoiceId = Column(ForeignKey('invoices.InvoiceId'), nullable=False, index=True)\n",
    "    TrackId = Column(ForeignKey('tracks.TrackId'), nullable=False, index=True)\n",
    "    UnitPrice = Column(Numeric(10, 2), nullable=False)\n",
    "    Quantity = Column(Integer, nullable=False)\n",
    "\n",
    "    invoice = relationship('Invoice')\n",
    "    track = relationship('Track')"
   ]
  },
  {
   "cell_type": "code",
   "execution_count": 20,
   "metadata": {},
   "outputs": [
    {
     "data": {
      "text/plain": [
       "Track(TrackId=None, Name=None, AlbumId=None, MediaTypeId=None, GenreId=None, Composer=None, Milliseconds=None, Bytes=None, UnitPrice=None)"
      ]
     },
     "execution_count": 20,
     "metadata": {},
     "output_type": "execute_result"
    }
   ],
   "source": [
    "b = BaseUtils()\n",
    "#b.('v.v')\n",
    "a = Artist()\n",
    "a.keys()\n",
    "a.Name = 'blah'\n",
    "#a.blah\n",
    "#print(a.key_from_column('v.v'))\n",
    "repr(a)\n",
    "Track()"
   ]
  },
  {
   "cell_type": "code",
   "execution_count": 19,
   "metadata": {},
   "outputs": [
    {
     "data": {
      "text/plain": [
       "Artist(ArtistId=None, Name='blah')"
      ]
     },
     "execution_count": 19,
     "metadata": {},
     "output_type": "execute_result"
    }
   ],
   "source": [
    "Artist(ArtistId=None, Name='blah')"
   ]
  },
  {
   "cell_type": "code",
   "execution_count": 7,
   "metadata": {},
   "outputs": [
    {
     "name": "stdout",
     "output_type": "stream",
     "text": [
      "artists.ArtistId\n",
      "artists.Name\n"
     ]
    },
    {
     "data": {
      "text/plain": [
       "'Artist(ArtistId=None, Name=None)'"
      ]
     },
     "execution_count": 7,
     "metadata": {},
     "output_type": "execute_result"
    }
   ],
   "source": [
    "#print(Artist.__name__)\n",
    "repr(Artist())"
   ]
  },
  {
   "cell_type": "code",
   "execution_count": null,
   "metadata": {},
   "outputs": [],
   "source": []
  },
  {
   "cell_type": "code",
   "execution_count": 3,
   "metadata": {},
   "outputs": [
    {
     "name": "stdout",
     "output_type": "stream",
     "text": [
      "albums\n",
      "  AlbumId   INTEGER       autoincrement   primary_key \n",
      "  Title   NVARCHAR(160)       autoincrement   \n",
      "  ArtistId   INTEGER       autoincrement   \n",
      "\n",
      "artists\n",
      "  ArtistId   INTEGER       autoincrement   primary_key \n",
      "  Name   NVARCHAR(120)   nullable     autoincrement   \n",
      "\n",
      "customers\n",
      "  CustomerId   INTEGER       autoincrement   primary_key \n",
      "  FirstName   NVARCHAR(40)       autoincrement   \n",
      "  LastName   NVARCHAR(20)       autoincrement   \n",
      "  Company   NVARCHAR(80)   nullable     autoincrement   \n",
      "  Address   NVARCHAR(70)   nullable     autoincrement   \n",
      "  City   NVARCHAR(40)   nullable     autoincrement   \n",
      "  State   NVARCHAR(40)   nullable     autoincrement   \n",
      "  Country   NVARCHAR(40)   nullable     autoincrement   \n",
      "  PostalCode   NVARCHAR(10)   nullable     autoincrement   \n",
      "  Phone   NVARCHAR(24)   nullable     autoincrement   \n",
      "  Fax   NVARCHAR(24)   nullable     autoincrement   \n",
      "  Email   NVARCHAR(60)       autoincrement   \n",
      "  SupportRepId   INTEGER   nullable     autoincrement   \n",
      "\n",
      "employees\n",
      "  EmployeeId   INTEGER       autoincrement   primary_key \n",
      "  LastName   NVARCHAR(20)       autoincrement   \n",
      "  FirstName   NVARCHAR(20)       autoincrement   \n",
      "  Title   NVARCHAR(30)   nullable     autoincrement   \n",
      "  ReportsTo   INTEGER   nullable     autoincrement   \n",
      "  BirthDate   DATETIME   nullable     autoincrement   \n",
      "  HireDate   DATETIME   nullable     autoincrement   \n",
      "  Address   NVARCHAR(70)   nullable     autoincrement   \n",
      "  City   NVARCHAR(40)   nullable     autoincrement   \n",
      "  State   NVARCHAR(40)   nullable     autoincrement   \n",
      "  Country   NVARCHAR(40)   nullable     autoincrement   \n",
      "  PostalCode   NVARCHAR(10)   nullable     autoincrement   \n",
      "  Phone   NVARCHAR(24)   nullable     autoincrement   \n",
      "  Fax   NVARCHAR(24)   nullable     autoincrement   \n",
      "  Email   NVARCHAR(60)   nullable     autoincrement   \n",
      "\n",
      "genres\n",
      "  GenreId   INTEGER       autoincrement   primary_key \n",
      "  Name   NVARCHAR(120)   nullable     autoincrement   \n",
      "\n",
      "invoice_items\n",
      "  InvoiceLineId   INTEGER       autoincrement   primary_key \n",
      "  InvoiceId   INTEGER       autoincrement   \n",
      "  TrackId   INTEGER       autoincrement   \n",
      "  UnitPrice   NUMERIC(10, 2)       autoincrement   \n",
      "  Quantity   INTEGER       autoincrement   \n",
      "\n",
      "invoices\n",
      "  InvoiceId   INTEGER       autoincrement   primary_key \n",
      "  CustomerId   INTEGER       autoincrement   \n",
      "  InvoiceDate   DATETIME       autoincrement   \n",
      "  BillingAddress   NVARCHAR(70)   nullable     autoincrement   \n",
      "  BillingCity   NVARCHAR(40)   nullable     autoincrement   \n",
      "  BillingState   NVARCHAR(40)   nullable     autoincrement   \n",
      "  BillingCountry   NVARCHAR(40)   nullable     autoincrement   \n",
      "  BillingPostalCode   NVARCHAR(10)   nullable     autoincrement   \n",
      "  Total   NUMERIC(10, 2)       autoincrement   \n",
      "\n",
      "tracks\n",
      "  TrackId   INTEGER       autoincrement   primary_key \n",
      "  Name   NVARCHAR(200)       autoincrement   \n",
      "  AlbumId   INTEGER   nullable     autoincrement   \n",
      "  MediaTypeId   INTEGER       autoincrement   \n",
      "  GenreId   INTEGER   nullable     autoincrement   \n",
      "  Composer   NVARCHAR(220)   nullable     autoincrement   \n",
      "  Milliseconds   INTEGER       autoincrement   \n",
      "  Bytes   INTEGER   nullable     autoincrement   \n",
      "  UnitPrice   NUMERIC(10, 2)       autoincrement   \n",
      "\n",
      "media_types\n",
      "  MediaTypeId   INTEGER       autoincrement   primary_key \n",
      "  Name   NVARCHAR(120)   nullable     autoincrement   \n",
      "\n",
      "playlist_track\n",
      "  PlaylistId   INTEGER       autoincrement   primary_key \n",
      "  TrackId   INTEGER       autoincrement   2 \n",
      "\n",
      "playlists\n",
      "  PlaylistId   INTEGER       autoincrement   primary_key \n",
      "  Name   NVARCHAR(120)   nullable     autoincrement   \n",
      "\n",
      "sqlite_sequence\n",
      "  name   \n",
      "~~~~~~~~~~\n",
      "type\n",
      "  nullable     autoincrement   \n",
      "  seq   \n",
      "~~~~~~~~~~\n",
      "type\n",
      "  nullable     autoincrement   \n",
      "\n",
      "sqlite_stat1\n",
      "  tbl   \n",
      "~~~~~~~~~~\n",
      "type\n",
      "  nullable     autoincrement   \n",
      "  idx   \n",
      "~~~~~~~~~~\n",
      "type\n",
      "  nullable     autoincrement   \n",
      "  stat   \n",
      "~~~~~~~~~~\n",
      "type\n",
      "  nullable     autoincrement   \n",
      "\n"
     ]
    }
   ],
   "source": [
    "\n",
    "import sqlalchemy\n",
    "from sqlalchemy import create_engine\n",
    "engine = create_engine('sqlite:///chinook.db')\n",
    "cur = engine.connect()\n",
    "\n",
    "from pprint import pprint\n",
    "metadata = sqlalchemy.MetaData()\n",
    "metadata.reflect(engine)\n",
    "insp = sqlalchemy.inspect(engine)\n",
    "\n",
    "for table_name in metadata.tables:\n",
    "    print(table_name)\n",
    "    for column in insp.get_columns(table_name):\n",
    "        for name,value in column.items():\n",
    "            print('  ', end='')\n",
    "            if value and type(value) is not sqlalchemy.types.NullType:\n",
    "                field = name if value in [True, 'auto'] else value \n",
    "                print(field, end=' ')\n",
    "                \n",
    "            if type(value) is sqlalchemy.types.NullType:\n",
    "                print()\n",
    "                print(\"~\"*10)\n",
    "                print(name)\n",
    "                \n",
    "        print()\n",
    "    \n",
    "    print()\n"
   ]
  },
  {
   "cell_type": "code",
   "execution_count": null,
   "metadata": {},
   "outputs": [],
   "source": [
    "def verbose(row):\n",
    "    return '\\n'.join( [f\"{name}: {value}\" for name,value in row.items()])\n"
   ]
  }
 ],
 "metadata": {
  "kernelspec": {
   "display_name": "Python 3",
   "language": "python",
   "name": "python3"
  },
  "language_info": {
   "codemirror_mode": {
    "name": "ipython",
    "version": 3
   },
   "file_extension": ".py",
   "mimetype": "text/x-python",
   "name": "python",
   "nbconvert_exporter": "python",
   "pygments_lexer": "ipython3",
   "version": "3.7.3"
  }
 },
 "nbformat": 4,
 "nbformat_minor": 2
}
