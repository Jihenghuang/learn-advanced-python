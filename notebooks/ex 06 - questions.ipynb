{
 "cells": [
  {
   "cell_type": "markdown",
   "metadata": {},
   "source": [
    "# Multiple inheritance\n",
    "\n",
    "given the following classes `Address` and `Person`:\n",
    "```\n",
    "class Address:\n",
    "    def __init__(self, street, city):\n",
    "        self.street = str(street)\n",
    "        self.city = str(city)\n",
    "        \n",
    "    def show(self):\n",
    "        print(self.street)\n",
    "        print(self.city)\n",
    "\n",
    "class Person:\n",
    "    def __init__(self, name, email):\n",
    "        self.name = name\n",
    "        self.email= email\n",
    "        \n",
    "    def show(self):\n",
    "        print(self.name + ' ' + self.email)\n",
    "```\n",
    "\n",
    "## Task:\n",
    "\n",
    "1. Modify classes `Person` and `Address` \n",
    "so that they can work well in a multiple-inheritance hierarchy <br><br>\n",
    "> you may want to add `from superobject import SuperObject` to be able to use the `SuperObject` class from lesson 06\n",
    "\n",
    "2. implement the following classes:\n",
    "\n",
    "  1. `class Contact` that inherits from both `Address` and `Person`\n",
    "     > this class should have a `def show(self)` method\n",
    "   \n",
    "  2. `class Notebook` that is a dictionary that maps people's names to a `Contact` object. \n",
    "     it doesnt need to inherit anything\n",
    "     > 1. this class should have a `def show(se)` method\n",
    "     > 2. this class should have a `def add(self, name, email, street, city)` method\n",
    "\n",
    "3. Test your code with the sample code below:\n",
    "\n",
    "    ```\n",
    "    notes = Notebook()\n",
    "    notes.add('Alice', '<alice@example.com>', 'Lv 24', 'Sthlm')\n",
    "    notes.add('Bob', '<bob@example.com>', 'Rtb 35', 'Sthlm')\n",
    "\n",
    "    notes.show()\n",
    "    ```\n",
    "\n",
    "    expected output:\n",
    "    \n",
    "    ```\n",
    "    Alice\n",
    "    <alice@example.com>\n",
    "    Lv 24 Sthlm\n",
    "\n",
    "    Bob\n",
    "    <bob@example.com>\n",
    "    Rtb 35 Sthlm\n",
    "    ```\n"
   ]
  },
  {
   "cell_type": "code",
   "execution_count": 1,
   "metadata": {},
   "outputs": [
    {
     "name": "stdout",
     "output_type": "stream",
     "text": [
      "Alice\n",
      "<alice@example.com>\n",
      "Lv 24 Sthlm\n",
      "\n",
      "Bob\n",
      "<bob@example.com>\n",
      "Rtb 35 Sthlm\n",
      "\n"
     ]
    }
   ],
   "source": [
    "from superobject import SuperObject\n",
    "\n",
    "# modify Address and Person\n",
    "# implement Contact and Notebook\n",
    "\n",
    "# Test:\n",
    "notes = Notebook()\n",
    "notes.add('Alice', '<alice@example.com>', 'Lv 24', 'Sthlm')\n",
    "notes.add('Bob', '<bob@example.com>', 'Rtb 35', 'Sthlm')\n",
    "\n",
    "notes.show()\n",
    "                            \n",
    "        "
   ]
  },
  {
   "cell_type": "code",
   "execution_count": null,
   "metadata": {},
   "outputs": [],
   "source": []
  }
 ],
 "metadata": {
  "kernelspec": {
   "display_name": "Python 3",
   "language": "python",
   "name": "python3"
  },
  "language_info": {
   "codemirror_mode": {
    "name": "ipython",
    "version": 3
   },
   "file_extension": ".py",
   "mimetype": "text/x-python",
   "name": "python",
   "nbconvert_exporter": "python",
   "pygments_lexer": "ipython3",
   "version": "3.7.3"
  }
 },
 "nbformat": 4,
 "nbformat_minor": 2
}
