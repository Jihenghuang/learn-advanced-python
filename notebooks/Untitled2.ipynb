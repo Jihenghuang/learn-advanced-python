{
 "cells": [
  {
   "cell_type": "code",
   "execution_count": 2,
   "metadata": {},
   "outputs": [
    {
     "name": "stdout",
     "output_type": "stream",
     "text": [
      "E arg= 1 4 5 5 5 5\n",
      "C arg= <__main__.E object at 0x069D18F0> 1 4 5 5 5 5\n",
      "A\n"
     ]
    }
   ],
   "source": [
    "class A():\n",
    "    def __init__(self, *args, **kwargs):\n",
    "        print(\"A\")\n",
    "\n",
    "class B():\n",
    "    def __init__(self, *args, **kwargs):\n",
    "        print(\"B\")\n",
    "\n",
    "class C(A):\n",
    "    def __init__(self, *args, **kwargs):\n",
    "        print(\"C\",\"arg=\", *args)\n",
    "        super().__init__(self, *args, **kwargs)\n",
    "\n",
    "class D(B):\n",
    "    def __init__(self, *args, **kwargs):\n",
    "        print(\"D\", \"arg=\", *args)\n",
    "        super().__init__(self, *args, **kwargs)\n",
    "\n",
    "class E(C,D):\n",
    "    def __init__(self, *args, **kwargs):\n",
    "        print(\"E\", \"arg=\", *args)\n",
    "        super().__init__(self, *args, **kwargs)\n",
    "\n",
    "\n",
    "# now you can call the classes with a variable amount of arguments\n",
    "# which are also delegated to the parent classed through the super() calls\n",
    "#a = A(5, 5)\n",
    "#b = B(4, 4)\n",
    "#c = C(1, 2, 4, happy=True)\n",
    "#d = D(1, 3, 2)\n",
    "e = E(1, 4, 5, 5, 5, 5, value=4)"
   ]
  },
  {
   "cell_type": "code",
   "execution_count": null,
   "metadata": {},
   "outputs": [],
   "source": []
  }
 ],
 "metadata": {
  "kernelspec": {
   "display_name": "Python 3",
   "language": "python",
   "name": "python3"
  },
  "language_info": {
   "codemirror_mode": {
    "name": "ipython",
    "version": 3
   },
   "file_extension": ".py",
   "mimetype": "text/x-python",
   "name": "python",
   "nbconvert_exporter": "python",
   "pygments_lexer": "ipython3",
   "version": "3.7.3"
  }
 },
 "nbformat": 4,
 "nbformat_minor": 2
}
