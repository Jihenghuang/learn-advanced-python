{
 "cells": [
  {
   "cell_type": "markdown",
   "metadata": {},
   "source": [
    "# Where are my packages?\n",
    "\n",
    "In this lesson we will learn to answer the following questions:\n",
    "\n",
    "1. where are my installed packages located\n",
    "2. what packages and package versions do I have"
   ]
  },
  {
   "cell_type": "markdown",
   "metadata": {},
   "source": [
    "### FYI: where is the standard library located?\n",
    "We can use `inspect.getfile(object)` to get the filename where a module, class or function is defined"
   ]
  },
  {
   "cell_type": "code",
   "execution_count": 50,
   "metadata": {},
   "outputs": [
    {
     "name": "stdout",
     "output_type": "stream",
     "text": [
      "c:\\users\\aviad\\appdata\\local\\programs\\python\\python37-32\\lib\n"
     ]
    }
   ],
   "source": [
    "import os, inspect\n",
    "stdlib = os.path.dirname(inspect.getfile(os))\n",
    "print(stdlib) # c:\\users\\aviad\\appdata\\local\\programs\\python\\python37-32\\lib"
   ]
  },
  {
   "cell_type": "markdown",
   "metadata": {},
   "source": [
    "## Package locations\n",
    "\n",
    "`pip` installs packages into a `site-packages` directory in one of three locations\n",
    "1. global packages - these packages all available for all users on the machine\n",
    "2. per-user packages - these packages are available only to the current user\n",
    "3. venv packages - virtual environment packages available to a particular environment/project\n",
    "   > _more on [venv](https://docs.python.org/3/library/venv.html) later_\n"
   ]
  },
  {
   "cell_type": "markdown",
   "metadata": {},
   "source": [
    "### where are the global packages installed?\n",
    "We you can use the `site` module to figure out programatically where our global packages are being installed"
   ]
  },
  {
   "cell_type": "code",
   "execution_count": 52,
   "metadata": {},
   "outputs": [
    {
     "name": "stdout",
     "output_type": "stream",
     "text": [
      "['c:\\\\users\\\\aviad\\\\appdata\\\\local\\\\programs\\\\python\\\\python37-32',\n",
      " 'c:\\\\users\\\\aviad\\\\appdata\\\\local\\\\programs\\\\python\\\\python37-32\\\\lib\\\\site-packages']\n"
     ]
    }
   ],
   "source": [
    "import site, pprint\n",
    "pprint.pprint(site.getsitepackages())"
   ]
  },
  {
   "cell_type": "markdown",
   "metadata": {},
   "source": [
    "what packages (global or user)  do I have?"
   ]
  },
  {
   "cell_type": "code",
   "execution_count": 54,
   "metadata": {},
   "outputs": [
    {
     "name": "stdout",
     "output_type": "stream",
     "text": [
      "Package            Version Location                                                                   Installer\n",
      "------------------ ------- -------------------------------------------------------------------------- ---------\n",
      "asyncio            3.4.3   c:\\users\\aviad\\appdata\\local\\programs\\python\\python37-32\\lib\\site-packages pip      \n",
      "atomicwrites       1.3.0   c:\\users\\aviad\\appdata\\local\\programs\\python\\python37-32\\lib\\site-packages pip      \n",
      "attrs              19.1.0  c:\\users\\aviad\\appdata\\local\\programs\\python\\python37-32\\lib\\site-packages pip      \n",
      "backcall           0.1.0   c:\\users\\aviad\\appdata\\local\\programs\\python\\python37-32\\lib\\site-packages          \n",
      "bleach             3.1.0   c:\\users\\aviad\\appdata\\local\\programs\\python\\python37-32\\lib\\site-packages pip      \n",
      "colorama           0.4.1   c:\\users\\aviad\\appdata\\local\\programs\\python\\python37-32\\lib\\site-packages pip      \n",
      "cycler             0.10.0  c:\\users\\aviad\\appdata\\local\\programs\\python\\python37-32\\lib\\site-packages pip      \n",
      "decorator          4.4.0   c:\\users\\aviad\\appdata\\local\\programs\\python\\python37-32\\lib\\site-packages pip      \n",
      "defusedxml         0.6.0   c:\\users\\aviad\\appdata\\local\\programs\\python\\python37-32\\lib\\site-packages pip      \n",
      "entrypoints        0.3     c:\\users\\aviad\\appdata\\local\\programs\\python\\python37-32\\lib\\site-packages pip      \n",
      "importlib-metadata 0.18    c:\\users\\aviad\\appdata\\local\\programs\\python\\python37-32\\lib\\site-packages pip      \n",
      "ipykernel          5.1.1   c:\\users\\aviad\\appdata\\local\\programs\\python\\python37-32\\lib\\site-packages pip      \n",
      "ipytest            0.6.0   c:\\users\\aviad\\appdata\\local\\programs\\python\\python37-32\\lib\\site-packages pip      \n",
      "ipython            7.5.0   c:\\users\\aviad\\appdata\\local\\programs\\python\\python37-32\\lib\\site-packages pip      \n",
      "ipython-genutils   0.2.0   c:\\users\\aviad\\appdata\\local\\programs\\python\\python37-32\\lib\\site-packages pip      \n",
      "ipywidgets         7.4.2   c:\\users\\aviad\\appdata\\local\\programs\\python\\python37-32\\lib\\site-packages pip      \n",
      "jedi               0.13.3  c:\\users\\aviad\\appdata\\local\\programs\\python\\python37-32\\lib\\site-packages pip      \n",
      "Jinja2             2.10.1  c:\\users\\aviad\\appdata\\local\\programs\\python\\python37-32\\lib\\site-packages pip      \n",
      "jsonschema         3.0.1   c:\\users\\aviad\\appdata\\local\\programs\\python\\python37-32\\lib\\site-packages pip      \n",
      "jupyter            1.0.0   c:\\users\\aviad\\appdata\\local\\programs\\python\\python37-32\\lib\\site-packages pip      \n",
      "jupyter-client     5.2.4   c:\\users\\aviad\\appdata\\local\\programs\\python\\python37-32\\lib\\site-packages pip      \n",
      "jupyter-console    6.0.0   c:\\users\\aviad\\appdata\\local\\programs\\python\\python37-32\\lib\\site-packages pip      \n",
      "jupyter-core       4.5.0   c:\\users\\aviad\\appdata\\local\\programs\\python\\python37-32\\lib\\site-packages pip      \n",
      "kiwisolver         1.1.0   c:\\users\\aviad\\appdata\\local\\programs\\python\\python37-32\\lib\\site-packages pip      \n",
      "MarkupSafe         1.1.1   c:\\users\\aviad\\appdata\\local\\programs\\python\\python37-32\\lib\\site-packages pip      \n",
      "matplotlib         3.1.0   c:\\users\\aviad\\appdata\\local\\programs\\python\\python37-32\\lib\\site-packages pip      \n",
      "mistune            0.8.4   c:\\users\\aviad\\appdata\\local\\programs\\python\\python37-32\\lib\\site-packages pip      \n",
      "more-itertools     7.0.0   c:\\users\\aviad\\appdata\\local\\programs\\python\\python37-32\\lib\\site-packages pip      \n",
      "multimethods       1.0.0   c:\\users\\aviad\\appdata\\local\\programs\\python\\python37-32\\lib\\site-packages          \n",
      "nbconvert          5.5.0   c:\\users\\aviad\\appdata\\local\\programs\\python\\python37-32\\lib\\site-packages pip      \n",
      "nbformat           4.4.0   c:\\users\\aviad\\appdata\\local\\programs\\python\\python37-32\\lib\\site-packages pip      \n",
      "notebook           5.7.8   c:\\users\\aviad\\appdata\\local\\programs\\python\\python37-32\\lib\\site-packages pip      \n",
      "numpy              1.16.4  c:\\users\\aviad\\appdata\\local\\programs\\python\\python37-32\\lib\\site-packages pip      \n",
      "packaging          19.0    c:\\users\\aviad\\appdata\\local\\programs\\python\\python37-32\\lib\\site-packages pip      \n",
      "pandas             0.24.2  c:\\users\\aviad\\appdata\\local\\programs\\python\\python37-32\\lib\\site-packages pip      \n",
      "pandocfilters      1.4.2   c:\\users\\aviad\\appdata\\local\\programs\\python\\python37-32\\lib\\site-packages          \n",
      "parso              0.4.0   c:\\users\\aviad\\appdata\\local\\programs\\python\\python37-32\\lib\\site-packages pip      \n",
      "pickleshare        0.7.5   c:\\users\\aviad\\appdata\\local\\programs\\python\\python37-32\\lib\\site-packages pip      \n",
      "pip                19.1.1  c:\\users\\aviad\\appdata\\local\\programs\\python\\python37-32\\lib\\site-packages pip      \n",
      "pluggy             0.12.0  c:\\users\\aviad\\appdata\\local\\programs\\python\\python37-32\\lib\\site-packages pip      \n",
      "prometheus-client  0.7.0   c:\\users\\aviad\\appdata\\local\\programs\\python\\python37-32\\lib\\site-packages          \n",
      "prompt-toolkit     2.0.9   c:\\users\\aviad\\appdata\\local\\programs\\python\\python37-32\\lib\\site-packages pip      \n",
      "py                 1.8.0   c:\\users\\aviad\\appdata\\local\\programs\\python\\python37-32\\lib\\site-packages pip      \n",
      "Pygments           2.4.2   c:\\users\\aviad\\appdata\\local\\programs\\python\\python37-32\\lib\\site-packages pip      \n",
      "pyparsing          2.4.0   c:\\users\\aviad\\appdata\\local\\programs\\python\\python37-32\\lib\\site-packages pip      \n",
      "pyrsistent         0.15.2  c:\\users\\aviad\\appdata\\local\\programs\\python\\python37-32\\lib\\site-packages          \n",
      "pytest             4.6.3   c:\\users\\aviad\\appdata\\local\\programs\\python\\python37-32\\lib\\site-packages pip      \n",
      "python-dateutil    2.8.0   c:\\users\\aviad\\appdata\\local\\programs\\python\\python37-32\\lib\\site-packages pip      \n",
      "pytz               2019.1  c:\\users\\aviad\\appdata\\local\\programs\\python\\python37-32\\lib\\site-packages pip      \n",
      "pywinpty           0.5.5   c:\\users\\aviad\\appdata\\local\\programs\\python\\python37-32\\lib\\site-packages pip      \n",
      "pyzmq              18.0.1  c:\\users\\aviad\\appdata\\local\\programs\\python\\python37-32\\lib\\site-packages pip      \n",
      "qtconsole          4.5.1   c:\\users\\aviad\\appdata\\local\\programs\\python\\python37-32\\lib\\site-packages pip      \n",
      "scipy              1.3.0   c:\\users\\aviad\\appdata\\local\\programs\\python\\python37-32\\lib\\site-packages pip      \n",
      "seaborn            0.9.0   c:\\users\\aviad\\appdata\\local\\programs\\python\\python37-32\\lib\\site-packages pip      \n",
      "Send2Trash         1.5.0   c:\\users\\aviad\\appdata\\local\\programs\\python\\python37-32\\lib\\site-packages pip      \n",
      "setuptools         40.8.0  c:\\users\\aviad\\appdata\\local\\programs\\python\\python37-32\\lib\\site-packages pip      \n",
      "six                1.12.0  c:\\users\\aviad\\appdata\\local\\programs\\python\\python37-32\\lib\\site-packages pip      \n",
      "terminado          0.8.2   c:\\users\\aviad\\appdata\\local\\programs\\python\\python37-32\\lib\\site-packages pip      \n",
      "testpath           0.4.2   c:\\users\\aviad\\appdata\\local\\programs\\python\\python37-32\\lib\\site-packages pip      \n",
      "tornado            6.0.2   c:\\users\\aviad\\appdata\\local\\programs\\python\\python37-32\\lib\\site-packages pip      \n",
      "traitlets          4.3.2   c:\\users\\aviad\\appdata\\local\\programs\\python\\python37-32\\lib\\site-packages pip      \n",
      "wcwidth            0.1.7   c:\\users\\aviad\\appdata\\local\\programs\\python\\python37-32\\lib\\site-packages pip      \n",
      "webencodings       0.5.1   c:\\users\\aviad\\appdata\\local\\programs\\python\\python37-32\\lib\\site-packages pip      \n",
      "widgetsnbextension 3.4.2   c:\\users\\aviad\\appdata\\local\\programs\\python\\python37-32\\lib\\site-packages pip      \n",
      "zipp               0.5.1   c:\\users\\aviad\\appdata\\local\\programs\\python\\python37-32\\lib\\site-packages pip      \n"
     ]
    }
   ],
   "source": [
    "!pip list -v"
   ]
  },
  {
   "cell_type": "markdown",
   "metadata": {},
   "source": [
    "### per-user package locations"
   ]
  },
  {
   "cell_type": "code",
   "execution_count": 55,
   "metadata": {},
   "outputs": [
    {
     "data": {
      "text/plain": [
       "'C:\\\\Users\\\\aviad\\\\AppData\\\\Roaming\\\\Python\\\\Python37\\\\site-packages'"
      ]
     },
     "execution_count": 55,
     "metadata": {},
     "output_type": "execute_result"
    }
   ],
   "source": [
    "# programmatically with python\n",
    "site.getusersitepackages()"
   ]
  },
  {
   "cell_type": "code",
   "execution_count": 56,
   "metadata": {},
   "outputs": [
    {
     "name": "stdout",
     "output_type": "stream",
     "text": [
      "C:\\Users\\aviad\\AppData\\Roaming\\Python\\Python37\\site-packages\n"
     ]
    }
   ],
   "source": [
    "# from the shell / command-line\n",
    "!python -m site --user-site"
   ]
  },
  {
   "cell_type": "markdown",
   "metadata": {},
   "source": [
    "what local packages do I have?"
   ]
  },
  {
   "cell_type": "code",
   "execution_count": 57,
   "metadata": {},
   "outputs": [],
   "source": [
    "!pip list --user -v"
   ]
  },
  {
   "cell_type": "code",
   "execution_count": null,
   "metadata": {},
   "outputs": [],
   "source": []
  },
  {
   "cell_type": "markdown",
   "metadata": {},
   "source": [
    "# Development of Projects with Different Dependencies\n",
    "\n",
    "Let's talk about another common issue that arises when you’re working on multiple projects. Imagine that ProjectA needs `django==1.9`, but ProjectB needs `django==1.10`.\n",
    "\n",
    "By default, Python tries to store all your third-party packages in the system-wide location. This means that every time you want to switch between ProjectA and ProjectB, you have to make sure the right version of django is installed. This makes switching between projects painful because you have to uninstall and reinstall packages to meet the requirements for each project.\n",
    "\n",
    "The standard solution is to use a virtual environment that has its own Python executable and third-party package storage. That way, ProjectA and ProjectB are adequately separated. Now you can easily switch between projects since they’re not sharing the same package storage location. PackageA can have whatever version of django it needs in its own environment, and PackageB can have what it needs totally separate. \n",
    "\n",
    "We will show **Pipenv** as a solution to this problem, Pipenv is kinda new but it has already been blessed by the developers of pip\n",
    "\n",
    "> a common, slightly older way to fix this issue is using [virtualenv](https://virtualenv.pypa.io/en/latest/) + [virtualenvwrapper](https://virtualenvwrapper.readthedocs.io/en/latest/). <br>\n",
    "> see this [stackoverflow answer](https://stackoverflow.com/a/41573588/52917) for a nice comparison of tools\n",
    "\n",
    "Pipenv has virtual environment management built in so that you have a single tool for your package management."
   ]
  },
  {
   "cell_type": "markdown",
   "metadata": {},
   "source": [
    "## installing pipenv\n",
    "```\n",
    "pip install --user pipenv\n",
    "```\n",
    "\n",
    "> **Note**\n",
    "This does a user installation to prevent breaking any system-wide packages. If pipenv isn’t available in your shell after installation, you’ll need to add the user base’s binary directory to your PATH."
   ]
  },
  {
   "cell_type": "code",
   "execution_count": 59,
   "metadata": {},
   "outputs": [],
   "source": [
    "!pip -q install --user pipenv"
   ]
  },
  {
   "cell_type": "code",
   "execution_count": null,
   "metadata": {},
   "outputs": [],
   "source": []
  }
 ],
 "metadata": {
  "kernelspec": {
   "display_name": "Python 3",
   "language": "python",
   "name": "python3"
  },
  "language_info": {
   "codemirror_mode": {
    "name": "ipython",
    "version": 3
   },
   "file_extension": ".py",
   "mimetype": "text/x-python",
   "name": "python",
   "nbconvert_exporter": "python",
   "pygments_lexer": "ipython3",
   "version": "3.7.3"
  }
 },
 "nbformat": 4,
 "nbformat_minor": 2
}
